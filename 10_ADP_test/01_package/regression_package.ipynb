{
 "cells": [
  {
   "cell_type": "markdown",
   "metadata": {},
   "source": [
    "# 패키지 불러오기"
   ]
  },
  {
   "cell_type": "code",
   "execution_count": 1,
   "metadata": {
    "ExecuteTime": {
     "end_time": "2021-11-25T00:20:59.044007Z",
     "start_time": "2021-11-25T00:20:57.740640Z"
    }
   },
   "outputs": [],
   "source": [
    "import numpy as np\n",
    "import pandas as pd\n",
    "import json\n",
    "import datetime as dt\n",
    "import matplotlib.pyplot as plt\n",
    "import matplotlib.ticker as ticker\n",
    "%matplotlib inline\n",
    "import seaborn as sns\n",
    "import re\n",
    "import glob\n",
    "import os\n",
    "\n",
    "from scipy import stats\n",
    "from scipy.integrate import trapz\n",
    "\n",
    "import missingno as msno\n",
    "\n",
    "import warnings\n",
    "warnings.filterwarnings('ignore')\n",
    "pd.set_option('max_columns', 20, 'max_rows', 20, 'max_colwidth', 10)"
   ]
  },
  {
   "cell_type": "code",
   "execution_count": 2,
   "metadata": {
    "ExecuteTime": {
     "end_time": "2021-11-25T00:21:00.876258Z",
     "start_time": "2021-11-25T00:20:59.077015Z"
    },
    "scrolled": true
   },
   "outputs": [],
   "source": [
    "# 전처리\n",
    "from sklearn.preprocessing import LabelEncoder, OneHotEncoder\n",
    "from sklearn.preprocessing import StandardScaler, MinMaxScaler\n",
    "from sklearn.preprocessing import Binarizer\n",
    "from sklearn.preprocessing import PolynomialFeatures\n",
    "from sklearn.decomposition import PCA\n",
    "\n",
    "## 알고리즘(회귀)\n",
    "from sklearn import linear_model\n",
    "from sklearn.tree import DecisionTreeRegressor\n",
    "from sklearn.ensemble import RandomForestRegressor\n",
    "from sklearn.ensemble import GradientBoostingRegressor\n",
    "from sklearn.linear_model import LinearRegression\n",
    "from sklearn.linear_model import Ridge, Lasso, ElasticNet\n",
    "from xgboost import XGBRegressor\n",
    "from lightgbm import LGBMRegressor\n",
    "import statsmodels.api as sm\n",
    "\n",
    "## 데이터 셋 만들기\n",
    "from sklearn.model_selection import train_test_split, StratifiedKFold, KFold\n",
    "from sklearn.model_selection import cross_val_score, GridSearchCV, RepeatedStratifiedKFold\n",
    "from sklearn.metrics import make_scorer\n",
    "\n",
    "# 파이프라인\n",
    "from sklearn.pipeline import Pipeline\n",
    "\n",
    "## 데이터 평가\n",
    "from sklearn.metrics import confusion_matrix, accuracy_score, precision_score, recall_score\n",
    "from sklearn.metrics import roc_auc_score, roc_curve, f1_score\n",
    "from sklearn.metrics import mean_squared_error, mean_absolute_error, r2_score\n",
    "from sklearn.metrics import silhouette_score, silhouette_samples\n",
    "from sklearn.metrics import precision_recall_curve"
   ]
  },
  {
   "cell_type": "markdown",
   "metadata": {},
   "source": [
    "# 데이터 입력 및 조정"
   ]
  },
  {
   "cell_type": "code",
   "execution_count": 4,
   "metadata": {
    "ExecuteTime": {
     "end_time": "2021-11-25T00:21:07.082626Z",
     "start_time": "2021-11-25T00:21:07.025613Z"
    }
   },
   "outputs": [],
   "source": [
    "train = pd.read_csv(r'C:\\puzzledata\\OneDrive - 퍼즐데이터\\01_sejin\\03_ADP\\02_실기\\03_연습\\5장\\bike-sharing-demand\\train.csv')\n",
    "test = pd.read_csv(r'C:\\puzzledata\\OneDrive - 퍼즐데이터\\01_sejin\\03_ADP\\02_실기\\03_연습\\5장\\bike-sharing-demand\\test.csv')"
   ]
  },
  {
   "cell_type": "code",
   "execution_count": 5,
   "metadata": {
    "ExecuteTime": {
     "end_time": "2021-11-25T00:21:08.535766Z",
     "start_time": "2021-11-25T00:21:08.513761Z"
    }
   },
   "outputs": [],
   "source": [
    "bike_df = pd.concat([train, test], axis=0)"
   ]
  },
  {
   "cell_type": "code",
   "execution_count": 6,
   "metadata": {
    "ExecuteTime": {
     "end_time": "2021-11-25T00:21:09.535658Z",
     "start_time": "2021-11-25T00:21:09.521655Z"
    }
   },
   "outputs": [],
   "source": [
    "bike_df = bike_df.reset_index(drop=True)"
   ]
  },
  {
   "cell_type": "code",
   "execution_count": 7,
   "metadata": {
    "ExecuteTime": {
     "end_time": "2021-11-25T00:21:10.042180Z",
     "start_time": "2021-11-25T00:21:10.025177Z"
    }
   },
   "outputs": [],
   "source": [
    "bike_df['datetime'] = pd.to_datetime(bike_df['datetime'])"
   ]
  },
  {
   "cell_type": "code",
   "execution_count": 8,
   "metadata": {
    "ExecuteTime": {
     "end_time": "2021-11-25T00:21:10.693370Z",
     "start_time": "2021-11-25T00:21:10.673366Z"
    }
   },
   "outputs": [],
   "source": [
    "bike_df['year'] = bike_df['datetime'].dt.year\n",
    "bike_df['month'] = bike_df['datetime'].dt.month\n",
    "bike_df['day'] = bike_df['datetime'].dt.day\n",
    "bike_df['hour'] = bike_df['datetime'].dt.hour"
   ]
  },
  {
   "cell_type": "code",
   "execution_count": 9,
   "metadata": {
    "ExecuteTime": {
     "end_time": "2021-11-25T00:21:11.491348Z",
     "start_time": "2021-11-25T00:21:11.473344Z"
    }
   },
   "outputs": [],
   "source": [
    "bike_df = bike_df.drop('datetime', axis=1)"
   ]
  },
  {
   "cell_type": "code",
   "execution_count": 10,
   "metadata": {
    "ExecuteTime": {
     "end_time": "2021-11-25T00:21:13.949974Z",
     "start_time": "2021-11-25T00:21:13.936972Z"
    }
   },
   "outputs": [],
   "source": [
    "train_1 = bike_df[:train.shape[0]]\n",
    "test_1 = bike_df[:test.shape[0]]"
   ]
  },
  {
   "cell_type": "code",
   "execution_count": 11,
   "metadata": {
    "ExecuteTime": {
     "end_time": "2021-11-25T00:21:14.248142Z",
     "start_time": "2021-11-25T00:21:14.232137Z"
    }
   },
   "outputs": [],
   "source": [
    "X_features = train_1.drop('count', axis=1)\n",
    "y_target = train_1[['count']]"
   ]
  },
  {
   "cell_type": "markdown",
   "metadata": {
    "ExecuteTime": {
     "end_time": "2021-08-26T01:23:40.585670Z",
     "start_time": "2021-08-26T01:23:40.571708Z"
    }
   },
   "source": [
    "# 데이터 확인"
   ]
  },
  {
   "cell_type": "markdown",
   "metadata": {},
   "source": [
    "## y값 정규성 확인"
   ]
  },
  {
   "cell_type": "code",
   "execution_count": 12,
   "metadata": {
    "ExecuteTime": {
     "end_time": "2021-11-25T00:21:17.233868Z",
     "start_time": "2021-11-25T00:21:17.017820Z"
    }
   },
   "outputs": [
    {
     "data": {
      "text/plain": [
       "<AxesSubplot:ylabel='Density'>"
      ]
     },
     "execution_count": 12,
     "metadata": {},
     "output_type": "execute_result"
    },
    {
     "data": {
      "image/png": "[encoded data removed]",
      "text/plain": [
       "<Figure size 432x288 with 1 Axes>"
      ]
     },
     "metadata": {
      "needs_background": "light"
     },
     "output_type": "display_data"
    }
   ],
   "source": [
    "sns.distplot(y_target)"
   ]
  },
  {
   "cell_type": "code",
   "execution_count": 13,
   "metadata": {
    "ExecuteTime": {
     "end_time": "2021-11-25T00:21:18.021440Z",
     "start_time": "2021-11-25T00:21:17.828396Z"
    }
   },
   "outputs": [
    {
     "data": {
      "text/plain": [
       "<AxesSubplot:ylabel='Density'>"
      ]
     },
     "execution_count": 13,
     "metadata": {},
     "output_type": "execute_result"
    },
    {
     "data": {
      "image/png": "[encoded data removed]",
      "text/plain": [
       "<Figure size 432x288 with 1 Axes>"
      ]
     },
     "metadata": {
      "needs_background": "light"
     },
     "output_type": "display_data"
    }
   ],
   "source": [
    "sns.distplot(np.log1p(y_target))"
   ]
  },
  {
   "cell_type": "code",
   "execution_count": 14,
   "metadata": {
    "ExecuteTime": {
     "end_time": "2021-11-25T00:21:18.919159Z",
     "start_time": "2021-11-25T00:21:18.745123Z"
    }
   },
   "outputs": [
    {
     "data": {
      "text/plain": [
       "<AxesSubplot:ylabel='Density'>"
      ]
     },
     "execution_count": 14,
     "metadata": {},
     "output_type": "execute_result"
    },
    {
     "data": {
      "image/png": "[encoded data removed]",
      "text/plain": [
       "<Figure size 432x288 with 1 Axes>"
      ]
     },
     "metadata": {
      "needs_background": "light"
     },
     "output_type": "display_data"
    }
   ],
   "source": [
    "scaler = StandardScaler()\n",
    "y_target_S = scaler.fit_transform(y_target)\n",
    "sns.distplot(y_target_S)"
   ]
  },
  {
   "cell_type": "code",
   "execution_count": 15,
   "metadata": {
    "ExecuteTime": {
     "end_time": "2021-11-25T00:27:34.827699Z",
     "start_time": "2021-11-25T00:27:34.809696Z"
    }
   },
   "outputs": [
    {
     "data": {
      "text/plain": [
       "array([[-0.9692938 ],\n",
       "       [-0.83679677],\n",
       "       [-0.88096245],\n",
       "       ...,\n",
       "       [-0.13014594],\n",
       "       [-0.34545361],\n",
       "       [-0.57180271]])"
      ]
     },
     "execution_count": 15,
     "metadata": {},
     "output_type": "execute_result"
    }
   ],
   "source": [
    "y_target_S"
   ]
  },
  {
   "cell_type": "code",
   "execution_count": 16,
   "metadata": {
    "ExecuteTime": {
     "end_time": "2021-11-25T00:27:36.172139Z",
     "start_time": "2021-11-25T00:27:36.002100Z"
    }
   },
   "outputs": [
    {
     "data": {
      "text/plain": [
       "<AxesSubplot:ylabel='Density'>"
      ]
     },
     "execution_count": 16,
     "metadata": {},
     "output_type": "execute_result"
    },
    {
     "data": {
      "image/png": "[encoded data removed]",
      "text/plain": [
       "<Figure size 432x288 with 1 Axes>"
      ]
     },
     "metadata": {
      "needs_background": "light"
     },
     "output_type": "display_data"
    }
   ],
   "source": [
    "sns.distplot(np.log1p(y_target_S))"
   ]
  },
  {
   "cell_type": "markdown",
   "metadata": {},
   "source": [
    "## x값 선형성 확인"
   ]
  },
  {
   "cell_type": "code",
   "execution_count": 17,
   "metadata": {
    "ExecuteTime": {
     "end_time": "2021-11-25T00:27:48.000174Z",
     "start_time": "2021-11-25T00:27:41.377984Z"
    }
   },
   "outputs": [
    {
     "data": {
      "image/png": "[encoded data removed]",
      "text/plain": [
       "<Figure size 1152x1152 with 16 Axes>"
      ]
     },
     "metadata": {
      "needs_background": "light"
     },
     "output_type": "display_data"
    }
   ],
   "source": [
    "# 2개의 행과 4개의 열을 가진 subplots를 이용. axs는 4x2개의 ax를 가짐.\n",
    "fig, axs = plt.subplots(figsize=(16,16) , ncols=4 , nrows=4)\n",
    "\n",
    "features = ['season', 'holiday', 'workingday', 'weather', 'temp', 'atemp',\n",
    "       'humidity', 'windspeed', 'casual', 'registered', 'year',\n",
    "       'month', 'day', 'hour']\n",
    "\n",
    "for i , feature in enumerate(features):\n",
    "    row = int(i/4)\n",
    "    col = i%4\n",
    "    # 시본의 regplot을 이용해 산점도와 선형 회귀 직선을 함께 표현\n",
    "    sns.regplot(x=feature , y='count',data=train_1 , ax=axs[row][col])"
   ]
  },
  {
   "cell_type": "markdown",
   "metadata": {},
   "source": [
    "# 전처리\n",
    "* y값을 먼저 정규화하고 로그값을 씌여 정규분표화로 만든다. 그래야 모델학습이 잘 됨\n",
    "* 다음으로 X값을 정규분포로 만듬"
   ]
  },
  {
   "cell_type": "markdown",
   "metadata": {},
   "source": [
    "## 컬럼 늘리기"
   ]
  },
  {
   "cell_type": "markdown",
   "metadata": {},
   "source": [
    "### Polynomial Regression"
   ]
  },
  {
   "cell_type": "code",
   "execution_count": null,
   "metadata": {},
   "outputs": [],
   "source": [
    "# 다항식으로 변환한 단항식 생성, [[0,1],[2,3]]의 2X2 행렬 생성\n",
    "X = np.arange(4).reshape(2,2)\n",
    "print('일차 단항식 계수 feature:\\n',X )\n",
    "\n",
    "# degree = 2 인 2차 다항식으로 변환하기 위해 PolynomialFeatures를 이용하여 변환\n",
    "poly = PolynomialFeatures(degree=2)\n",
    "poly.fit(X)\n",
    "poly_ftr = poly.transform(X)\n",
    "print('변환된 2차 다항식 계수 feature:\\n', poly_ftr)"
   ]
  },
  {
   "cell_type": "markdown",
   "metadata": {},
   "source": [
    "## 데이터 분리"
   ]
  },
  {
   "cell_type": "markdown",
   "metadata": {},
   "source": [
    "### train_test_split"
   ]
  },
  {
   "cell_type": "code",
   "execution_count": null,
   "metadata": {},
   "outputs": [],
   "source": [
    "X_train, X_test, y_train, y_test = train_test_split(X_features, y_target, test_size = 0.2, random_state = 156, stratify=y_target)\n",
    "\n",
    "print('학습 세트 Shape:{0}, 테스트 세트 Shape:{1}'.format(X_train.shape , X_test.shape))\n",
    "\n",
    "print(' 학습 세트 레이블 값 분포 비율')\n",
    "print(y_train.value_counts()/y_train.count())\n",
    "print('\\n 테스트 세트 레이블 값 분포 비율')\n",
    "print(y_test.value_counts()/y_test.count())"
   ]
  },
  {
   "cell_type": "markdown",
   "metadata": {},
   "source": [
    "### K-fold(전처리 후 진행해야 함)\n",
    "- 1,2,3,4 폴드로 한번씩 나눠서 뿌리기 때문에 예측도 같이 돌려야 함"
   ]
  },
  {
   "cell_type": "code",
   "execution_count": null,
   "metadata": {},
   "outputs": [],
   "source": [
    "ridge_reg = Ridge(random_state=156)\n",
    "\n",
    "# 5개의 폴드 세트로 분리하는 KFold 객체와 폴드 세트별 정확도를 담을 리스트 객체 생성.\n",
    "kfold = KFold(n_splits=5)\n",
    "n_iter = 0\n",
    "cv_mse = []\n",
    "\n",
    "# KFold객체의 split( ) 호출하면 폴드 별 학습용, 검증용 테스트의 로우 인덱스를 array로 반환  \n",
    "for train_index, test_index  in kfold.split(X_features):\n",
    "    # kfold.split( )으로 반환된 인덱스를 이용하여 학습용, 검증용 테스트 데이터 추출\n",
    "    X_train, X_test = X_features[train_index], X_features[test_index]\n",
    "    y_train, y_test = y_target[train_index], y_target[test_index]\n",
    "    \n",
    "    #학습 및 예측 \n",
    "    ridge_reg.fit(X_train , y_train)\n",
    "    pred = dt_clf.predict(X_test)\n",
    "    n_iter += 1\n",
    "    \n",
    "    # 반복 시 마다 정확도 측정 \n",
    "    mse = np.round(mean_squared_error(y_test, pred), 4)\n",
    "    train_size = X_train.shape[0]\n",
    "    test_size = X_test.shape[0]\n",
    "    print('MSE : {0:.3f} , RMSE : {1:.3F}'.format(mean_squared_error(y_test, pred),\n",
    "                                                  np.sqrt(mean_squared_error(y_test, pred))))\n",
    "    print('Variance score : {0:.3f}'.format(r2_score(y_test, ridge_pred)))\n",
    "    \n",
    "    print('\\n#{0} 교차 검증 정확도 :{1}, 학습 데이터 크기: {2}, 검증 데이터 크기: {3}'\n",
    "          .format(n_iter, accuracy, train_size, test_size))\n",
    "    print('#{0} 검증 세트 인덱스:{1}'.format(n_iter,test_index))\n",
    "    \n",
    "    cv_mse.append(mse)\n",
    "    \n",
    "# 개별 iteration별 정확도를 합하여 평균 정확도 계산 \n",
    "print('\\n## 평균 검증 정확도:', np.mean(cv_mse)) "
   ]
  },
  {
   "cell_type": "markdown",
   "metadata": {},
   "source": [
    "### Stratified K-fold(전처리 후 진행해야 함)"
   ]
  },
  {
   "cell_type": "code",
   "execution_count": null,
   "metadata": {},
   "outputs": [],
   "source": [
    "ridge_reg = Ridge(random_state=156)\n",
    "\n",
    "# 5개의 폴드 세트로 분리하는 KFold 객체와 폴드 세트별 정확도를 담을 리스트 객체 생성.\n",
    "skfold = StratifiedKFold(n_splits=3)\n",
    "n_iter = 0\n",
    "cv_mse = []\n",
    "\n",
    "# KFold객체의 split( ) 호출하면 폴드 별 학습용, 검증용 테스트의 로우 인덱스를 array로 반환  \n",
    "for train_index, test_index  in skfold.split(X_features, y_target):\n",
    "    # kfold.split( )으로 반환된 인덱스를 이용하여 학습용, 검증용 테스트 데이터 추출\n",
    "    X_train, X_test = X_features[train_index], X_features[test_index]\n",
    "    y_train, y_test = y_target[train_index], y_target[test_index]\n",
    "    \n",
    "    #학습 및 예측 \n",
    "    ridge_reg.fit(X_train , y_train)\n",
    "    pred = dt_clf.predict(X_test)\n",
    "    n_iter += 1\n",
    "    \n",
    "    # 반복 시 마다 정확도 측정 \n",
    "    mse = np.round(mean_squared_error(y_test, pred), 4)\n",
    "    train_size = X_train.shape[0]\n",
    "    test_size = X_test.shape[0]\n",
    "    print('MSE : {0:.3f} , RMSE : {1:.3F}'.format(mean_squared_error(y_test, pred),\n",
    "                                                  np.sqrt(mean_squared_error(y_test, pred))))\n",
    "    print('Variance score : {0:.3f}'.format(r2_score(y_test, ridge_pred)))\n",
    "    \n",
    "    print('\\n#{0} 교차 검증 정확도 :{1}, 학습 데이터 크기: {2}, 검증 데이터 크기: {3}'\n",
    "          .format(n_iter, accuracy, train_size, test_size))\n",
    "    print('#{0} 검증 세트 인덱스:{1}'.format(n_iter,test_index))\n",
    "    \n",
    "    cv_mse.append(mse)\n",
    "    \n",
    "# 개별 iteration별 정확도를 합하여 평균 정확도 계산 \n",
    "print('\\n## 평균 검증 정확도:', np.mean(cv_mse)) "
   ]
  },
  {
   "cell_type": "markdown",
   "metadata": {},
   "source": [
    "## 범주 데이터 수치화"
   ]
  },
  {
   "cell_type": "markdown",
   "metadata": {},
   "source": [
    "### get_dummies"
   ]
  },
  {
   "cell_type": "markdown",
   "metadata": {},
   "source": [
    "### Label Incoding"
   ]
  },
  {
   "cell_type": "markdown",
   "metadata": {},
   "source": [
    "### one-hot Incoding"
   ]
  },
  {
   "cell_type": "markdown",
   "metadata": {},
   "source": [
    "## Scaler"
   ]
  },
  {
   "cell_type": "markdown",
   "metadata": {},
   "source": [
    "### StandardScaler"
   ]
  },
  {
   "cell_type": "code",
   "execution_count": null,
   "metadata": {},
   "outputs": [],
   "source": [
    "# X_features scaling\n",
    "scaler = StandardScaler()\n",
    "scaler = scaler.fit(X_train)\n",
    "X_train_S = pd.DataFrame(scaler.transform(X_train), \n",
    "                                       index=X_train.index, columns=X_train.columns)\n",
    "X_test_S = pd.DataFrame(scaler.transform(X_test), \n",
    "                           index=X_test.index, columns=X_test.columns)\n",
    "display(X_test_S.describe().T)\n",
    "\n",
    "# y_target scaling\n",
    "scaler = StandardScaler()\n",
    "scaler = scaler.fit(y_train)\n",
    "y_train_S = pd.DataFrame(scaler.transform(y_train), \n",
    "                                       index=y_train.index, columns=y_train.columns)\n",
    "y_test_S = pd.DataFrame(scaler.transform(y_test), \n",
    "                           index=y_test.index, columns=y_test.columns)\n",
    "display(y_test_S.describe().T)"
   ]
  },
  {
   "cell_type": "markdown",
   "metadata": {},
   "source": [
    "### MinMaxScaler"
   ]
  },
  {
   "cell_type": "code",
   "execution_count": null,
   "metadata": {},
   "outputs": [],
   "source": [
    "# X_features scaling\n",
    "scaler = MinMaxScaler()\n",
    "scaler = scaler.fit(X_train)\n",
    "X_train_S = pd.DataFrame(scaler.transform(X_train), \n",
    "                                       index=X_train.index, columns=X_train.columns)\n",
    "X_test_S = pd.DataFrame(scaler.transform(X_test), \n",
    "                           index=X_test.index, columns=X_test.columns)\n",
    "display(X_test_S.describe().T)\n",
    "\n",
    "# y_target scaling\n",
    "scaler = MinMaxScaler()\n",
    "scaler = scaler.fit(y_train)\n",
    "y_train_S = pd.DataFrame(scaler.transform(y_train), \n",
    "                                       index=y_train.index, columns=y_train.columns)\n",
    "y_test_S = pd.DataFrame(scaler.transform(y_test), \n",
    "                           index=y_test.index, columns=y_test.columns)\n",
    "display(y_test_S.describe().T)"
   ]
  },
  {
   "cell_type": "markdown",
   "metadata": {},
   "source": [
    "### Normalizer"
   ]
  },
  {
   "cell_type": "code",
   "execution_count": null,
   "metadata": {},
   "outputs": [],
   "source": [
    "# X_features scaling\n",
    "scaler = Normalizer()\n",
    "scaler = scaler.fit(X_train)\n",
    "X_train_S = pd.DataFrame(scaler.transform(X_train), \n",
    "                                       index=X_train.index, columns=X_train.columns)\n",
    "X_test_S = pd.DataFrame(scaler.transform(X_test), \n",
    "                           index=X_test.index, columns=X_test.columns)\n",
    "display(X_test_S.describe().T)\n",
    "\n",
    "# y_target scaling\n",
    "scaler = Normalizer()\n",
    "scaler = scaler.fit(y_train)\n",
    "y_train_S = pd.DataFrame(scaler.transform(y_train), \n",
    "                                       index=y_train.index, columns=y_train.columns)\n",
    "y_test_S = pd.DataFrame(scaler.transform(y_test), \n",
    "                           index=y_test.index, columns=y_test.columns)\n",
    "display(y_test_S.describe().T)"
   ]
  },
  {
   "cell_type": "markdown",
   "metadata": {},
   "source": [
    "### Log1p"
   ]
  },
  {
   "cell_type": "code",
   "execution_count": null,
   "metadata": {},
   "outputs": [],
   "source": [
    "# X_features scaling\n",
    "X_train_S = pd.DataFrame(np.log1p(X_train), index=X_train.index, columns=X_train.columns)\n",
    "X_test_S = pd.DataFrame(np.log1p(X_test), index=X_test.index, columns=X_test.columns)\n",
    "display(X_test_S.describe().T)\n",
    "\n",
    "# y_target scaling\n",
    "y_train_S = pd.DataFrame(np.log1p(y_train), index=X_train.index, columns=y_train.columns)\n",
    "y_test_S = pd.DataFrame(np.log1p(y_test), index=y_test.index, columns=y_test.columns)\n",
    "display(y_test_S.describe().T)"
   ]
  },
  {
   "cell_type": "markdown",
   "metadata": {},
   "source": [
    "## 다중공선성제거"
   ]
  },
  {
   "cell_type": "markdown",
   "metadata": {},
   "source": [
    "### VIF"
   ]
  },
  {
   "cell_type": "markdown",
   "metadata": {},
   "source": [
    "#### 상관도 확인"
   ]
  },
  {
   "cell_type": "code",
   "execution_count": null,
   "metadata": {},
   "outputs": [],
   "source": [
    "corr = X_features.corr()\n",
    "plt.figure(figsize=(14,14))\n",
    "sns.heatmap(corr, annot=True, fmt='.1g')"
   ]
  },
  {
   "cell_type": "code",
   "execution_count": null,
   "metadata": {},
   "outputs": [],
   "source": [
    "# correlation from features\n",
    "raw_df.corr().loc[X_colname, X_colname].style.background_gradient().set_precision(2).set_properties(**{'font-size': '11pt'})"
   ]
  },
  {
   "cell_type": "code",
   "execution_count": null,
   "metadata": {},
   "outputs": [],
   "source": [
    "corr = X_features.corr().loc[:, ['count']]"
   ]
  },
  {
   "cell_type": "code",
   "execution_count": null,
   "metadata": {},
   "outputs": [],
   "source": [
    "corr = X_features.corr().loc[:, ['count']].style.background_gradient().set_precision(2).set_properties(**{'font-size': '11pt'})"
   ]
  },
  {
   "cell_type": "code",
   "execution_count": null,
   "metadata": {},
   "outputs": [],
   "source": [
    "for col in raw_df.describe().columns:\n",
    "    target = raw_df[col]\n",
    "    figure, axes = plt.subplots(2,1,figsize=(16,10))\n",
    "    sm.graphics.tsa.plot_acf(target, lags=100, use_vlines=True, ax=axes[0], title=col)\n",
    "    sm.graphics.tsa.plot_pacf(target, lags=100, use_vlines=True, ax=axes[1], title=col)"
   ]
  },
  {
   "cell_type": "code",
   "execution_count": null,
   "metadata": {},
   "outputs": [],
   "source": [
    "vif = pd.DataFrame()\n",
    "vif['VIF_Factor'] = [variance_inflation_factor(X_train_S.values, i)\n",
    "                     for i in range(X_train_S.shape[1])]\n",
    "vif['Feature'] = X_train_S.columns\n",
    "vif.sort_values(by='VIF_Factor', ascending=True)"
   ]
  },
  {
   "cell_type": "code",
   "execution_count": null,
   "metadata": {},
   "outputs": [],
   "source": [
    "# extract effective features using variance inflation factor\n",
    "vif = pd.DataFrame()\n",
    "vif['VIF_Factor'] = [variance_inflation_factor(X_train_S.values, i) \n",
    "                     for i in range(X_train_S.shape[1])]\n",
    "vif['Feature'] = X_train_S.columns\n",
    "vif.sort_values(by='VIF_Factor', ascending=True)['Feature'][:10].values"
   ]
  },
  {
   "cell_type": "markdown",
   "metadata": {},
   "source": [
    "#### 독립변수 일부 반영"
   ]
  },
  {
   "cell_type": "code",
   "execution_count": null,
   "metadata": {},
   "outputs": [],
   "source": [
    "### Functionalize\n",
    "### extract non-multicollinearity variables by VIF \n",
    "def feature_engineering_XbyVIF(X_train, num_variables):\n",
    "    vif = pd.DataFrame()\n",
    "    vif['VIF_Factor'] = [variance_inflation_factor(X_train.values, i) \n",
    "                         for i in range(X_train.shape[1])]\n",
    "    vif['Feature'] = X_train.columns\n",
    "    X_colname_vif = vif.sort_values(by='VIF_Factor', ascending=True)['Feature'][:num_variables].values\n",
    "    return X_colname_vif\n",
    "# X_colname_vif = feature_engineer"
   ]
  },
  {
   "cell_type": "code",
   "execution_count": null,
   "metadata": {},
   "outputs": [],
   "source": [
    "feature_engineering_XbyVIF(X_train_S, 10)"
   ]
  },
  {
   "cell_type": "markdown",
   "metadata": {},
   "source": [
    "### PCA"
   ]
  },
  {
   "cell_type": "code",
   "execution_count": 23,
   "metadata": {
    "ExecuteTime": {
     "end_time": "2021-11-25T00:30:00.894678Z",
     "start_time": "2021-11-25T00:30:00.865672Z"
    }
   },
   "outputs": [
    {
     "name": "stdout",
     "output_type": "stream",
     "text": [
      "PCA Component별 변동성: [0.90625295 0.07186388 0.01272779]\n"
     ]
    }
   ],
   "source": [
    "pca = PCA(n_components=3)\n",
    "\n",
    "#fit( )과 transform( ) 을 호출하여 PCA 변환 데이터 반환\n",
    "pca.fit(X_features)\n",
    "X_features_pca = pca.transform(X_features)\n",
    "\n",
    "print('PCA Component별 변동성:', pca.explained_variance_ratio_)"
   ]
  },
  {
   "cell_type": "markdown",
   "metadata": {},
   "source": [
    "### LDA"
   ]
  },
  {
   "cell_type": "code",
   "execution_count": null,
   "metadata": {},
   "outputs": [],
   "source": [
    "lda = LinearDiscriminantAnalysis(n_components=2)\n",
    "# fit()호출 시 target값 입력\n",
    "lda.fit(X_features, y_target)\n",
    "X_features_lda = lda.transform(X_features)\n",
    "print(iris_lda.shape)"
   ]
  },
  {
   "cell_type": "code",
   "execution_count": null,
   "metadata": {},
   "outputs": [],
   "source": [
    "lda_columns=['lda_component_1','lda_component_2']\n",
    "X_lda_df = pd.DataFrame(X_features_lda,columns=lda_columns)\n",
    "X_lda_df['target']=y_target"
   ]
  },
  {
   "cell_type": "markdown",
   "metadata": {},
   "source": [
    "### SVD(미완)"
   ]
  },
  {
   "cell_type": "markdown",
   "metadata": {},
   "source": [
    "### Truncated SVD(미완)"
   ]
  },
  {
   "cell_type": "markdown",
   "metadata": {},
   "source": [
    "### NMF(미완)"
   ]
  },
  {
   "cell_type": "markdown",
   "metadata": {},
   "source": [
    "# 기본 통계"
   ]
  },
  {
   "cell_type": "code",
   "execution_count": null,
   "metadata": {},
   "outputs": [],
   "source": [
    "from scipy import stats"
   ]
  },
  {
   "cell_type": "markdown",
   "metadata": {},
   "source": [
    "## 단일표본 t-test"
   ]
  },
  {
   "cell_type": "code",
   "execution_count": null,
   "metadata": {},
   "outputs": [],
   "source": [
    "# 1-sample\n",
    "stats.ttest_1samp(raw_df['col'], 4500)\n",
    "\n",
    "# 검정통계량 구하는 방법, p-value 구하는 방법 알아야 함"
   ]
  },
  {
   "cell_type": "markdown",
   "metadata": {},
   "source": [
    "## 독립표본 t-test"
   ]
  },
  {
   "cell_type": "code",
   "execution_count": null,
   "metadata": {},
   "outputs": [],
   "source": [
    "#  https://www.youtube.com/watch?v=CYp4D4_20cc&list=PLCt8K88AxcKPucYITFaLshFeCIp8F9IGk&index=7\n",
    "# 여기서는 range 컬럼을 독립변수로 삼음\n",
    "# col 컬럼과 평균차이가 있다고 볼 수 있는가?\n",
    "close = raw_df[raw_df['range'] == 1]\n",
    "range1 = np.array(close['col'])\n",
    "far = raw_df[raw_df['range'] == 2]\n",
    "range2 = np.array(far['col'])\n",
    "\n",
    "# 등분산 검정\n",
    "# p-value가 0.05보다 커야됨(기각하지 못하므로 등분산이 됨)\n",
    "stats.bartlett(range1, range2)"
   ]
  },
  {
   "cell_type": "code",
   "execution_count": null,
   "metadata": {},
   "outputs": [],
   "source": [
    "# independant-sample\n",
    "# equal_var는 등분산 여부\n",
    "stats.ttest_ind(range1, range2, equal_var=True)"
   ]
  },
  {
   "cell_type": "markdown",
   "metadata": {},
   "source": [
    "## 대응표본 t-test"
   ]
  },
  {
   "cell_type": "code",
   "execution_count": null,
   "metadata": {},
   "outputs": [],
   "source": [
    "# paired-sample\n",
    "stats.ttest_rel(raw_df['col_1'], raw_df['col_2'])"
   ]
  },
  {
   "cell_type": "markdown",
   "metadata": {},
   "source": [
    "## 상관계수"
   ]
  },
  {
   "cell_type": "code",
   "execution_count": null,
   "metadata": {},
   "outputs": [],
   "source": [
    "raw_df_corr = raw_df[['col_1', 'col_2', 'col_3']]\n",
    "\n",
    "# correlation-coefficient\n",
    "raw_df_corr.corr(method='pearson')"
   ]
  },
  {
   "cell_type": "markdown",
   "metadata": {},
   "source": [
    "## 편상관계수"
   ]
  },
  {
   "cell_type": "code",
   "execution_count": null,
   "metadata": {},
   "outputs": [],
   "source": [
    "# partial-correlation-coefficient\n",
    "# pip install pingouin 로 설치 후 사용가능\n",
    "from pingouin import parial_corr\n",
    "partial_corr(data=raw_df, x='stat', y='HP', covar='attack')"
   ]
  },
  {
   "cell_type": "markdown",
   "metadata": {},
   "source": [
    "# 통합 예측 및 평가"
   ]
  },
  {
   "cell_type": "markdown",
   "metadata": {},
   "source": [
    "## 로그값 취했을 경우 풀기 전환"
   ]
  },
  {
   "cell_type": "code",
   "execution_count": null,
   "metadata": {},
   "outputs": [],
   "source": [
    "# 로그를 취했을 경우 학습 후 로그 풀기\n",
    "y_test = np.expm1(y_test)\n",
    "ridge_pred = np.expm1(ridge_pred)\n",
    "\n",
    "# 평가\n",
    "evaluate_regr(y_test, ridge_pred)"
   ]
  },
  {
   "cell_type": "markdown",
   "metadata": {},
   "source": [
    "## 평가 함수"
   ]
  },
  {
   "cell_type": "code",
   "execution_count": 47,
   "metadata": {
    "ExecuteTime": {
     "end_time": "2021-08-31T01:07:51.758069Z",
     "start_time": "2021-08-31T01:07:51.741116Z"
    }
   },
   "outputs": [],
   "source": [
    "from sklearn.metrics import mean_squared_error, mean_absolute_error\n",
    "\n",
    "# log 값 변환 시 언더플로우 영향으로 log() 가 아닌 log1p() 를 이용하여 RMSLE 계산\n",
    "def rmsle(y, pred):\n",
    "    log_y = np.log1p(y)\n",
    "    log_pred = np.log1p(pred)\n",
    "    squared_error = (log_y - log_pred) ** 2\n",
    "    rmsle = np.sqrt(np.mean(squared_error))\n",
    "    return rmsle\n",
    "\n",
    "def msle(y, pred):\n",
    "    log_y = np.log1p(y)\n",
    "    log_pred = np.log1p(pred)\n",
    "    squared_error = (log_y - log_pred) ** 2\n",
    "    msle = np.mean(squared_error)\n",
    "    return msle\n",
    "\n",
    "# 사이킷런의 mean_square_error() 를 이용하여 RMSE 계산\n",
    "def rmse(y,pred):\n",
    "    rmse = np.sqrt(mean_squared_error(y, pred))\n",
    "    return rmse\n",
    "\n",
    "def msle(y, pred):\n",
    "    log_y = np.log1p(y)\n",
    "    log_pred = np.log1p(pred)\n",
    "    squared_error = (log_y - log_pred) ** 2\n",
    "    msle = np.mean(squared_error)\n",
    "    return msle\n",
    "\n",
    "def mape(y, pred):\n",
    "    mape = np.mean(np.abs((y_test - pred) / y_test)) * 100\n",
    "    return mape\n",
    "\n",
    "# MAE, RMSE, RMSLE 를 모두 계산 \n",
    "def evaluate_regr(y,pred):\n",
    "    rmsle_val = rmsle(y,pred)\n",
    "    rmse_val = rmse(y,pred)\n",
    "    # MAE 는 scikit learn의 mean_absolute_error() 로 계산\n",
    "    msle_val = msle(y, pred)\n",
    "    mae_val = mean_absolute_error(y,pred)\n",
    "    mse_val = mean_squared_error(y, pred)\n",
    "    mape_val = mape(y, pred)\n",
    "    print('RMSLE: {0:.3f}, RMSE: {1:.3F}'.format(rmsle_val, rmse_val))\n",
    "    print('MSLE: {0:.3f}, MSE: {1:.3F}, MAE: {2:.3F}, MAPE: {2:.4F}'.format(msle_val, mse_val,\n",
    "                                                                            mae_val, mape_val))\n",
    "    print('-------------------------------------------------------------------------------------------------\\n')"
   ]
  },
  {
   "cell_type": "code",
   "execution_count": 45,
   "metadata": {
    "ExecuteTime": {
     "end_time": "2021-08-31T01:07:36.853186Z",
     "start_time": "2021-08-31T01:07:36.842216Z"
    }
   },
   "outputs": [],
   "source": [
    "# 모델과 학습/테스트 데이터 셋을 입력하면 성능 평가 수치를 반환\n",
    "def get_model_predict(model, X_train, X_test, y_train, y_test, is_expm1=False):\n",
    "    model.fit(X_train, y_train)\n",
    "    pred = model.predict(X_test)\n",
    "    if is_expm1 :\n",
    "        y_test = np.expm1(y_test)\n",
    "        pred = np.expm1(pred)\n",
    "    print('###',model.__class__.__name__,'###')\n",
    "    evaluate_regr(y_test, pred)"
   ]
  },
  {
   "cell_type": "code",
   "execution_count": 55,
   "metadata": {
    "ExecuteTime": {
     "end_time": "2021-08-31T01:21:51.922023Z",
     "start_time": "2021-08-31T01:21:51.913047Z"
    }
   },
   "outputs": [],
   "source": [
    "def get_model_cv_prediction(model, X_features, y_target):\n",
    "    neg_mse_scores = cross_val_score(model, X_features, y_target, scoring=\"neg_mean_squared_error\",\n",
    "                                     cv = 5, n_jobs=-1)\n",
    "    # MAE\n",
    "    mae_scores  = np.sqrt(abs(neg_mse_scores))\n",
    "    avg_mae = np.mean(mae_scores)\n",
    "    # MSE\n",
    "    mse_scores  = (-1 * neg_mse_scores)\n",
    "    avg_mse = np.mean(mse_scores)\n",
    "    # MAPE\n",
    "    mape_scores  = np.sqrt(abs(neg_mse_scores))*100\n",
    "    avg_mape = np.mean(mape_scores)\n",
    "    # RMSE\n",
    "    rmse_scores  = np.sqrt(-1 * neg_mse_scores)\n",
    "    avg_rmse = np.mean(rmse_scores)\n",
    "    \n",
    "    print('##### 5 교차 검증 ',model.__class__.__name__ , ' #####\\n')\n",
    "    print(' - MAE :\\n {0} '.format(mae_scores))\n",
    "    print(' - 평균 MAE :\\n {0:.3f} '.format(avg_mae))\n",
    "    print(' - MSE :\\n {0} '.format(mse_scores))\n",
    "    print(' - 평균 MSE :\\n {0:.3f} '.format(avg_mse))\n",
    "    print(' - MAPE :\\n {0} '.format(mape_scores))\n",
    "    print(' - 평균 MAPE :\\n {0:.3f} '.format(avg_mape))\n",
    "    print(' - RMSE :\\n {0} '.format(rmse_scores))\n",
    "    print(' - 평균 RMSE :\\n {0:.3f} '.format(avg_rmse))\n",
    "    print('-------------------------------------------------------------------------------------------------\\n')"
   ]
  },
  {
   "cell_type": "markdown",
   "metadata": {},
   "source": [
    "## 교차 검증 없이 예측 및 평가"
   ]
  },
  {
   "cell_type": "code",
   "execution_count": null,
   "metadata": {},
   "outputs": [],
   "source": [
    "# model 별로 평가 수행\n",
    "lr_reg = LinearRegression()\n",
    "ridge_reg = Ridge(alpha=0.1)\n",
    "lasso_reg = Lasso(alpha=0.1)\n",
    "ela_reg = ElasticNet(alpha=0.01, l1_ratio=0.7)\n",
    "dt_reg = DecisionTreeRegressor(max_depth=3, min_samples_split=3)\n",
    "rf_reg = RandomForestRegressor(n_estimators=500)\n",
    "gbm_reg = GradientBoostingRegressor(n_estimators=500)\n",
    "xgb_reg = XGBRegressor(n_estimators=500)\n",
    "lgbm_reg = LGBMRegressor(n_estimators=500)\n",
    "\n",
    "model_list = [lr_reg, ridge_reg, lasso_reg, ela_reg, dt_reg, rf_reg, gbm_reg, xgb_reg, lgbm_reg]\n",
    "\n",
    "for model in model_list:\n",
    "    get_model_predict(model, X_train, X_test, y_train, y_test,is_expm1=False)"
   ]
  },
  {
   "cell_type": "markdown",
   "metadata": {},
   "source": [
    "## 교차 검증을 포함한 예측 및 평가"
   ]
  },
  {
   "cell_type": "code",
   "execution_count": 54,
   "metadata": {
    "ExecuteTime": {
     "end_time": "2021-08-31T01:20:46.352625Z",
     "start_time": "2021-08-31T01:20:17.215816Z"
    }
   },
   "outputs": [
    {
     "name": "stdout",
     "output_type": "stream",
     "text": [
      "##### 5 교차 검증  LinearRegression  #####\n",
      "\n",
      " - MAE :\n",
      " [2.37458693e-13 8.46742511e-13 2.62454604e-13 2.28787807e-13\n",
      " 3.28225762e-13] \n",
      " - 평균 MAE :\n",
      " 0.000 \n",
      " - MSE :\n",
      " [5.63866309e-26 7.16972879e-25 6.88824189e-26 5.23438607e-26\n",
      " 1.07732151e-25] \n",
      " - 평균 MSE :\n",
      " 0.000 \n",
      " - MAPE :\n",
      " [2.37458693e-11 8.46742511e-11 2.62454604e-11 2.28787807e-11\n",
      " 3.28225762e-11] \n",
      " - 평균 MSE :\n",
      " 0.000 \n",
      " - RMSE :\n",
      " [2.37458693e-13 8.46742511e-13 2.62454604e-13 2.28787807e-13\n",
      " 3.28225762e-13] \n",
      " - 평균 RMSE :\n",
      " 0.000 \n",
      "-------------------------------------------------------------------------------------------------\n",
      "\n",
      "##### 5 교차 검증  Ridge  #####\n",
      "\n",
      " - MAE :\n",
      " [2.49649166e-08 3.02103597e-08 2.28364176e-08 5.92651781e-08\n",
      " 3.85377963e-08] \n",
      " - 평균 MAE :\n",
      " 0.000 \n",
      " - MSE :\n",
      " [6.23247063e-16 9.12665831e-16 5.21501969e-16 3.51236134e-15\n",
      " 1.48516175e-15] \n",
      " - 평균 MSE :\n",
      " 0.000 \n",
      " - MAPE :\n",
      " [2.49649166e-06 3.02103597e-06 2.28364176e-06 5.92651781e-06\n",
      " 3.85377963e-06] \n",
      " - 평균 MSE :\n",
      " 0.000 \n",
      " - RMSE :\n",
      " [2.49649166e-08 3.02103597e-08 2.28364176e-08 5.92651781e-08\n",
      " 3.85377963e-08] \n",
      " - 평균 RMSE :\n",
      " 0.000 \n",
      "-------------------------------------------------------------------------------------------------\n",
      "\n",
      "##### 5 교차 검증  Lasso  #####\n",
      "\n",
      " - MAE :\n",
      " [0.00013045 0.00095326 0.00014624 0.00079805 0.00028048] \n",
      " - 평균 MAE :\n",
      " 0.000 \n",
      " - MSE :\n",
      " [1.70185006e-08 9.08698058e-07 2.13854936e-08 6.36891394e-07\n",
      " 7.86692570e-08] \n",
      " - 평균 MSE :\n",
      " 0.000 \n",
      " - MAPE :\n",
      " [0.0130455  0.09532566 0.01462378 0.07980548 0.02804804] \n",
      " - 평균 MSE :\n",
      " 0.046 \n",
      " - RMSE :\n",
      " [0.00013045 0.00095326 0.00014624 0.00079805 0.00028048] \n",
      " - 평균 RMSE :\n",
      " 0.000 \n",
      "-------------------------------------------------------------------------------------------------\n",
      "\n",
      "##### 5 교차 검증  ElasticNet  #####\n",
      "\n",
      " - MAE :\n",
      " [0.00012558 0.00025811 0.00015925 0.00066384 0.00027084] \n",
      " - 평균 MAE :\n",
      " 0.000 \n",
      " - MSE :\n",
      " [1.57693735e-08 6.66207782e-08 2.53614292e-08 4.40686960e-07\n",
      " 7.33553541e-08] \n",
      " - 평균 MSE :\n",
      " 0.000 \n",
      " - MAPE :\n",
      " [0.01255762 0.025811   0.01592527 0.06638426 0.02708419] \n",
      " - 평균 MSE :\n",
      " 0.030 \n",
      " - RMSE :\n",
      " [0.00012558 0.00025811 0.00015925 0.00066384 0.00027084] \n",
      " - 평균 RMSE :\n",
      " 0.000 \n",
      "-------------------------------------------------------------------------------------------------\n",
      "\n",
      "##### 5 교차 검증  DecisionTreeRegressor  #####\n",
      "\n",
      " - MAE :\n",
      " [32.59937444 57.87226518 42.97584791 58.12567127 58.85888255] \n",
      " - 평균 MAE :\n",
      " 50.086 \n",
      " - MSE :\n",
      " [1062.71921379 3349.19907735 1846.92350398 3378.59366112 3464.36805551] \n",
      " - 평균 MSE :\n",
      " 2620.361 \n",
      " - MAPE :\n",
      " [3259.93744387 5787.22651825 4297.58479146 5812.56712745 5885.88825541] \n",
      " - 평균 MSE :\n",
      " 5008.641 \n",
      " - RMSE :\n",
      " [32.59937444 57.87226518 42.97584791 58.12567127 58.85888255] \n",
      " - 평균 RMSE :\n",
      " 50.086 \n",
      "-------------------------------------------------------------------------------------------------\n",
      "\n",
      "##### 5 교차 검증  RandomForestRegressor  #####\n",
      "\n",
      " - MAE :\n",
      " [2.31668847 3.41753445 2.00339888 7.44163399 8.91263567] \n",
      " - 평균 MAE :\n",
      " 4.818 \n",
      " - MSE :\n",
      " [ 5.36704546 11.67954175  4.01360706 55.37791646 79.43507452] \n",
      " - 평균 MSE :\n",
      " 31.175 \n",
      " - MAPE :\n",
      " [231.66884677 341.75344545 200.33988781 744.16339915 891.26356665] \n",
      " - 평균 MSE :\n",
      " 481.838 \n",
      " - RMSE :\n",
      " [2.31668847 3.41753445 2.00339888 7.44163399 8.91263567] \n",
      " - 평균 RMSE :\n",
      " 4.818 \n",
      "-------------------------------------------------------------------------------------------------\n",
      "\n",
      "##### 5 교차 검증  GradientBoostingRegressor  #####\n",
      "\n",
      " - MAE :\n",
      " [2.31216722 3.86773869 2.15871818 4.56636922 6.77517494] \n",
      " - 평균 MAE :\n",
      " 3.936 \n",
      " - MSE :\n",
      " [ 5.34611727 14.95940254  4.66006419 20.85172789 45.90299545] \n",
      " - 평균 MSE :\n",
      " 18.344 \n",
      " - MAPE :\n",
      " [231.21672242 386.77386856 215.87181815 456.63692243 677.51749385] \n",
      " - 평균 MSE :\n",
      " 393.603 \n",
      " - RMSE :\n",
      " [2.31216722 3.86773869 2.15871818 4.56636922 6.77517494] \n",
      " - 평균 RMSE :\n",
      " 3.936 \n",
      "-------------------------------------------------------------------------------------------------\n",
      "\n",
      "##### 5 교차 검증  XGBRegressor  #####\n",
      "\n",
      " - MAE :\n",
      " [2.5947389  4.03264572 2.11753911 5.97929499 8.35998785] \n",
      " - 평균 MAE :\n",
      " 4.617 \n",
      " - MSE :\n",
      " [ 6.73266995 16.26223148  4.48397189 35.75196856 69.88939688] \n",
      " - 평균 MSE :\n",
      " 26.624 \n",
      " - MAPE :\n",
      " [259.47388976 403.26457173 211.75391114 597.92949881 835.99878517] \n",
      " - 평균 MSE :\n",
      " 461.684 \n",
      " - RMSE :\n",
      " [2.5947389  4.03264572 2.11753911 5.97929499 8.35998785] \n",
      " - 평균 RMSE :\n",
      " 4.617 \n",
      "-------------------------------------------------------------------------------------------------\n",
      "\n",
      "##### 5 교차 검증  LGBMRegressor  #####\n",
      "\n",
      " - MAE :\n",
      " [2.98813281 4.24255324 1.54640992 8.23050427 9.17694189] \n",
      " - 평균 MAE :\n",
      " 5.237 \n",
      " - MSE :\n",
      " [ 8.9289377  17.99925803  2.39138365 67.74120061 84.21626253] \n",
      " - 평균 MSE :\n",
      " 36.255 \n",
      " - MAPE :\n",
      " [298.81328112 424.25532441 154.64099236 823.05042744 917.69418941] \n",
      " - 평균 MSE :\n",
      " 523.691 \n",
      " - RMSE :\n",
      " [2.98813281 4.24255324 1.54640992 8.23050427 9.17694189] \n",
      " - 평균 RMSE :\n",
      " 5.237 \n",
      "-------------------------------------------------------------------------------------------------\n",
      "\n"
     ]
    }
   ],
   "source": [
    "# model 별로 평가 수행\n",
    "lr_reg = LinearRegression()\n",
    "ridge_reg = Ridge(alpha=0.01)\n",
    "lasso_reg = Lasso(alpha=0.01)\n",
    "ela_reg = ElasticNet(alpha=0.01, l1_ratio=0.7)\n",
    "dt_reg = DecisionTreeRegressor(max_depth=3, min_samples_split=3)\n",
    "rf_reg = RandomForestRegressor(n_estimators=500)\n",
    "gbm_reg = GradientBoostingRegressor(n_estimators=500)\n",
    "xgb_reg = XGBRegressor(n_estimators=500)\n",
    "lgbm_reg = LGBMRegressor(n_estimators=500)\n",
    "\n",
    "model_list = [lr_reg, ridge_reg, lasso_reg, ela_reg, dt_reg, rf_reg, gbm_reg, xgb_reg, lgbm_reg]\n",
    "\n",
    "for model in model_list:\n",
    "    get_model_cv_prediction(model, X_features, y_target)"
   ]
  },
  {
   "cell_type": "markdown",
   "metadata": {},
   "source": [
    "# 개별 예측 및 평가"
   ]
  },
  {
   "cell_type": "markdown",
   "metadata": {},
   "source": [
    "## 평가 함수"
   ]
  },
  {
   "cell_type": "code",
   "execution_count": 65,
   "metadata": {
    "ExecuteTime": {
     "end_time": "2021-08-31T12:14:43.146098Z",
     "start_time": "2021-08-31T12:14:43.134131Z"
    }
   },
   "outputs": [],
   "source": [
    "# 모델과 학습/테스트 데이터 셋을 입력하면 성능 평가 수치를 반환\n",
    "def get_model_no_machin_predict(model, X_train, X_test, y_train, y_test, is_expm1=False):\n",
    "    model.fit(X_train, y_train)\n",
    "    pred = model.predict(X_test)\n",
    "    if is_expm1 :\n",
    "        y_test = np.expm1(y_test)\n",
    "        pred = np.expm1(pred)\n",
    "    print('###',model.__class__.__name__,'###')\n",
    "    evaluate_regr(y_test, pred)\n",
    "    # 회귀계수 추출\n",
    "    coeff = pd.Series(data=model.coef_ , index=X_features.columns)\n",
    "    return coeff"
   ]
  },
  {
   "cell_type": "markdown",
   "metadata": {},
   "source": [
    "## LinearRegression"
   ]
  },
  {
   "cell_type": "code",
   "execution_count": 71,
   "metadata": {
    "ExecuteTime": {
     "end_time": "2021-08-31T12:16:40.460050Z",
     "start_time": "2021-08-31T12:16:40.428136Z"
    }
   },
   "outputs": [
    {
     "name": "stdout",
     "output_type": "stream",
     "text": [
      "MSE : 0.000 , RMSE : 0.000\n",
      "Variance score : 1.000\n",
      "절편 값: [8.38440428e-12]\n",
      "회귀 계수값: [[-0.  0. -0. -0. -0.  0.  0.  0.  1.  1. -0.  0.  0. -0.]]\n"
     ]
    }
   ],
   "source": [
    "# Linear Regression OLS로 학습/예측/평가 수행. \n",
    "lr_reg = LinearRegression()\n",
    "lr_reg.fit(X_train ,y_train)\n",
    "lr_pred = lr_reg.predict(X_test)\n",
    "\n",
    "mse = mean_squared_error(y_test, lr_pred)\n",
    "rmse = np.sqrt(mse)\n",
    "\n",
    "# # 평가\n",
    "# evaluate_regr(y_test, lr_pred)\n",
    "\n",
    "print('MSE : {0:.3f} , RMSE : {1:.3F}'.format(mse , rmse))\n",
    "print('Variance score : {0:.3f}'.format(r2_score(y_test, lr_pred)))\n",
    "\n",
    "print('절편 값:',lr_reg.intercept_)\n",
    "print('회귀 계수값:', np.round(lr_reg.coef_, 1))"
   ]
  },
  {
   "cell_type": "code",
   "execution_count": 72,
   "metadata": {
    "ExecuteTime": {
     "end_time": "2021-08-31T12:16:46.899552Z",
     "start_time": "2021-08-31T12:16:46.644559Z"
    }
   },
   "outputs": [
    {
     "name": "stdout",
     "output_type": "stream",
     "text": [
      "alpha 0.1일 때 5 폴드 세트의 평균 MSE: 0.000, 평균 RMSE: 0.003\n",
      "alpha 0.3일 때 5 폴드 세트의 평균 MSE: 0.000, 평균 RMSE: 0.007\n",
      "alpha 0.5일 때 5 폴드 세트의 평균 MSE: 0.000, 평균 RMSE: 0.011\n"
     ]
    },
    {
     "data": {
      "text/html": [
       "<div>\n",
       "<style scoped>\n",
       "    .dataframe tbody tr th:only-of-type {\n",
       "        vertical-align: middle;\n",
       "    }\n",
       "\n",
       "    .dataframe tbody tr th {\n",
       "        vertical-align: top;\n",
       "    }\n",
       "\n",
       "    .dataframe thead th {\n",
       "        text-align: right;\n",
       "    }\n",
       "</style>\n",
       "<table border=\"1\" class=\"dataframe\">\n",
       "  <thead>\n",
       "    <tr style=\"text-align: right;\">\n",
       "      <th></th>\n",
       "      <th>alpha:0.1</th>\n",
       "      <th>alpha:0.3</th>\n",
       "      <th>alpha:0.5</th>\n",
       "    </tr>\n",
       "  </thead>\n",
       "  <tbody>\n",
       "    <tr>\n",
       "      <th>season</th>\n",
       "      <td>0.000000</td>\n",
       "      <td>0.000000</td>\n",
       "      <td>0.000000</td>\n",
       "    </tr>\n",
       "    <tr>\n",
       "      <th>holiday</th>\n",
       "      <td>0.000000</td>\n",
       "      <td>0.000000</td>\n",
       "      <td>0.000000</td>\n",
       "    </tr>\n",
       "    <tr>\n",
       "      <th>workingday</th>\n",
       "      <td>-0.000000</td>\n",
       "      <td>-0.000000</td>\n",
       "      <td>-0.000000</td>\n",
       "    </tr>\n",
       "    <tr>\n",
       "      <th>weather</th>\n",
       "      <td>-0.000000</td>\n",
       "      <td>-0.000000</td>\n",
       "      <td>-0.000000</td>\n",
       "    </tr>\n",
       "    <tr>\n",
       "      <th>temp</th>\n",
       "      <td>0.000000</td>\n",
       "      <td>0.000000</td>\n",
       "      <td>0.000000</td>\n",
       "    </tr>\n",
       "    <tr>\n",
       "      <th>atemp</th>\n",
       "      <td>0.000000</td>\n",
       "      <td>0.000000</td>\n",
       "      <td>0.000000</td>\n",
       "    </tr>\n",
       "    <tr>\n",
       "      <th>humidity</th>\n",
       "      <td>-0.000000</td>\n",
       "      <td>-0.000000</td>\n",
       "      <td>-0.000000</td>\n",
       "    </tr>\n",
       "    <tr>\n",
       "      <th>windspeed</th>\n",
       "      <td>0.000000</td>\n",
       "      <td>0.000000</td>\n",
       "      <td>0.000000</td>\n",
       "    </tr>\n",
       "    <tr>\n",
       "      <th>casual</th>\n",
       "      <td>0.999934</td>\n",
       "      <td>0.999849</td>\n",
       "      <td>0.999746</td>\n",
       "    </tr>\n",
       "    <tr>\n",
       "      <th>registered</th>\n",
       "      <td>1.000007</td>\n",
       "      <td>1.000012</td>\n",
       "      <td>1.000020</td>\n",
       "    </tr>\n",
       "    <tr>\n",
       "      <th>year</th>\n",
       "      <td>0.000000</td>\n",
       "      <td>0.000000</td>\n",
       "      <td>0.000000</td>\n",
       "    </tr>\n",
       "    <tr>\n",
       "      <th>month</th>\n",
       "      <td>0.000000</td>\n",
       "      <td>0.000000</td>\n",
       "      <td>0.000000</td>\n",
       "    </tr>\n",
       "    <tr>\n",
       "      <th>day</th>\n",
       "      <td>0.000000</td>\n",
       "      <td>0.000000</td>\n",
       "      <td>0.000000</td>\n",
       "    </tr>\n",
       "    <tr>\n",
       "      <th>hour</th>\n",
       "      <td>0.000000</td>\n",
       "      <td>0.000000</td>\n",
       "      <td>0.000000</td>\n",
       "    </tr>\n",
       "  </tbody>\n",
       "</table>\n",
       "</div>"
      ],
      "text/plain": [
       "            alpha:0.1  alpha:0.3  alpha:0.5\n",
       "season       0.000000   0.000000   0.000000\n",
       "holiday      0.000000   0.000000   0.000000\n",
       "workingday  -0.000000  -0.000000  -0.000000\n",
       "weather     -0.000000  -0.000000  -0.000000\n",
       "temp         0.000000   0.000000   0.000000\n",
       "atemp        0.000000   0.000000   0.000000\n",
       "humidity    -0.000000  -0.000000  -0.000000\n",
       "windspeed    0.000000   0.000000   0.000000\n",
       "casual       0.999934   0.999849   0.999746\n",
       "registered   1.000007   1.000012   1.000020\n",
       "year         0.000000   0.000000   0.000000\n",
       "month        0.000000   0.000000   0.000000\n",
       "day          0.000000   0.000000   0.000000\n",
       "hour         0.000000   0.000000   0.000000"
      ]
     },
     "execution_count": 72,
     "metadata": {},
     "output_type": "execute_result"
    }
   ],
   "source": [
    "coeff_df = pd.DataFrame()\n",
    "\n",
    "params = [0.1, 0.3, 0.5]\n",
    "\n",
    "for param in params:\n",
    "    lasso_reg = Lasso(alpha=param)\n",
    "\n",
    "    neg_mse_scores = cross_val_score(lasso_reg, X_features, y_target, scoring=\"neg_mean_squared_error\",\n",
    "                                     cv = 5)\n",
    "    # 평가\n",
    "    avg_mse = np.mean(-1 * neg_mse_scores)\n",
    "    avg_rmse = np.mean(np.sqrt(-1 * neg_mse_scores))\n",
    "    print('alpha {0}일 때 5 폴드 세트의 평균 MSE: {1:.3f}, 평균 RMSE: {2:.3f}'\\\n",
    "          .format(param, avg_mse, avg_rmse))\n",
    "    # cross_val_score는 evaluation metric만 반환하므로 모델을 다시 학습하여 회귀 계수 추출\n",
    "\n",
    "    lasso_reg.fit(X_features , y_target)\n",
    "    # alpha에 따른 피처별 회귀 계수를 Series로 변환하고 이를 DataFrame의 컬럼으로 추가. \n",
    "    coeff = pd.Series(data=lasso_reg.coef_ , index=X_features.columns )\n",
    "    colname='alpha:'+str(param)\n",
    "    coeff_df[colname] = coeff\n",
    "    \n",
    "coeff_df"
   ]
  },
  {
   "cell_type": "markdown",
   "metadata": {},
   "source": [
    "## Ridge"
   ]
  },
  {
   "cell_type": "code",
   "execution_count": 74,
   "metadata": {
    "ExecuteTime": {
     "end_time": "2021-08-31T12:17:02.816119Z",
     "start_time": "2021-08-31T12:17:02.783187Z"
    }
   },
   "outputs": [
    {
     "data": {
      "text/html": [
       "<div>\n",
       "<style scoped>\n",
       "    .dataframe tbody tr th:only-of-type {\n",
       "        vertical-align: middle;\n",
       "    }\n",
       "\n",
       "    .dataframe tbody tr th {\n",
       "        vertical-align: top;\n",
       "    }\n",
       "\n",
       "    .dataframe thead th {\n",
       "        text-align: right;\n",
       "    }\n",
       "</style>\n",
       "<table border=\"1\" class=\"dataframe\">\n",
       "  <thead>\n",
       "    <tr style=\"text-align: right;\">\n",
       "      <th></th>\n",
       "      <th>season</th>\n",
       "      <th>holiday</th>\n",
       "      <th>workingday</th>\n",
       "      <th>weather</th>\n",
       "      <th>temp</th>\n",
       "      <th>atemp</th>\n",
       "      <th>humidity</th>\n",
       "      <th>windspeed</th>\n",
       "      <th>casual</th>\n",
       "      <th>registered</th>\n",
       "      <th>year</th>\n",
       "      <th>month</th>\n",
       "      <th>day</th>\n",
       "      <th>hour</th>\n",
       "    </tr>\n",
       "  </thead>\n",
       "  <tbody>\n",
       "    <tr>\n",
       "      <th>0</th>\n",
       "      <td>1</td>\n",
       "      <td>0</td>\n",
       "      <td>0</td>\n",
       "      <td>1</td>\n",
       "      <td>9.84</td>\n",
       "      <td>14.395</td>\n",
       "      <td>81</td>\n",
       "      <td>0.0000</td>\n",
       "      <td>3.0</td>\n",
       "      <td>13.0</td>\n",
       "      <td>2011</td>\n",
       "      <td>1</td>\n",
       "      <td>1</td>\n",
       "      <td>0</td>\n",
       "    </tr>\n",
       "    <tr>\n",
       "      <th>1</th>\n",
       "      <td>1</td>\n",
       "      <td>0</td>\n",
       "      <td>0</td>\n",
       "      <td>1</td>\n",
       "      <td>9.02</td>\n",
       "      <td>13.635</td>\n",
       "      <td>80</td>\n",
       "      <td>0.0000</td>\n",
       "      <td>8.0</td>\n",
       "      <td>32.0</td>\n",
       "      <td>2011</td>\n",
       "      <td>1</td>\n",
       "      <td>1</td>\n",
       "      <td>1</td>\n",
       "    </tr>\n",
       "    <tr>\n",
       "      <th>2</th>\n",
       "      <td>1</td>\n",
       "      <td>0</td>\n",
       "      <td>0</td>\n",
       "      <td>1</td>\n",
       "      <td>9.02</td>\n",
       "      <td>13.635</td>\n",
       "      <td>80</td>\n",
       "      <td>0.0000</td>\n",
       "      <td>5.0</td>\n",
       "      <td>27.0</td>\n",
       "      <td>2011</td>\n",
       "      <td>1</td>\n",
       "      <td>1</td>\n",
       "      <td>2</td>\n",
       "    </tr>\n",
       "    <tr>\n",
       "      <th>3</th>\n",
       "      <td>1</td>\n",
       "      <td>0</td>\n",
       "      <td>0</td>\n",
       "      <td>1</td>\n",
       "      <td>9.84</td>\n",
       "      <td>14.395</td>\n",
       "      <td>75</td>\n",
       "      <td>0.0000</td>\n",
       "      <td>3.0</td>\n",
       "      <td>10.0</td>\n",
       "      <td>2011</td>\n",
       "      <td>1</td>\n",
       "      <td>1</td>\n",
       "      <td>3</td>\n",
       "    </tr>\n",
       "    <tr>\n",
       "      <th>4</th>\n",
       "      <td>1</td>\n",
       "      <td>0</td>\n",
       "      <td>0</td>\n",
       "      <td>1</td>\n",
       "      <td>9.84</td>\n",
       "      <td>14.395</td>\n",
       "      <td>75</td>\n",
       "      <td>0.0000</td>\n",
       "      <td>0.0</td>\n",
       "      <td>1.0</td>\n",
       "      <td>2011</td>\n",
       "      <td>1</td>\n",
       "      <td>1</td>\n",
       "      <td>4</td>\n",
       "    </tr>\n",
       "    <tr>\n",
       "      <th>...</th>\n",
       "      <td>...</td>\n",
       "      <td>...</td>\n",
       "      <td>...</td>\n",
       "      <td>...</td>\n",
       "      <td>...</td>\n",
       "      <td>...</td>\n",
       "      <td>...</td>\n",
       "      <td>...</td>\n",
       "      <td>...</td>\n",
       "      <td>...</td>\n",
       "      <td>...</td>\n",
       "      <td>...</td>\n",
       "      <td>...</td>\n",
       "      <td>...</td>\n",
       "    </tr>\n",
       "    <tr>\n",
       "      <th>10881</th>\n",
       "      <td>4</td>\n",
       "      <td>0</td>\n",
       "      <td>1</td>\n",
       "      <td>1</td>\n",
       "      <td>15.58</td>\n",
       "      <td>19.695</td>\n",
       "      <td>50</td>\n",
       "      <td>26.0027</td>\n",
       "      <td>7.0</td>\n",
       "      <td>329.0</td>\n",
       "      <td>2012</td>\n",
       "      <td>12</td>\n",
       "      <td>19</td>\n",
       "      <td>19</td>\n",
       "    </tr>\n",
       "    <tr>\n",
       "      <th>10882</th>\n",
       "      <td>4</td>\n",
       "      <td>0</td>\n",
       "      <td>1</td>\n",
       "      <td>1</td>\n",
       "      <td>14.76</td>\n",
       "      <td>17.425</td>\n",
       "      <td>57</td>\n",
       "      <td>15.0013</td>\n",
       "      <td>10.0</td>\n",
       "      <td>231.0</td>\n",
       "      <td>2012</td>\n",
       "      <td>12</td>\n",
       "      <td>19</td>\n",
       "      <td>20</td>\n",
       "    </tr>\n",
       "    <tr>\n",
       "      <th>10883</th>\n",
       "      <td>4</td>\n",
       "      <td>0</td>\n",
       "      <td>1</td>\n",
       "      <td>1</td>\n",
       "      <td>13.94</td>\n",
       "      <td>15.910</td>\n",
       "      <td>61</td>\n",
       "      <td>15.0013</td>\n",
       "      <td>4.0</td>\n",
       "      <td>164.0</td>\n",
       "      <td>2012</td>\n",
       "      <td>12</td>\n",
       "      <td>19</td>\n",
       "      <td>21</td>\n",
       "    </tr>\n",
       "    <tr>\n",
       "      <th>10884</th>\n",
       "      <td>4</td>\n",
       "      <td>0</td>\n",
       "      <td>1</td>\n",
       "      <td>1</td>\n",
       "      <td>13.94</td>\n",
       "      <td>17.425</td>\n",
       "      <td>61</td>\n",
       "      <td>6.0032</td>\n",
       "      <td>12.0</td>\n",
       "      <td>117.0</td>\n",
       "      <td>2012</td>\n",
       "      <td>12</td>\n",
       "      <td>19</td>\n",
       "      <td>22</td>\n",
       "    </tr>\n",
       "    <tr>\n",
       "      <th>10885</th>\n",
       "      <td>4</td>\n",
       "      <td>0</td>\n",
       "      <td>1</td>\n",
       "      <td>1</td>\n",
       "      <td>13.12</td>\n",
       "      <td>16.665</td>\n",
       "      <td>66</td>\n",
       "      <td>8.9981</td>\n",
       "      <td>4.0</td>\n",
       "      <td>84.0</td>\n",
       "      <td>2012</td>\n",
       "      <td>12</td>\n",
       "      <td>19</td>\n",
       "      <td>23</td>\n",
       "    </tr>\n",
       "  </tbody>\n",
       "</table>\n",
       "<p>10886 rows × 14 columns</p>\n",
       "</div>"
      ],
      "text/plain": [
       "       season  holiday  workingday  weather   temp   atemp  humidity  \\\n",
       "0           1        0          0         1   9.84  14.395        81   \n",
       "1           1        0          0         1   9.02  13.635        80   \n",
       "2           1        0          0         1   9.02  13.635        80   \n",
       "3           1        0          0         1   9.84  14.395        75   \n",
       "4           1        0          0         1   9.84  14.395        75   \n",
       "...       ...      ...        ...       ...    ...     ...       ...   \n",
       "10881       4        0          1         1  15.58  19.695        50   \n",
       "10882       4        0          1         1  14.76  17.425        57   \n",
       "10883       4        0          1         1  13.94  15.910        61   \n",
       "10884       4        0          1         1  13.94  17.425        61   \n",
       "10885       4        0          1         1  13.12  16.665        66   \n",
       "\n",
       "       windspeed  casual  registered  year  month  day  hour  \n",
       "0         0.0000     3.0       13.0   2011      1    1     0  \n",
       "1         0.0000     8.0       32.0   2011      1    1     1  \n",
       "2         0.0000     5.0       27.0   2011      1    1     2  \n",
       "3         0.0000     3.0       10.0   2011      1    1     3  \n",
       "4         0.0000     0.0        1.0   2011      1    1     4  \n",
       "...          ...     ...        ...    ...    ...  ...   ...  \n",
       "10881    26.0027     7.0      329.0   2012     12   19    19  \n",
       "10882    15.0013    10.0      231.0   2012     12   19    20  \n",
       "10883    15.0013     4.0      164.0   2012     12   19    21  \n",
       "10884     6.0032    12.0      117.0   2012     12   19    22  \n",
       "10885     8.9981     4.0       84.0   2012     12   19    23  \n",
       "\n",
       "[10886 rows x 14 columns]"
      ]
     },
     "execution_count": 74,
     "metadata": {},
     "output_type": "execute_result"
    }
   ],
   "source": [
    "X_features"
   ]
  },
  {
   "cell_type": "code",
   "execution_count": null,
   "metadata": {},
   "outputs": [],
   "source": [
    "pd.Series(data=ridge_reg.coef_ , index=X_features.columns)"
   ]
  },
  {
   "cell_type": "code",
   "execution_count": 81,
   "metadata": {
    "ExecuteTime": {
     "end_time": "2021-08-31T12:18:31.956855Z",
     "start_time": "2021-08-31T12:18:31.943890Z"
    }
   },
   "outputs": [
    {
     "data": {
      "text/plain": [
       "array([ 6.75709331e-09, -1.24140755e-07, -4.13714639e-07,  2.65868831e-08,\n",
       "        1.46954915e-08,  1.18938002e-08, -7.66494107e-09, -3.50079344e-11,\n",
       "        9.99999989e-01,  1.00000000e+00,  7.77897908e-08,  1.51707191e-09,\n",
       "        6.31111496e-10,  9.67323697e-09])"
      ]
     },
     "execution_count": 81,
     "metadata": {},
     "output_type": "execute_result"
    }
   ],
   "source": [
    "ridge_reg.coef_.flatten()"
   ]
  },
  {
   "cell_type": "code",
   "execution_count": 83,
   "metadata": {
    "ExecuteTime": {
     "end_time": "2021-08-31T12:19:10.762914Z",
     "start_time": "2021-08-31T12:19:10.735453Z"
    }
   },
   "outputs": [
    {
     "name": "stdout",
     "output_type": "stream",
     "text": [
      "MSE : 0.000 , RMSE : 0.000\n",
      "Variance score : 1.000\n",
      "절편 값: [-0.00015615]\n",
      "회귀 계수값: [[ 0. -0. -0.  0.  0.  0. -0. -0.  1.  1.  0.  0.  0.  0.]]\n"
     ]
    }
   ],
   "source": [
    "coeff_df = pd.DataFrame()\n",
    "\n",
    "# 학습\n",
    "ridge_reg = Ridge(alpha=0.1)\n",
    "ridge_reg.fit(X_train, y_train)\n",
    "ridge_pred = ridge_reg.predict(X_test)\n",
    "\n",
    "coeff = pd.Series(data=ridge_reg.coef_.flatten() , index=X_features.columns)\n",
    "coeff_df['coefficient'] = coeff\n",
    "coeff_df = coeff_df.sort_values('coefficient', ascending=False)\n",
    "coeff_df\n",
    "\n",
    "print('MSE : {0:.3f} , RMSE : {1:.3F}'.format(mse , rmse))\n",
    "print('Variance score : {0:.3f}'.format(r2_score(y_test, ridge_pred)))\n",
    "\n",
    "print('절편 값:',ridge_reg.intercept_)\n",
    "print('회귀 계수값:', np.round(ridge_reg.coef_, 1))"
   ]
  },
  {
   "cell_type": "markdown",
   "metadata": {},
   "source": [
    "###  make_scorer"
   ]
  },
  {
   "cell_type": "code",
   "execution_count": 85,
   "metadata": {
    "ExecuteTime": {
     "end_time": "2021-08-31T12:20:12.435516Z",
     "start_time": "2021-08-31T12:20:12.230065Z"
    }
   },
   "outputs": [
    {
     "name": "stdout",
     "output_type": "stream",
     "text": [
      "alpha {0}일 때 개별 MSE scores:  [nan nan nan nan nan]\n",
      "alpha 0.1일 때 세트의 평균 MSE: 0.000 \n",
      "alpha {0}일 때 개별 RMSE scores:  [nan nan nan nan nan]\n",
      "alpha 0.1일 때 세트의 평균 RMSE: nan \n",
      "alpha {0}일 때 개별 MSE scores:  [nan nan nan nan nan]\n",
      "alpha 0.3일 때 세트의 평균 MSE: 0.000 \n",
      "alpha {0}일 때 개별 RMSE scores:  [nan nan nan nan nan]\n",
      "alpha 0.3일 때 세트의 평균 RMSE: nan \n",
      "alpha {0}일 때 개별 MSE scores:  [nan nan nan nan nan]\n",
      "alpha 0.5일 때 세트의 평균 MSE: 0.000 \n",
      "alpha {0}일 때 개별 RMSE scores:  [nan nan nan nan nan]\n",
      "alpha 0.5일 때 세트의 평균 RMSE: nan \n"
     ]
    },
    {
     "data": {
      "text/html": [
       "<div>\n",
       "<style scoped>\n",
       "    .dataframe tbody tr th:only-of-type {\n",
       "        vertical-align: middle;\n",
       "    }\n",
       "\n",
       "    .dataframe tbody tr th {\n",
       "        vertical-align: top;\n",
       "    }\n",
       "\n",
       "    .dataframe thead th {\n",
       "        text-align: right;\n",
       "    }\n",
       "</style>\n",
       "<table border=\"1\" class=\"dataframe\">\n",
       "  <thead>\n",
       "    <tr style=\"text-align: right;\">\n",
       "      <th></th>\n",
       "      <th>alpha:0.1</th>\n",
       "      <th>alpha:0.3</th>\n",
       "      <th>alpha:0.5</th>\n",
       "    </tr>\n",
       "  </thead>\n",
       "  <tbody>\n",
       "    <tr>\n",
       "      <th>season</th>\n",
       "      <td>4.0991...</td>\n",
       "      <td>1.2278...</td>\n",
       "      <td>2.0432...</td>\n",
       "    </tr>\n",
       "    <tr>\n",
       "      <th>holiday</th>\n",
       "      <td>-9.3614...</td>\n",
       "      <td>-2.8058...</td>\n",
       "      <td>-4.6719...</td>\n",
       "    </tr>\n",
       "    <tr>\n",
       "      <th>workingday</th>\n",
       "      <td>-2.7809...</td>\n",
       "      <td>-8.3416...</td>\n",
       "      <td>-1.3900...</td>\n",
       "    </tr>\n",
       "    <tr>\n",
       "      <th>weather</th>\n",
       "      <td>1.4286...</td>\n",
       "      <td>4.2852...</td>\n",
       "      <td>7.1410...</td>\n",
       "    </tr>\n",
       "    <tr>\n",
       "      <th>temp</th>\n",
       "      <td>9.5065...</td>\n",
       "      <td>2.8516...</td>\n",
       "      <td>4.7523...</td>\n",
       "    </tr>\n",
       "    <tr>\n",
       "      <th>atemp</th>\n",
       "      <td>8.4837...</td>\n",
       "      <td>2.5452...</td>\n",
       "      <td>4.2422...</td>\n",
       "    </tr>\n",
       "    <tr>\n",
       "      <th>humidity</th>\n",
       "      <td>-5.2265...</td>\n",
       "      <td>-1.5679...</td>\n",
       "      <td>-2.6131...</td>\n",
       "    </tr>\n",
       "    <tr>\n",
       "      <th>windspeed</th>\n",
       "      <td>3.4514...</td>\n",
       "      <td>1.0353...</td>\n",
       "      <td>1.7254...</td>\n",
       "    </tr>\n",
       "    <tr>\n",
       "      <th>casual</th>\n",
       "      <td>1.0000...</td>\n",
       "      <td>1.0000...</td>\n",
       "      <td>1.0000...</td>\n",
       "    </tr>\n",
       "    <tr>\n",
       "      <th>registered</th>\n",
       "      <td>1.0000...</td>\n",
       "      <td>1.0000...</td>\n",
       "      <td>1.0000...</td>\n",
       "    </tr>\n",
       "    <tr>\n",
       "      <th>year</th>\n",
       "      <td>5.3702...</td>\n",
       "      <td>1.6109...</td>\n",
       "      <td>2.6847...</td>\n",
       "    </tr>\n",
       "    <tr>\n",
       "      <th>month</th>\n",
       "      <td>1.6337...</td>\n",
       "      <td>4.9074...</td>\n",
       "      <td>8.1895...</td>\n",
       "    </tr>\n",
       "    <tr>\n",
       "      <th>day</th>\n",
       "      <td>4.1283...</td>\n",
       "      <td>1.2385...</td>\n",
       "      <td>2.0643...</td>\n",
       "    </tr>\n",
       "    <tr>\n",
       "      <th>hour</th>\n",
       "      <td>6.9338...</td>\n",
       "      <td>2.0801...</td>\n",
       "      <td>3.4669...</td>\n",
       "    </tr>\n",
       "  </tbody>\n",
       "</table>\n",
       "</div>"
      ],
      "text/plain": [
       "            alpha:0.1  alpha:0.3  alpha:0.5\n",
       "season      4.0991...  1.2278...  2.0432...\n",
       "holiday    -9.3614... -2.8058... -4.6719...\n",
       "workingday -2.7809... -8.3416... -1.3900...\n",
       "weather     1.4286...  4.2852...  7.1410...\n",
       "temp        9.5065...  2.8516...  4.7523...\n",
       "atemp       8.4837...  2.5452...  4.2422...\n",
       "humidity   -5.2265... -1.5679... -2.6131...\n",
       "windspeed   3.4514...  1.0353...  1.7254...\n",
       "casual      1.0000...  1.0000...  1.0000...\n",
       "registered  1.0000...  1.0000...  1.0000...\n",
       "year        5.3702...  1.6109...  2.6847...\n",
       "month       1.6337...  4.9074...  8.1895...\n",
       "day         4.1283...  1.2385...  2.0643...\n",
       "hour        6.9338...  2.0801...  3.4669..."
      ]
     },
     "execution_count": 85,
     "metadata": {},
     "output_type": "execute_result"
    }
   ],
   "source": [
    "coeff_df = pd.DataFrame()\n",
    "\n",
    "params = [0.1, 0.3, 0.5]\n",
    "\n",
    "for param in params:\n",
    "    ridge_reg = Ridge(alpha=param)\n",
    "\n",
    "    neg_mse_scores = cross_val_score(ridge_reg, X_features, y_target, scoring=make_scorer(mape),\n",
    "                                     cv = 5)\n",
    "    avg_rmse = np.mean(np.sqrt(-1 * neg_mse_scores))\n",
    "    print('alpha {0}일 때 개별 MSE scores: ', np.round(-1 * neg_mse_scores, 2))\n",
    "    print('alpha {0}일 때 세트의 평균 MSE: {1:.3f} '.format(param, avg_mse))\n",
    "    print('alpha {0}일 때 개별 RMSE scores: ', np.round(-1 * neg_mse_scores, 2))\n",
    "    print('alpha {0}일 때 세트의 평균 RMSE: {1:.3f} '.format(param, avg_rmse))\n",
    "    # cross_val_score는 evaluation metric만 반환하므로 모델을 다시 학습하여 회귀 계수 추출\n",
    "\n",
    "    ridge_reg.fit(X_features , y_target)\n",
    "    # alpha에 따른 피처별 회귀 계수를 Series로 변환하고 이를 DataFrame의 컬럼으로 추가. \n",
    "    coeff = pd.Series(data=ridge_reg.coef_.flatten() , index=X_features.columns )\n",
    "    colname='alpha:'+str(param)\n",
    "    coeff_df[colname] = coeff\n",
    "    \n",
    "coeff_df"
   ]
  },
  {
   "cell_type": "markdown",
   "metadata": {},
   "source": [
    "### neg_mean_squared_error"
   ]
  },
  {
   "cell_type": "code",
   "execution_count": 88,
   "metadata": {
    "ExecuteTime": {
     "end_time": "2021-08-28T05:51:37.995453Z",
     "start_time": "2021-08-28T05:51:37.832888Z"
    }
   },
   "outputs": [
    {
     "name": "stdout",
     "output_type": "stream",
     "text": [
      "alpha {0}일 때 개별 MSE scores:  [0. 0. 0. 0. 0.]\n",
      "alpha 0.1일 때 세트의 평균 RMSE: 0.000 \n",
      "alpha {0}일 때 개별 RMSE scores:  [0. 0. 0. 0. 0.]\n",
      "alpha 0.1일 때 세트의 평균 RMSE: 0.000 \n",
      "alpha {0}일 때 개별 MSE scores:  [0. 0. 0. 0. 0.]\n",
      "alpha 0.3일 때 세트의 평균 RMSE: 0.000 \n",
      "alpha {0}일 때 개별 RMSE scores:  [0. 0. 0. 0. 0.]\n",
      "alpha 0.3일 때 세트의 평균 RMSE: 0.000 \n",
      "alpha {0}일 때 개별 MSE scores:  [0. 0. 0. 0. 0.]\n",
      "alpha 0.5일 때 세트의 평균 RMSE: 0.000 \n",
      "alpha {0}일 때 개별 RMSE scores:  [0. 0. 0. 0. 0.]\n",
      "alpha 0.5일 때 세트의 평균 RMSE: 0.000 \n"
     ]
    },
    {
     "data": {
      "text/html": [
       "<div>\n",
       "<style scoped>\n",
       "    .dataframe tbody tr th:only-of-type {\n",
       "        vertical-align: middle;\n",
       "    }\n",
       "\n",
       "    .dataframe tbody tr th {\n",
       "        vertical-align: top;\n",
       "    }\n",
       "\n",
       "    .dataframe thead th {\n",
       "        text-align: right;\n",
       "    }\n",
       "</style>\n",
       "<table border=\"1\" class=\"dataframe\">\n",
       "  <thead>\n",
       "    <tr style=\"text-align: right;\">\n",
       "      <th></th>\n",
       "      <th>alpha:0.1</th>\n",
       "      <th>alpha:0.3</th>\n",
       "      <th>alpha:0.5</th>\n",
       "    </tr>\n",
       "  </thead>\n",
       "  <tbody>\n",
       "    <tr>\n",
       "      <th>season</th>\n",
       "      <td>4.0991...</td>\n",
       "      <td>1.2278...</td>\n",
       "      <td>2.0432...</td>\n",
       "    </tr>\n",
       "    <tr>\n",
       "      <th>holiday</th>\n",
       "      <td>-9.3614...</td>\n",
       "      <td>-2.8058...</td>\n",
       "      <td>-4.6719...</td>\n",
       "    </tr>\n",
       "    <tr>\n",
       "      <th>workingday</th>\n",
       "      <td>-2.7809...</td>\n",
       "      <td>-8.3416...</td>\n",
       "      <td>-1.3900...</td>\n",
       "    </tr>\n",
       "    <tr>\n",
       "      <th>weather</th>\n",
       "      <td>1.4286...</td>\n",
       "      <td>4.2852...</td>\n",
       "      <td>7.1410...</td>\n",
       "    </tr>\n",
       "    <tr>\n",
       "      <th>temp</th>\n",
       "      <td>9.5065...</td>\n",
       "      <td>2.8516...</td>\n",
       "      <td>4.7523...</td>\n",
       "    </tr>\n",
       "    <tr>\n",
       "      <th>atemp</th>\n",
       "      <td>8.4837...</td>\n",
       "      <td>2.5452...</td>\n",
       "      <td>4.2422...</td>\n",
       "    </tr>\n",
       "    <tr>\n",
       "      <th>humidity</th>\n",
       "      <td>-5.2265...</td>\n",
       "      <td>-1.5679...</td>\n",
       "      <td>-2.6131...</td>\n",
       "    </tr>\n",
       "    <tr>\n",
       "      <th>windspeed</th>\n",
       "      <td>3.4514...</td>\n",
       "      <td>1.0353...</td>\n",
       "      <td>1.7254...</td>\n",
       "    </tr>\n",
       "    <tr>\n",
       "      <th>casual</th>\n",
       "      <td>1.0000...</td>\n",
       "      <td>1.0000...</td>\n",
       "      <td>1.0000...</td>\n",
       "    </tr>\n",
       "    <tr>\n",
       "      <th>registered</th>\n",
       "      <td>1.0000...</td>\n",
       "      <td>1.0000...</td>\n",
       "      <td>1.0000...</td>\n",
       "    </tr>\n",
       "    <tr>\n",
       "      <th>year</th>\n",
       "      <td>5.3702...</td>\n",
       "      <td>1.6109...</td>\n",
       "      <td>2.6847...</td>\n",
       "    </tr>\n",
       "    <tr>\n",
       "      <th>month</th>\n",
       "      <td>1.6337...</td>\n",
       "      <td>4.9074...</td>\n",
       "      <td>8.1895...</td>\n",
       "    </tr>\n",
       "    <tr>\n",
       "      <th>day</th>\n",
       "      <td>4.1283...</td>\n",
       "      <td>1.2385...</td>\n",
       "      <td>2.0643...</td>\n",
       "    </tr>\n",
       "    <tr>\n",
       "      <th>hour</th>\n",
       "      <td>6.9338...</td>\n",
       "      <td>2.0801...</td>\n",
       "      <td>3.4669...</td>\n",
       "    </tr>\n",
       "  </tbody>\n",
       "</table>\n",
       "</div>"
      ],
      "text/plain": [
       "            alpha:0.1  alpha:0.3  alpha:0.5\n",
       "season      4.0991...  1.2278...  2.0432...\n",
       "holiday    -9.3614... -2.8058... -4.6719...\n",
       "workingday -2.7809... -8.3416... -1.3900...\n",
       "weather     1.4286...  4.2852...  7.1410...\n",
       "temp        9.5065...  2.8516...  4.7523...\n",
       "atemp       8.4837...  2.5452...  4.2422...\n",
       "humidity   -5.2265... -1.5679... -2.6131...\n",
       "windspeed   3.4514...  1.0353...  1.7254...\n",
       "casual      1.0000...  1.0000...  1.0000...\n",
       "registered  1.0000...  1.0000...  1.0000...\n",
       "year        5.3702...  1.6109...  2.6847...\n",
       "month       1.6337...  4.9074...  8.1895...\n",
       "day         4.1283...  1.2385...  2.0643...\n",
       "hour        6.9338...  2.0801...  3.4669..."
      ]
     },
     "execution_count": 88,
     "metadata": {},
     "output_type": "execute_result"
    }
   ],
   "source": [
    "coeff_df = pd.DataFrame()\n",
    "\n",
    "params = [0.1, 0.3, 0.5]\n",
    "\n",
    "for param in params:\n",
    "    ridge_reg = Ridge(alpha=param)\n",
    "\n",
    "    neg_mse_scores = cross_val_score(ridge_reg, X_features, y_target, scoring=\"neg_mean_squared_error\",\n",
    "                                     cv = 5)\n",
    "    avg_rmse = np.mean(np.sqrt(-1 * neg_mse_scores))\n",
    "    print('alpha {0}일 때 개별 MSE scores: ', np.round(-1 * neg_mse_scores, 2))\n",
    "    print('alpha {0}일 때 세트의 평균 MSE: {1:.3f} '.format(param, avg_mse))\n",
    "    print('alpha {0}일 때 개별 RMSE scores: ', np.round(-1 * neg_mse_scores, 2))\n",
    "    print('alpha {0}일 때 세트의 평균 RMSE: {1:.3f} '.format(param, avg_rmse))\n",
    "    # cross_val_score는 evaluation metric만 반환하므로 모델을 다시 학습하여 회귀 계수 추출\n",
    "\n",
    "    ridge_reg.fit(X_features , y_target)\n",
    "    # alpha에 따른 피처별 회귀 계수를 Series로 변환하고 이를 DataFrame의 컬럼으로 추가. \n",
    "    coeff = pd.Series(data=ridge_reg.coef_ , index=X_features.columns )\n",
    "    colname='alpha:'+str(param)\n",
    "    coeff_df[colname] = coeff\n",
    "    \n",
    "coeff_df"
   ]
  },
  {
   "cell_type": "code",
   "execution_count": null,
   "metadata": {},
   "outputs": [],
   "source": [
    "# cross_val_score( )로 5 Fold 셋으로 MSE 를 구한 뒤 이를 기반으로 다시  RMSE 구함. \n",
    "neg_mse_scores = cross_val_score(lr, X_features, y_target, scoring=\"neg_mean_squared_error\", cv = 5)\n",
    "rmse_scores  = np.sqrt(-1 * neg_mse_scores)\n",
    "avg_rmse = np.mean(rmse_scores)\n",
    "\n",
    "# cross_val_score(scoring=\"neg_mean_squared_error\")로 반환된 값은 모두 음수 \n",
    "print(' 5 folds 의 개별 Negative MSE scores: ', np.round(neg_mse_scores, 2))\n",
    "print(' 5 folds 의 개별 RMSE scores : ', np.round(rmse_scores, 2))\n",
    "print(' 5 folds 의 평균 RMSE : {0:.3f} '.format(avg_rmse))"
   ]
  },
  {
   "cell_type": "markdown",
   "metadata": {},
   "source": [
    "## Lasso(수정)"
   ]
  },
  {
   "cell_type": "code",
   "execution_count": 86,
   "metadata": {
    "ExecuteTime": {
     "end_time": "2021-08-28T05:44:23.838609Z",
     "start_time": "2021-08-28T05:44:23.641140Z"
    }
   },
   "outputs": [
    {
     "name": "stdout",
     "output_type": "stream",
     "text": [
      "alpha 0.1일 때 5 폴드 세트의 평균 MSE: 0.000, 평균 RMSE: 0.003\n",
      "alpha 0.3일 때 5 폴드 세트의 평균 MSE: 0.000, 평균 RMSE: 0.007\n",
      "alpha 0.5일 때 5 폴드 세트의 평균 MSE: 0.000, 평균 RMSE: 0.011\n"
     ]
    },
    {
     "data": {
      "text/html": [
       "<div>\n",
       "<style scoped>\n",
       "    .dataframe tbody tr th:only-of-type {\n",
       "        vertical-align: middle;\n",
       "    }\n",
       "\n",
       "    .dataframe tbody tr th {\n",
       "        vertical-align: top;\n",
       "    }\n",
       "\n",
       "    .dataframe thead th {\n",
       "        text-align: right;\n",
       "    }\n",
       "</style>\n",
       "<table border=\"1\" class=\"dataframe\">\n",
       "  <thead>\n",
       "    <tr style=\"text-align: right;\">\n",
       "      <th></th>\n",
       "      <th>alpha:0.1</th>\n",
       "      <th>alpha:0.3</th>\n",
       "      <th>alpha:0.5</th>\n",
       "    </tr>\n",
       "  </thead>\n",
       "  <tbody>\n",
       "    <tr>\n",
       "      <th>season</th>\n",
       "      <td>0.000000</td>\n",
       "      <td>0.000000</td>\n",
       "      <td>0.000000</td>\n",
       "    </tr>\n",
       "    <tr>\n",
       "      <th>holiday</th>\n",
       "      <td>0.000000</td>\n",
       "      <td>0.000000</td>\n",
       "      <td>0.000000</td>\n",
       "    </tr>\n",
       "    <tr>\n",
       "      <th>workingday</th>\n",
       "      <td>-0.000000</td>\n",
       "      <td>-0.000000</td>\n",
       "      <td>-0.000000</td>\n",
       "    </tr>\n",
       "    <tr>\n",
       "      <th>weather</th>\n",
       "      <td>-0.000000</td>\n",
       "      <td>-0.000000</td>\n",
       "      <td>-0.000000</td>\n",
       "    </tr>\n",
       "    <tr>\n",
       "      <th>temp</th>\n",
       "      <td>0.000000</td>\n",
       "      <td>0.000000</td>\n",
       "      <td>0.000000</td>\n",
       "    </tr>\n",
       "    <tr>\n",
       "      <th>atemp</th>\n",
       "      <td>0.000000</td>\n",
       "      <td>0.000000</td>\n",
       "      <td>0.000000</td>\n",
       "    </tr>\n",
       "    <tr>\n",
       "      <th>humidity</th>\n",
       "      <td>-0.000000</td>\n",
       "      <td>-0.000000</td>\n",
       "      <td>-0.000000</td>\n",
       "    </tr>\n",
       "    <tr>\n",
       "      <th>windspeed</th>\n",
       "      <td>0.000000</td>\n",
       "      <td>0.000000</td>\n",
       "      <td>0.000000</td>\n",
       "    </tr>\n",
       "    <tr>\n",
       "      <th>casual</th>\n",
       "      <td>0.999934</td>\n",
       "      <td>0.999849</td>\n",
       "      <td>0.999746</td>\n",
       "    </tr>\n",
       "    <tr>\n",
       "      <th>registered</th>\n",
       "      <td>1.000007</td>\n",
       "      <td>1.000012</td>\n",
       "      <td>1.000020</td>\n",
       "    </tr>\n",
       "    <tr>\n",
       "      <th>year</th>\n",
       "      <td>0.000000</td>\n",
       "      <td>0.000000</td>\n",
       "      <td>0.000000</td>\n",
       "    </tr>\n",
       "    <tr>\n",
       "      <th>month</th>\n",
       "      <td>0.000000</td>\n",
       "      <td>0.000000</td>\n",
       "      <td>0.000000</td>\n",
       "    </tr>\n",
       "    <tr>\n",
       "      <th>day</th>\n",
       "      <td>0.000000</td>\n",
       "      <td>0.000000</td>\n",
       "      <td>0.000000</td>\n",
       "    </tr>\n",
       "    <tr>\n",
       "      <th>hour</th>\n",
       "      <td>0.000000</td>\n",
       "      <td>0.000000</td>\n",
       "      <td>0.000000</td>\n",
       "    </tr>\n",
       "  </tbody>\n",
       "</table>\n",
       "</div>"
      ],
      "text/plain": [
       "            alpha:0.1  alpha:0.3  alpha:0.5\n",
       "season       0.000000   0.000000   0.000000\n",
       "holiday      0.000000   0.000000   0.000000\n",
       "workingday  -0.000000  -0.000000  -0.000000\n",
       "weather     -0.000000  -0.000000  -0.000000\n",
       "temp         0.000000   0.000000   0.000000\n",
       "atemp        0.000000   0.000000   0.000000\n",
       "humidity    -0.000000  -0.000000  -0.000000\n",
       "windspeed    0.000000   0.000000   0.000000\n",
       "casual       0.999934   0.999849   0.999746\n",
       "registered   1.000007   1.000012   1.000020\n",
       "year         0.000000   0.000000   0.000000\n",
       "month        0.000000   0.000000   0.000000\n",
       "day          0.000000   0.000000   0.000000\n",
       "hour         0.000000   0.000000   0.000000"
      ]
     },
     "execution_count": 86,
     "metadata": {},
     "output_type": "execute_result"
    }
   ],
   "source": [
    "coeff_df = pd.DataFrame()\n",
    "\n",
    "params = [0.1, 0.3, 0.5]\n",
    "\n",
    "for param in params:\n",
    "    lasso_reg = Lasso(alpha=param)\n",
    "\n",
    "    neg_mse_scores = cross_val_score(lasso_reg, X_features, y_target, scoring=\"neg_mean_squared_error\",\n",
    "                                     cv = 5)\n",
    "    # 평가\n",
    "    avg_mse = np.mean(-1 * neg_mse_scores)\n",
    "    avg_rmse = np.mean(np.sqrt(-1 * neg_mse_scores))\n",
    "    print('alpha {0}일 때 5 폴드 세트의 평균 MSE: {1:.3f}, 평균 RMSE: {2:.3f}'\\\n",
    "          .format(param, avg_mse, avg_rmse))\n",
    "    # cross_val_score는 evaluation metric만 반환하므로 모델을 다시 학습하여 회귀 계수 추출\n",
    "\n",
    "    lasso_reg.fit(X_features , y_target)\n",
    "    # alpha에 따른 피처별 회귀 계수를 Series로 변환하고 이를 DataFrame의 컬럼으로 추가. \n",
    "    coeff = pd.Series(data=lasso_reg.coef_ , index=X_features.columns )\n",
    "    colname='alpha:'+str(param)\n",
    "    coeff_df[colname] = coeff\n",
    "    \n",
    "coeff_df"
   ]
  },
  {
   "cell_type": "markdown",
   "metadata": {},
   "source": [
    "## ElasticNet"
   ]
  },
  {
   "cell_type": "code",
   "execution_count": null,
   "metadata": {},
   "outputs": [],
   "source": [
    "coeff_df = pd.DataFrame()\n",
    "\n",
    "params = [0.1, 0.3, 0.5]\n",
    "\n",
    "for param in params:\n",
    "    en_reg = ElasticNet(alpha=param, l1_ratio=0.7)\n",
    "\n",
    "    neg_mse_scores = cross_val_score(en_reg, X_features, y_target, scoring=\"neg_mean_squared_error\",\n",
    "                                     cv = 5)\n",
    "    avg_rmse = np.mean(np.sqrt(-1 * neg_mse_scores))\n",
    "    print('alpha {0}일 때 5 폴드 세트의 평균 RMSE: {1:.3f} '.format(param, avg_rmse))\n",
    "    # cross_val_score는 evaluation metric만 반환하므로 모델을 다시 학습하여 회귀 계수 추출\n",
    "\n",
    "    en_reg.fit(X_features , y_target)\n",
    "    # alpha에 따른 피처별 회귀 계수를 Series로 변환하고 이를 DataFrame의 컬럼으로 추가. \n",
    "    coeff = pd.Series(data=en_reg.coef_ , index=X_features.columns )\n",
    "    colname='alpha:'+str(param)\n",
    "    coeff_df[colname] = coeff\n",
    "    \n",
    "coeff_df"
   ]
  },
  {
   "cell_type": "markdown",
   "metadata": {},
   "source": [
    "## DecisionTreeRegressor"
   ]
  },
  {
   "cell_type": "markdown",
   "metadata": {},
   "source": [
    "### GridSearchCV"
   ]
  },
  {
   "cell_type": "code",
   "execution_count": 116,
   "metadata": {
    "ExecuteTime": {
     "end_time": "2021-08-28T06:40:44.585315Z",
     "start_time": "2021-08-28T06:40:40.313152Z"
    }
   },
   "outputs": [
    {
     "name": "stdout",
     "output_type": "stream",
     "text": [
      "Fitting 5 folds for each of 32 candidates, totalling 160 fits\n"
     ]
    },
    {
     "name": "stderr",
     "output_type": "stream",
     "text": [
      "[Parallel(n_jobs=-1)]: Using backend LokyBackend with 8 concurrent workers.\n",
      "[Parallel(n_jobs=-1)]: Done  34 tasks      | elapsed:    3.7s\n",
      "[Parallel(n_jobs=-1)]: Done 145 out of 160 | elapsed:    4.1s remaining:    0.3s\n",
      "[Parallel(n_jobs=-1)]: Done 160 out of 160 | elapsed:    4.1s finished\n"
     ]
    },
    {
     "ename": "ValueError",
     "evalue": "too many values to unpack (expected 4)",
     "output_type": "error",
     "traceback": [
      "\u001b[1;31m---------------------------------------------------------------------------\u001b[0m",
      "\u001b[1;31mValueError\u001b[0m                                Traceback (most recent call last)",
      "\u001b[1;32m<ipython-input-116-15e10e77208a>\u001b[0m in \u001b[0;36m<module>\u001b[1;34m\u001b[0m\n\u001b[0;32m     10\u001b[0m                 verbose=True, cv=5, scoring = \"neg_mean_squared_error\", n_jobs=-1)\n\u001b[0;32m     11\u001b[0m \u001b[1;33m\u001b[0m\u001b[0m\n\u001b[1;32m---> 12\u001b[1;33m \u001b[0mgd\u001b[0m\u001b[1;33m.\u001b[0m\u001b[0mfit\u001b[0m\u001b[1;33m(\u001b[0m\u001b[0mX_train\u001b[0m\u001b[1;33m,\u001b[0m \u001b[0my_train\u001b[0m\u001b[1;33m)\u001b[0m\u001b[1;33m\u001b[0m\u001b[1;33m\u001b[0m\u001b[0m\n\u001b[0m\u001b[0;32m     13\u001b[0m \u001b[0mprint\u001b[0m\u001b[1;33m(\u001b[0m\u001b[0mgd\u001b[0m\u001b[1;33m.\u001b[0m\u001b[0mbest_score_\u001b[0m\u001b[1;33m)\u001b[0m\u001b[1;33m\u001b[0m\u001b[1;33m\u001b[0m\u001b[0m\n\u001b[0;32m     14\u001b[0m \u001b[0mprint\u001b[0m\u001b[1;33m(\u001b[0m\u001b[0mgd\u001b[0m\u001b[1;33m.\u001b[0m\u001b[0mbest_params_\u001b[0m\u001b[1;33m)\u001b[0m\u001b[1;33m\u001b[0m\u001b[1;33m\u001b[0m\u001b[0m\n",
      "\u001b[1;32mC:\\ProgramData\\Anaconda3\\lib\\site-packages\\sklearn\\utils\\validation.py\u001b[0m in \u001b[0;36minner_f\u001b[1;34m(*args, **kwargs)\u001b[0m\n\u001b[0;32m     71\u001b[0m                           \u001b[1;34mf\"{version} passing these as positional arguments \"\u001b[0m\u001b[1;33m\u001b[0m\u001b[1;33m\u001b[0m\u001b[0m\n\u001b[0;32m     72\u001b[0m                           \"will result in an error\", FutureWarning)\n\u001b[1;32m---> 73\u001b[1;33m             \u001b[0mkwargs\u001b[0m\u001b[1;33m.\u001b[0m\u001b[0mupdate\u001b[0m\u001b[1;33m(\u001b[0m\u001b[0mzip\u001b[0m\u001b[1;33m(\u001b[0m\u001b[0msig\u001b[0m\u001b[1;33m.\u001b[0m\u001b[0mparameters\u001b[0m\u001b[1;33m,\u001b[0m \u001b[0margs\u001b[0m\u001b[1;33m)\u001b[0m\u001b[1;33m)\u001b[0m\u001b[1;33m\u001b[0m\u001b[1;33m\u001b[0m\u001b[0m\n\u001b[0m\u001b[0;32m     74\u001b[0m             \u001b[1;32mreturn\u001b[0m \u001b[0mf\u001b[0m\u001b[1;33m(\u001b[0m\u001b[1;33m**\u001b[0m\u001b[0mkwargs\u001b[0m\u001b[1;33m)\u001b[0m\u001b[1;33m\u001b[0m\u001b[1;33m\u001b[0m\u001b[0m\n\u001b[0;32m     75\u001b[0m         \u001b[1;32mreturn\u001b[0m \u001b[0minner_f\u001b[0m\u001b[1;33m\u001b[0m\u001b[1;33m\u001b[0m\u001b[0m\n",
      "\u001b[1;32mC:\\ProgramData\\Anaconda3\\lib\\site-packages\\sklearn\\model_selection\\_search.py\u001b[0m in \u001b[0;36mfit\u001b[1;34m(self, X, y, groups, **fit_params)\u001b[0m\n\u001b[0;32m    734\u001b[0m         \u001b[0my\u001b[0m \u001b[1;33m:\u001b[0m \u001b[0marray\u001b[0m\u001b[1;33m-\u001b[0m\u001b[0mlike\u001b[0m \u001b[0mof\u001b[0m \u001b[0mshape\u001b[0m \u001b[1;33m(\u001b[0m\u001b[0mn_samples\u001b[0m\u001b[1;33m,\u001b[0m \u001b[0mn_output\u001b[0m\u001b[1;33m)\u001b[0m\u001b[0;31m \u001b[0m\u001b[0;31m\\\u001b[0m\u001b[1;33m\u001b[0m\u001b[1;33m\u001b[0m\u001b[0m\n\u001b[0;32m    735\u001b[0m             \u001b[1;32mor\u001b[0m \u001b[1;33m(\u001b[0m\u001b[0mn_samples\u001b[0m\u001b[1;33m,\u001b[0m\u001b[1;33m)\u001b[0m\u001b[1;33m,\u001b[0m \u001b[0mdefault\u001b[0m\u001b[1;33m=\u001b[0m\u001b[1;32mNone\u001b[0m\u001b[1;33m\u001b[0m\u001b[1;33m\u001b[0m\u001b[0m\n\u001b[1;32m--> 736\u001b[1;33m             \u001b[0mTarget\u001b[0m \u001b[0mrelative\u001b[0m \u001b[0mto\u001b[0m \u001b[0mX\u001b[0m \u001b[1;32mfor\u001b[0m \u001b[0mclassification\u001b[0m \u001b[1;32mor\u001b[0m \u001b[0mregression\u001b[0m\u001b[1;33m;\u001b[0m\u001b[1;33m\u001b[0m\u001b[1;33m\u001b[0m\u001b[0m\n\u001b[0m\u001b[0;32m    737\u001b[0m             \u001b[1;32mNone\u001b[0m \u001b[1;32mfor\u001b[0m \u001b[0munsupervised\u001b[0m \u001b[0mlearning\u001b[0m\u001b[1;33m.\u001b[0m\u001b[1;33m\u001b[0m\u001b[1;33m\u001b[0m\u001b[0m\n\u001b[0;32m    738\u001b[0m \u001b[1;33m\u001b[0m\u001b[0m\n",
      "\u001b[1;32mC:\\ProgramData\\Anaconda3\\lib\\site-packages\\sklearn\\model_selection\\_search.py\u001b[0m in \u001b[0;36m_run_search\u001b[1;34m(self, evaluate_candidates)\u001b[0m\n\u001b[0;32m   1186\u001b[0m             \u001b[1;34m'mean_score_time'\u001b[0m    \u001b[1;33m:\u001b[0m \u001b[1;33m[\u001b[0m\u001b[1;36m0.01\u001b[0m\u001b[1;33m,\u001b[0m \u001b[1;36m0.06\u001b[0m\u001b[1;33m,\u001b[0m \u001b[1;36m0.04\u001b[0m\u001b[1;33m,\u001b[0m \u001b[1;36m0.04\u001b[0m\u001b[1;33m]\u001b[0m\u001b[1;33m,\u001b[0m\u001b[1;33m\u001b[0m\u001b[1;33m\u001b[0m\u001b[0m\n\u001b[0;32m   1187\u001b[0m             \u001b[1;34m'std_score_time'\u001b[0m     \u001b[1;33m:\u001b[0m \u001b[1;33m[\u001b[0m\u001b[1;36m0.00\u001b[0m\u001b[1;33m,\u001b[0m \u001b[1;36m0.00\u001b[0m\u001b[1;33m,\u001b[0m \u001b[1;36m0.00\u001b[0m\u001b[1;33m,\u001b[0m \u001b[1;36m0.01\u001b[0m\u001b[1;33m]\u001b[0m\u001b[1;33m,\u001b[0m\u001b[1;33m\u001b[0m\u001b[1;33m\u001b[0m\u001b[0m\n\u001b[1;32m-> 1188\u001b[1;33m             \u001b[1;34m'params'\u001b[0m             \u001b[1;33m:\u001b[0m \u001b[1;33m[\u001b[0m\u001b[1;33m{\u001b[0m\u001b[1;34m'kernel'\u001b[0m\u001b[1;33m:\u001b[0m \u001b[1;34m'poly'\u001b[0m\u001b[1;33m,\u001b[0m \u001b[1;34m'degree'\u001b[0m\u001b[1;33m:\u001b[0m \u001b[1;36m2\u001b[0m\u001b[1;33m}\u001b[0m\u001b[1;33m,\u001b[0m \u001b[1;33m...\u001b[0m\u001b[1;33m]\u001b[0m\u001b[1;33m,\u001b[0m\u001b[1;33m\u001b[0m\u001b[1;33m\u001b[0m\u001b[0m\n\u001b[0m\u001b[0;32m   1189\u001b[0m             }\n\u001b[0;32m   1190\u001b[0m \u001b[1;33m\u001b[0m\u001b[0m\n",
      "\u001b[1;32mC:\\ProgramData\\Anaconda3\\lib\\site-packages\\sklearn\\model_selection\\_search.py\u001b[0m in \u001b[0;36mevaluate_candidates\u001b[1;34m(candidate_params)\u001b[0m\n\u001b[0;32m    730\u001b[0m         \u001b[0mX\u001b[0m \u001b[1;33m:\u001b[0m \u001b[0marray\u001b[0m\u001b[1;33m-\u001b[0m\u001b[0mlike\u001b[0m \u001b[0mof\u001b[0m \u001b[0mshape\u001b[0m \u001b[1;33m(\u001b[0m\u001b[0mn_samples\u001b[0m\u001b[1;33m,\u001b[0m \u001b[0mn_features\u001b[0m\u001b[1;33m)\u001b[0m\u001b[1;33m\u001b[0m\u001b[1;33m\u001b[0m\u001b[0m\n\u001b[0;32m    731\u001b[0m             \u001b[0mTraining\u001b[0m \u001b[0mvector\u001b[0m\u001b[1;33m,\u001b[0m \u001b[0mwhere\u001b[0m \u001b[0mn_samples\u001b[0m \u001b[1;32mis\u001b[0m \u001b[0mthe\u001b[0m \u001b[0mnumber\u001b[0m \u001b[0mof\u001b[0m \u001b[0msamples\u001b[0m \u001b[1;32mand\u001b[0m\u001b[1;33m\u001b[0m\u001b[1;33m\u001b[0m\u001b[0m\n\u001b[1;32m--> 732\u001b[1;33m             \u001b[0mn_features\u001b[0m \u001b[1;32mis\u001b[0m \u001b[0mthe\u001b[0m \u001b[0mnumber\u001b[0m \u001b[0mof\u001b[0m \u001b[0mfeatures\u001b[0m\u001b[1;33m.\u001b[0m\u001b[1;33m\u001b[0m\u001b[1;33m\u001b[0m\u001b[0m\n\u001b[0m\u001b[0;32m    733\u001b[0m \u001b[1;33m\u001b[0m\u001b[0m\n\u001b[0;32m    734\u001b[0m         \u001b[0my\u001b[0m \u001b[1;33m:\u001b[0m \u001b[0marray\u001b[0m\u001b[1;33m-\u001b[0m\u001b[0mlike\u001b[0m \u001b[0mof\u001b[0m \u001b[0mshape\u001b[0m \u001b[1;33m(\u001b[0m\u001b[0mn_samples\u001b[0m\u001b[1;33m,\u001b[0m \u001b[0mn_output\u001b[0m\u001b[1;33m)\u001b[0m\u001b[0;31m \u001b[0m\u001b[0;31m\\\u001b[0m\u001b[1;33m\u001b[0m\u001b[1;33m\u001b[0m\u001b[0m\n",
      "\u001b[1;32mC:\\ProgramData\\Anaconda3\\lib\\site-packages\\sklearn\\model_selection\\_search.py\u001b[0m in \u001b[0;36m_format_results\u001b[1;34m(self, candidate_params, scorers, n_splits, out)\u001b[0m\n\u001b[0;32m    785\u001b[0m                                     more_results=None):\n\u001b[0;32m    786\u001b[0m                 \u001b[0mcv\u001b[0m \u001b[1;33m=\u001b[0m \u001b[0mcv\u001b[0m \u001b[1;32mor\u001b[0m \u001b[0mcv_orig\u001b[0m\u001b[1;33m\u001b[0m\u001b[1;33m\u001b[0m\u001b[0m\n\u001b[1;32m--> 787\u001b[1;33m                 \u001b[0mcandidate_params\u001b[0m \u001b[1;33m=\u001b[0m \u001b[0mlist\u001b[0m\u001b[1;33m(\u001b[0m\u001b[0mcandidate_params\u001b[0m\u001b[1;33m)\u001b[0m\u001b[1;33m\u001b[0m\u001b[1;33m\u001b[0m\u001b[0m\n\u001b[0m\u001b[0;32m    788\u001b[0m                 \u001b[0mn_candidates\u001b[0m \u001b[1;33m=\u001b[0m \u001b[0mlen\u001b[0m\u001b[1;33m(\u001b[0m\u001b[0mcandidate_params\u001b[0m\u001b[1;33m)\u001b[0m\u001b[1;33m\u001b[0m\u001b[1;33m\u001b[0m\u001b[0m\n\u001b[0;32m    789\u001b[0m \u001b[1;33m\u001b[0m\u001b[0m\n",
      "\u001b[1;31mValueError\u001b[0m: too many values to unpack (expected 4)"
     ]
    }
   ],
   "source": [
    "max_depth = [3, None]\n",
    "max_features = [0.1, 0.2, 0.5, 0.8]\n",
    "min_samples_split = [2, 10]\n",
    "min_samples_leaf = [2, 10]\n",
    "\n",
    "hyperparams = {'max_depth': max_depth, 'max_features': max_features,\n",
    "               'min_samples_split': min_samples_split, 'min_samples_leaf': min_samples_leaf}\n",
    "\n",
    "gd=GridSearchCV(estimator = DecisionTreeRegressor(), param_grid = hyperparams, \n",
    "                verbose=True, cv=5, scoring = \"neg_mean_squared_error\", n_jobs=-1)\n",
    "\n",
    "gd.fit(X_train, y_train)\n",
    "print(gd.best_score_)\n",
    "print(gd.best_params_)"
   ]
  },
  {
   "cell_type": "code",
   "execution_count": null,
   "metadata": {},
   "outputs": [],
   "source": [
    "coeff_df = pd.DataFrame()\n",
    "\n",
    "params = [3,2]\n",
    "\n",
    "for param in params:\n",
    "    ridge_reg = DecisionTreeRegressor(max_depth = param)\n",
    "\n",
    "    neg_mse_scores = cross_val_score(ridge_reg, X_features, y_target, scoring=\"neg_mean_squared_error\",\n",
    "                                     cv = 5)\n",
    "    avg_rmse = np.mean(np.sqrt(-1 * neg_mse_scores))\n",
    "    print('alpha {0}일 때 세트의 평균 MSE: {1:.3f} '.format(param, avg_rmse))\n",
    "    print('개별 MSE scores:',np.round(-1 * neg_mse_scores, 2))\n",
    "    print('alpha {0}일 때 개별 RMSE scores: '.format(param, np.round(-1 * neg_mse_scores, 2))\n",
    "    print('alpha {0}일 때 세트의 평균 RMSE: {1}'.format(param, avg_rmse))\n",
    "    # cross_val_score는 evaluation metric만 반환하므로 모델을 다시 학습하여 회귀 계수 추출\n",
    "\n",
    "    ridge_reg.fit(X_features , y_target)\n",
    "    # alpha에 따른 피처별 회귀 계수를 Series로 변환하고 이를 DataFrame의 컬럼으로 추가. \n",
    "    coeff = pd.Series(data=ridge_reg.coef_ , index=X_features.columns )\n",
    "    colname='alpha:'+str(param)\n",
    "    coeff_df[colname] = coeff\n",
    "    \n",
    "coeff_df"
   ]
  },
  {
   "cell_type": "markdown",
   "metadata": {},
   "source": [
    "## RandomForestRegressor"
   ]
  },
  {
   "cell_type": "markdown",
   "metadata": {},
   "source": [
    "## GradientBoostingRegressor"
   ]
  },
  {
   "cell_type": "markdown",
   "metadata": {},
   "source": [
    "## XGBRegressor"
   ]
  },
  {
   "cell_type": "markdown",
   "metadata": {},
   "source": [
    "## LGBMRegressor"
   ]
  },
  {
   "cell_type": "code",
   "execution_count": null,
   "metadata": {},
   "outputs": [],
   "source": [
    "from sklearn.tree import DecisionTreeRegressor\n",
    "from sklearn.ensemble import RandomForestRegressor\n",
    "from sklearn.ensemble import GradientBoostingRegressor\n",
    "from xgboost import XGBRegressor\n",
    "from lightgbm import LGBMRegressor\n",
    "\n",
    "dt_reg = DecisionTreeRegressor(random_state=0, max_depth=4)\n",
    "rf_reg = RandomForestRegressor(random_state=0, n_estimators=1000)\n",
    "gb_reg = GradientBoostingRegressor(random_state=0, n_estimators=1000)\n",
    "xgb_reg = XGBRegressor(n_estimators=1000)\n",
    "lgbm_reg = LGBMRegressor(n_estimators=1000)\n",
    "\n",
    "# 트리 기반의 회귀 모델을 반복하면서 평가 수행 \n",
    "models = [dt_reg, rf_reg, gb_reg, xgb_reg, lgbm_reg]\n",
    "for model in models:\n",
    "    get_model_predict(model,X_train, X_test, y_train, y_test,is_expm1=True)\n",
    "    get_model_cv_prediction(model, X_data, y_target)"
   ]
  },
  {
   "cell_type": "code",
   "execution_count": null,
   "metadata": {},
   "outputs": [],
   "source": []
  },
  {
   "cell_type": "code",
   "execution_count": null,
   "metadata": {},
   "outputs": [],
   "source": []
  },
  {
   "cell_type": "code",
   "execution_count": null,
   "metadata": {},
   "outputs": [],
   "source": []
  },
  {
   "cell_type": "code",
   "execution_count": null,
   "metadata": {},
   "outputs": [],
   "source": []
  },
  {
   "cell_type": "code",
   "execution_count": null,
   "metadata": {},
   "outputs": [],
   "source": []
  },
  {
   "cell_type": "code",
   "execution_count": null,
   "metadata": {},
   "outputs": [],
   "source": []
  },
  {
   "cell_type": "code",
   "execution_count": null,
   "metadata": {},
   "outputs": [],
   "source": []
  },
  {
   "cell_type": "code",
   "execution_count": null,
   "metadata": {},
   "outputs": [],
   "source": []
  },
  {
   "cell_type": "code",
   "execution_count": null,
   "metadata": {},
   "outputs": [],
   "source": []
  }
 ],
 "metadata": {
  "hide_input": false,
  "kernelspec": {
   "display_name": "Python 3",
   "language": "python",
   "name": "python3"
  },
  "language_info": {
   "codemirror_mode": {
    "name": "ipython",
    "version": 3
   },
   "file_extension": ".py",
   "mimetype": "text/x-python",
   "name": "python",
   "nbconvert_exporter": "python",
   "pygments_lexer": "ipython3",
   "version": "3.8.3"
  },
  "toc": {
   "base_numbering": 1,
   "nav_menu": {},
   "number_sections": true,
   "sideBar": true,
   "skip_h1_title": false,
   "title_cell": "Table of Contents",
   "title_sidebar": "Contents",
   "toc_cell": false,
   "toc_position": {
    "height": "calc(100% - 180px)",
    "left": "10px",
    "top": "150px",
    "width": "284.271px"
   },
   "toc_section_display": true,
   "toc_window_display": true
  },
  "varInspector": {
   "cols": {
    "lenName": 16,
    "lenType": 16,
    "lenVar": 40
   },
   "kernels_config": {
    "python": {
     "delete_cmd_postfix": "",
     "delete_cmd_prefix": "del ",
     "library": "var_list.py",
     "varRefreshCmd": "print(var_dic_list())"
    },
    "r": {
     "delete_cmd_postfix": ") ",
     "delete_cmd_prefix": "rm(",
     "library": "var_list.r",
     "varRefreshCmd": "cat(var_dic_list()) "
    }
   },
   "types_to_exclude": [
    "module",
    "function",
    "builtin_function_or_method",
    "instance",
    "_Feature"
   ],
   "window_display": false
  }
 },
 "nbformat": 4,
 "nbformat_minor": 4
}
