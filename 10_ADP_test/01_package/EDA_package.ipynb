{
 "cells": [
  {
   "cell_type": "code",
   "execution_count": 1,
   "metadata": {
    "ExecuteTime": {
     "end_time": "2021-11-22T01:44:42.146100Z",
     "start_time": "2021-11-22T01:44:40.621165Z"
    }
   },
   "outputs": [],
   "source": [
    "import numpy as np\n",
    "import pandas as pd\n",
    "import json\n",
    "import datetime as dt\n",
    "import matplotlib.pyplot as plt\n",
    "import matplotlib.ticker as ticker\n",
    "%matplotlib inline\n",
    "import seaborn as sns\n",
    "plt.style.use('seaborn-whitegrid')\n",
    "import re\n",
    "import glob\n",
    "import os\n",
    "\n",
    "from scipy import stats\n",
    "from scipy.integrate import trapz\n",
    "\n",
    "import missingno as msno\n",
    "\n",
    "import sys\n",
    "import warnings\n",
    "warnings.filterwarnings('ignore')\n",
    "pd.set_option('max_columns', 20, 'max_rows', 20, 'max_colwidth', 10)"
   ]
  },
  {
   "cell_type": "markdown",
   "metadata": {},
   "source": [
    "# 데이터 불러오기"
   ]
  },
  {
   "cell_type": "code",
   "execution_count": 8,
   "metadata": {
    "ExecuteTime": {
     "end_time": "2021-11-22T01:57:11.197464Z",
     "start_time": "2021-11-22T01:57:11.182459Z"
    }
   },
   "outputs": [],
   "source": [
    "train_df = pd.read_csv(r'C:\\puzzledata\\OneDrive - 퍼즐데이터\\01_sejin\\01_Python\\03_dataset\\01_titanic\\train.csv')\n",
    "test_df = pd.read_csv(r'C:\\puzzledata\\OneDrive - 퍼즐데이터\\01_sejin\\01_Python\\03_dataset\\01_titanic\\test.csv')"
   ]
  },
  {
   "cell_type": "markdown",
   "metadata": {},
   "source": [
    "## 파일 탐색"
   ]
  },
  {
   "cell_type": "code",
   "execution_count": 10,
   "metadata": {
    "ExecuteTime": {
     "end_time": "2021-11-22T01:57:36.341332Z",
     "start_time": "2021-11-22T01:57:36.319327Z"
    },
    "scrolled": true
   },
   "outputs": [
    {
     "data": {
      "text/html": [
       "<div>\n",
       "<style scoped>\n",
       "    .dataframe tbody tr th:only-of-type {\n",
       "        vertical-align: middle;\n",
       "    }\n",
       "\n",
       "    .dataframe tbody tr th {\n",
       "        vertical-align: top;\n",
       "    }\n",
       "\n",
       "    .dataframe thead th {\n",
       "        text-align: right;\n",
       "    }\n",
       "</style>\n",
       "<table border=\"1\" class=\"dataframe\">\n",
       "  <thead>\n",
       "    <tr style=\"text-align: right;\">\n",
       "      <th></th>\n",
       "      <th>PassengerId</th>\n",
       "      <th>Survived</th>\n",
       "      <th>Pclass</th>\n",
       "      <th>Name</th>\n",
       "      <th>Sex</th>\n",
       "      <th>Age</th>\n",
       "      <th>SibSp</th>\n",
       "      <th>Parch</th>\n",
       "      <th>Ticket</th>\n",
       "      <th>Fare</th>\n",
       "      <th>Cabin</th>\n",
       "      <th>Embarked</th>\n",
       "    </tr>\n",
       "  </thead>\n",
       "  <tbody>\n",
       "    <tr>\n",
       "      <th>0</th>\n",
       "      <td>1</td>\n",
       "      <td>0</td>\n",
       "      <td>3</td>\n",
       "      <td>Braund...</td>\n",
       "      <td>male</td>\n",
       "      <td>22.0</td>\n",
       "      <td>1</td>\n",
       "      <td>0</td>\n",
       "      <td>A/5 21171</td>\n",
       "      <td>7.2500</td>\n",
       "      <td>NaN</td>\n",
       "      <td>S</td>\n",
       "    </tr>\n",
       "    <tr>\n",
       "      <th>1</th>\n",
       "      <td>2</td>\n",
       "      <td>1</td>\n",
       "      <td>1</td>\n",
       "      <td>Cuming...</td>\n",
       "      <td>female</td>\n",
       "      <td>38.0</td>\n",
       "      <td>1</td>\n",
       "      <td>0</td>\n",
       "      <td>PC 17599</td>\n",
       "      <td>71.2833</td>\n",
       "      <td>C85</td>\n",
       "      <td>C</td>\n",
       "    </tr>\n",
       "    <tr>\n",
       "      <th>2</th>\n",
       "      <td>3</td>\n",
       "      <td>1</td>\n",
       "      <td>3</td>\n",
       "      <td>Heikki...</td>\n",
       "      <td>female</td>\n",
       "      <td>26.0</td>\n",
       "      <td>0</td>\n",
       "      <td>0</td>\n",
       "      <td>STON/O...</td>\n",
       "      <td>7.9250</td>\n",
       "      <td>NaN</td>\n",
       "      <td>S</td>\n",
       "    </tr>\n",
       "    <tr>\n",
       "      <th>3</th>\n",
       "      <td>4</td>\n",
       "      <td>1</td>\n",
       "      <td>1</td>\n",
       "      <td>Futrel...</td>\n",
       "      <td>female</td>\n",
       "      <td>35.0</td>\n",
       "      <td>1</td>\n",
       "      <td>0</td>\n",
       "      <td>113803</td>\n",
       "      <td>53.1000</td>\n",
       "      <td>C123</td>\n",
       "      <td>S</td>\n",
       "    </tr>\n",
       "    <tr>\n",
       "      <th>4</th>\n",
       "      <td>5</td>\n",
       "      <td>0</td>\n",
       "      <td>3</td>\n",
       "      <td>Allen,...</td>\n",
       "      <td>male</td>\n",
       "      <td>35.0</td>\n",
       "      <td>0</td>\n",
       "      <td>0</td>\n",
       "      <td>373450</td>\n",
       "      <td>8.0500</td>\n",
       "      <td>NaN</td>\n",
       "      <td>S</td>\n",
       "    </tr>\n",
       "  </tbody>\n",
       "</table>\n",
       "</div>"
      ],
      "text/plain": [
       "   PassengerId  Survived  Pclass       Name     Sex   Age  SibSp  Parch  \\\n",
       "0          1           0       3  Braund...    male  22.0      1      0   \n",
       "1          2           1       1  Cuming...  female  38.0      1      0   \n",
       "2          3           1       3  Heikki...  female  26.0      0      0   \n",
       "3          4           1       1  Futrel...  female  35.0      1      0   \n",
       "4          5           0       3  Allen,...    male  35.0      0      0   \n",
       "\n",
       "      Ticket     Fare Cabin Embarked  \n",
       "0  A/5 21171   7.2500   NaN        S  \n",
       "1   PC 17599  71.2833   C85        C  \n",
       "2  STON/O...   7.9250   NaN        S  \n",
       "3     113803  53.1000  C123        S  \n",
       "4     373450   8.0500   NaN        S  "
      ]
     },
     "execution_count": 10,
     "metadata": {},
     "output_type": "execute_result"
    }
   ],
   "source": [
    "train_df.head()"
   ]
  },
  {
   "cell_type": "code",
   "execution_count": 11,
   "metadata": {
    "ExecuteTime": {
     "end_time": "2021-11-22T02:00:14.018209Z",
     "start_time": "2021-11-22T02:00:13.991202Z"
    }
   },
   "outputs": [
    {
     "data": {
      "text/html": [
       "<div>\n",
       "<style scoped>\n",
       "    .dataframe tbody tr th:only-of-type {\n",
       "        vertical-align: middle;\n",
       "    }\n",
       "\n",
       "    .dataframe tbody tr th {\n",
       "        vertical-align: top;\n",
       "    }\n",
       "\n",
       "    .dataframe thead th {\n",
       "        text-align: right;\n",
       "    }\n",
       "</style>\n",
       "<table border=\"1\" class=\"dataframe\">\n",
       "  <thead>\n",
       "    <tr style=\"text-align: right;\">\n",
       "      <th></th>\n",
       "      <th>PassengerId</th>\n",
       "      <th>Survived</th>\n",
       "      <th>Pclass</th>\n",
       "      <th>Age</th>\n",
       "      <th>SibSp</th>\n",
       "      <th>Parch</th>\n",
       "      <th>Fare</th>\n",
       "    </tr>\n",
       "  </thead>\n",
       "  <tbody>\n",
       "    <tr>\n",
       "      <th>count</th>\n",
       "      <td>891.00...</td>\n",
       "      <td>891.00...</td>\n",
       "      <td>891.00...</td>\n",
       "      <td>714.00...</td>\n",
       "      <td>891.00...</td>\n",
       "      <td>891.00...</td>\n",
       "      <td>891.00...</td>\n",
       "    </tr>\n",
       "    <tr>\n",
       "      <th>mean</th>\n",
       "      <td>446.00...</td>\n",
       "      <td>0.383838</td>\n",
       "      <td>2.308642</td>\n",
       "      <td>29.699118</td>\n",
       "      <td>0.523008</td>\n",
       "      <td>0.381594</td>\n",
       "      <td>32.204208</td>\n",
       "    </tr>\n",
       "    <tr>\n",
       "      <th>std</th>\n",
       "      <td>257.35...</td>\n",
       "      <td>0.486592</td>\n",
       "      <td>0.836071</td>\n",
       "      <td>14.526497</td>\n",
       "      <td>1.102743</td>\n",
       "      <td>0.806057</td>\n",
       "      <td>49.693429</td>\n",
       "    </tr>\n",
       "    <tr>\n",
       "      <th>min</th>\n",
       "      <td>1.000000</td>\n",
       "      <td>0.000000</td>\n",
       "      <td>1.000000</td>\n",
       "      <td>0.420000</td>\n",
       "      <td>0.000000</td>\n",
       "      <td>0.000000</td>\n",
       "      <td>0.000000</td>\n",
       "    </tr>\n",
       "    <tr>\n",
       "      <th>25%</th>\n",
       "      <td>223.50...</td>\n",
       "      <td>0.000000</td>\n",
       "      <td>2.000000</td>\n",
       "      <td>20.125000</td>\n",
       "      <td>0.000000</td>\n",
       "      <td>0.000000</td>\n",
       "      <td>7.910400</td>\n",
       "    </tr>\n",
       "    <tr>\n",
       "      <th>50%</th>\n",
       "      <td>446.00...</td>\n",
       "      <td>0.000000</td>\n",
       "      <td>3.000000</td>\n",
       "      <td>28.000000</td>\n",
       "      <td>0.000000</td>\n",
       "      <td>0.000000</td>\n",
       "      <td>14.454200</td>\n",
       "    </tr>\n",
       "    <tr>\n",
       "      <th>75%</th>\n",
       "      <td>668.50...</td>\n",
       "      <td>1.000000</td>\n",
       "      <td>3.000000</td>\n",
       "      <td>38.000000</td>\n",
       "      <td>1.000000</td>\n",
       "      <td>0.000000</td>\n",
       "      <td>31.000000</td>\n",
       "    </tr>\n",
       "    <tr>\n",
       "      <th>max</th>\n",
       "      <td>891.00...</td>\n",
       "      <td>1.000000</td>\n",
       "      <td>3.000000</td>\n",
       "      <td>80.000000</td>\n",
       "      <td>8.000000</td>\n",
       "      <td>6.000000</td>\n",
       "      <td>512.32...</td>\n",
       "    </tr>\n",
       "  </tbody>\n",
       "</table>\n",
       "</div>"
      ],
      "text/plain": [
       "       PassengerId   Survived     Pclass        Age      SibSp      Parch  \\\n",
       "count  891.00...    891.00...  891.00...  714.00...  891.00...  891.00...   \n",
       "mean   446.00...     0.383838   2.308642  29.699118   0.523008   0.381594   \n",
       "std    257.35...     0.486592   0.836071  14.526497   1.102743   0.806057   \n",
       "min     1.000000     0.000000   1.000000   0.420000   0.000000   0.000000   \n",
       "25%    223.50...     0.000000   2.000000  20.125000   0.000000   0.000000   \n",
       "50%    446.00...     0.000000   3.000000  28.000000   0.000000   0.000000   \n",
       "75%    668.50...     1.000000   3.000000  38.000000   1.000000   0.000000   \n",
       "max    891.00...     1.000000   3.000000  80.000000   8.000000   6.000000   \n",
       "\n",
       "            Fare  \n",
       "count  891.00...  \n",
       "mean   32.204208  \n",
       "std    49.693429  \n",
       "min     0.000000  \n",
       "25%     7.910400  \n",
       "50%    14.454200  \n",
       "75%    31.000000  \n",
       "max    512.32...  "
      ]
     },
     "execution_count": 11,
     "metadata": {},
     "output_type": "execute_result"
    }
   ],
   "source": [
    "train_df.describe()"
   ]
  },
  {
   "cell_type": "code",
   "execution_count": null,
   "metadata": {},
   "outputs": [],
   "source": [
    "- 해당 컬럼은 연속된 값을 가진 컬럼임"
   ]
  },
  {
   "cell_type": "code",
   "execution_count": 12,
   "metadata": {
    "ExecuteTime": {
     "end_time": "2021-11-22T02:00:23.109258Z",
     "start_time": "2021-11-22T02:00:23.055246Z"
    }
   },
   "outputs": [
    {
     "data": {
      "text/html": [
       "<div>\n",
       "<style scoped>\n",
       "    .dataframe tbody tr th:only-of-type {\n",
       "        vertical-align: middle;\n",
       "    }\n",
       "\n",
       "    .dataframe tbody tr th {\n",
       "        vertical-align: top;\n",
       "    }\n",
       "\n",
       "    .dataframe thead th {\n",
       "        text-align: right;\n",
       "    }\n",
       "</style>\n",
       "<table border=\"1\" class=\"dataframe\">\n",
       "  <thead>\n",
       "    <tr style=\"text-align: right;\">\n",
       "      <th></th>\n",
       "      <th>PassengerId</th>\n",
       "      <th>Survived</th>\n",
       "      <th>Pclass</th>\n",
       "      <th>Name</th>\n",
       "      <th>Sex</th>\n",
       "      <th>Age</th>\n",
       "      <th>SibSp</th>\n",
       "      <th>Parch</th>\n",
       "      <th>Ticket</th>\n",
       "      <th>Fare</th>\n",
       "      <th>Cabin</th>\n",
       "      <th>Embarked</th>\n",
       "    </tr>\n",
       "  </thead>\n",
       "  <tbody>\n",
       "    <tr>\n",
       "      <th>count</th>\n",
       "      <td>891.00...</td>\n",
       "      <td>891.00...</td>\n",
       "      <td>891.00...</td>\n",
       "      <td>891</td>\n",
       "      <td>891</td>\n",
       "      <td>714.00...</td>\n",
       "      <td>891.00...</td>\n",
       "      <td>891.00...</td>\n",
       "      <td>891</td>\n",
       "      <td>891.00...</td>\n",
       "      <td>204</td>\n",
       "      <td>889</td>\n",
       "    </tr>\n",
       "    <tr>\n",
       "      <th>unique</th>\n",
       "      <td>NaN</td>\n",
       "      <td>NaN</td>\n",
       "      <td>NaN</td>\n",
       "      <td>891</td>\n",
       "      <td>2</td>\n",
       "      <td>NaN</td>\n",
       "      <td>NaN</td>\n",
       "      <td>NaN</td>\n",
       "      <td>681</td>\n",
       "      <td>NaN</td>\n",
       "      <td>147</td>\n",
       "      <td>3</td>\n",
       "    </tr>\n",
       "    <tr>\n",
       "      <th>top</th>\n",
       "      <td>NaN</td>\n",
       "      <td>NaN</td>\n",
       "      <td>NaN</td>\n",
       "      <td>Hickma...</td>\n",
       "      <td>male</td>\n",
       "      <td>NaN</td>\n",
       "      <td>NaN</td>\n",
       "      <td>NaN</td>\n",
       "      <td>CA. 2343</td>\n",
       "      <td>NaN</td>\n",
       "      <td>C23 C2...</td>\n",
       "      <td>S</td>\n",
       "    </tr>\n",
       "    <tr>\n",
       "      <th>freq</th>\n",
       "      <td>NaN</td>\n",
       "      <td>NaN</td>\n",
       "      <td>NaN</td>\n",
       "      <td>1</td>\n",
       "      <td>577</td>\n",
       "      <td>NaN</td>\n",
       "      <td>NaN</td>\n",
       "      <td>NaN</td>\n",
       "      <td>7</td>\n",
       "      <td>NaN</td>\n",
       "      <td>4</td>\n",
       "      <td>644</td>\n",
       "    </tr>\n",
       "    <tr>\n",
       "      <th>mean</th>\n",
       "      <td>446.00...</td>\n",
       "      <td>0.383838</td>\n",
       "      <td>2.308642</td>\n",
       "      <td>NaN</td>\n",
       "      <td>NaN</td>\n",
       "      <td>29.699118</td>\n",
       "      <td>0.523008</td>\n",
       "      <td>0.381594</td>\n",
       "      <td>NaN</td>\n",
       "      <td>32.204208</td>\n",
       "      <td>NaN</td>\n",
       "      <td>NaN</td>\n",
       "    </tr>\n",
       "    <tr>\n",
       "      <th>std</th>\n",
       "      <td>257.35...</td>\n",
       "      <td>0.486592</td>\n",
       "      <td>0.836071</td>\n",
       "      <td>NaN</td>\n",
       "      <td>NaN</td>\n",
       "      <td>14.526497</td>\n",
       "      <td>1.102743</td>\n",
       "      <td>0.806057</td>\n",
       "      <td>NaN</td>\n",
       "      <td>49.693429</td>\n",
       "      <td>NaN</td>\n",
       "      <td>NaN</td>\n",
       "    </tr>\n",
       "    <tr>\n",
       "      <th>min</th>\n",
       "      <td>1.000000</td>\n",
       "      <td>0.000000</td>\n",
       "      <td>1.000000</td>\n",
       "      <td>NaN</td>\n",
       "      <td>NaN</td>\n",
       "      <td>0.420000</td>\n",
       "      <td>0.000000</td>\n",
       "      <td>0.000000</td>\n",
       "      <td>NaN</td>\n",
       "      <td>0.000000</td>\n",
       "      <td>NaN</td>\n",
       "      <td>NaN</td>\n",
       "    </tr>\n",
       "    <tr>\n",
       "      <th>25%</th>\n",
       "      <td>223.50...</td>\n",
       "      <td>0.000000</td>\n",
       "      <td>2.000000</td>\n",
       "      <td>NaN</td>\n",
       "      <td>NaN</td>\n",
       "      <td>20.125000</td>\n",
       "      <td>0.000000</td>\n",
       "      <td>0.000000</td>\n",
       "      <td>NaN</td>\n",
       "      <td>7.910400</td>\n",
       "      <td>NaN</td>\n",
       "      <td>NaN</td>\n",
       "    </tr>\n",
       "    <tr>\n",
       "      <th>50%</th>\n",
       "      <td>446.00...</td>\n",
       "      <td>0.000000</td>\n",
       "      <td>3.000000</td>\n",
       "      <td>NaN</td>\n",
       "      <td>NaN</td>\n",
       "      <td>28.000000</td>\n",
       "      <td>0.000000</td>\n",
       "      <td>0.000000</td>\n",
       "      <td>NaN</td>\n",
       "      <td>14.454200</td>\n",
       "      <td>NaN</td>\n",
       "      <td>NaN</td>\n",
       "    </tr>\n",
       "    <tr>\n",
       "      <th>75%</th>\n",
       "      <td>668.50...</td>\n",
       "      <td>1.000000</td>\n",
       "      <td>3.000000</td>\n",
       "      <td>NaN</td>\n",
       "      <td>NaN</td>\n",
       "      <td>38.000000</td>\n",
       "      <td>1.000000</td>\n",
       "      <td>0.000000</td>\n",
       "      <td>NaN</td>\n",
       "      <td>31.000000</td>\n",
       "      <td>NaN</td>\n",
       "      <td>NaN</td>\n",
       "    </tr>\n",
       "    <tr>\n",
       "      <th>max</th>\n",
       "      <td>891.00...</td>\n",
       "      <td>1.000000</td>\n",
       "      <td>3.000000</td>\n",
       "      <td>NaN</td>\n",
       "      <td>NaN</td>\n",
       "      <td>80.000000</td>\n",
       "      <td>8.000000</td>\n",
       "      <td>6.000000</td>\n",
       "      <td>NaN</td>\n",
       "      <td>512.32...</td>\n",
       "      <td>NaN</td>\n",
       "      <td>NaN</td>\n",
       "    </tr>\n",
       "  </tbody>\n",
       "</table>\n",
       "</div>"
      ],
      "text/plain": [
       "        PassengerId   Survived     Pclass       Name   Sex        Age  \\\n",
       "count   891.00...    891.00...  891.00...        891   891  714.00...   \n",
       "unique        NaN          NaN        NaN        891     2        NaN   \n",
       "top           NaN          NaN        NaN  Hickma...  male        NaN   \n",
       "freq          NaN          NaN        NaN          1   577        NaN   \n",
       "mean    446.00...     0.383838   2.308642        NaN   NaN  29.699118   \n",
       "std     257.35...     0.486592   0.836071        NaN   NaN  14.526497   \n",
       "min      1.000000     0.000000   1.000000        NaN   NaN   0.420000   \n",
       "25%     223.50...     0.000000   2.000000        NaN   NaN  20.125000   \n",
       "50%     446.00...     0.000000   3.000000        NaN   NaN  28.000000   \n",
       "75%     668.50...     1.000000   3.000000        NaN   NaN  38.000000   \n",
       "max     891.00...     1.000000   3.000000        NaN   NaN  80.000000   \n",
       "\n",
       "            SibSp      Parch    Ticket       Fare      Cabin Embarked  \n",
       "count   891.00...  891.00...       891  891.00...        204      889  \n",
       "unique        NaN        NaN       681        NaN        147        3  \n",
       "top           NaN        NaN  CA. 2343        NaN  C23 C2...        S  \n",
       "freq          NaN        NaN         7        NaN          4      644  \n",
       "mean     0.523008   0.381594       NaN  32.204208        NaN      NaN  \n",
       "std      1.102743   0.806057       NaN  49.693429        NaN      NaN  \n",
       "min      0.000000   0.000000       NaN   0.000000        NaN      NaN  \n",
       "25%      0.000000   0.000000       NaN   7.910400        NaN      NaN  \n",
       "50%      0.000000   0.000000       NaN  14.454200        NaN      NaN  \n",
       "75%      1.000000   0.000000       NaN  31.000000        NaN      NaN  \n",
       "max      8.000000   6.000000       NaN  512.32...        NaN      NaN  "
      ]
     },
     "execution_count": 12,
     "metadata": {},
     "output_type": "execute_result"
    }
   ],
   "source": [
    "train_df.describe(include='all')"
   ]
  },
  {
   "cell_type": "markdown",
   "metadata": {},
   "source": [
    "### 타입 체크"
   ]
  },
  {
   "cell_type": "code",
   "execution_count": 14,
   "metadata": {
    "ExecuteTime": {
     "end_time": "2021-11-22T02:05:37.762310Z",
     "start_time": "2021-11-22T02:05:37.743305Z"
    }
   },
   "outputs": [
    {
     "data": {
      "text/plain": [
       "PassengerId      int64\n",
       "Survived         int64\n",
       "Pclass           int64\n",
       "Name            object\n",
       "Sex             object\n",
       "Age            float64\n",
       "SibSp            int64\n",
       "Parch            int64\n",
       "Ticket          object\n",
       "Fare           float64\n",
       "Cabin           object\n",
       "Embarked        object\n",
       "dtype: object"
      ]
     },
     "execution_count": 14,
     "metadata": {},
     "output_type": "execute_result"
    }
   ],
   "source": [
    "train_df.dtypes"
   ]
  },
  {
   "cell_type": "code",
   "execution_count": 15,
   "metadata": {
    "ExecuteTime": {
     "end_time": "2021-11-22T02:05:44.654044Z",
     "start_time": "2021-11-22T02:05:44.639057Z"
    }
   },
   "outputs": [
    {
     "name": "stdout",
     "output_type": "stream",
     "text": [
      "<class 'pandas.core.frame.DataFrame'>\n",
      "RangeIndex: 891 entries, 0 to 890\n",
      "Data columns (total 12 columns):\n",
      " #   Column       Non-Null Count  Dtype  \n",
      "---  ------       --------------  -----  \n",
      " 0   PassengerId  891 non-null    int64  \n",
      " 1   Survived     891 non-null    int64  \n",
      " 2   Pclass       891 non-null    int64  \n",
      " 3   Name         891 non-null    object \n",
      " 4   Sex          891 non-null    object \n",
      " 5   Age          714 non-null    float64\n",
      " 6   SibSp        891 non-null    int64  \n",
      " 7   Parch        891 non-null    int64  \n",
      " 8   Ticket       891 non-null    object \n",
      " 9   Fare         891 non-null    float64\n",
      " 10  Cabin        204 non-null    object \n",
      " 11  Embarked     889 non-null    object \n",
      "dtypes: float64(2), int64(5), object(5)\n",
      "memory usage: 83.7+ KB\n"
     ]
    }
   ],
   "source": [
    "train_df.info()"
   ]
  },
  {
   "cell_type": "code",
   "execution_count": 16,
   "metadata": {
    "ExecuteTime": {
     "end_time": "2021-11-22T02:06:41.470439Z",
     "start_time": "2021-11-22T02:06:41.456435Z"
    }
   },
   "outputs": [
    {
     "data": {
      "text/plain": [
       "Index(['PassengerId', 'Survived', 'Pclass', 'Name', 'Sex', 'Age', 'SibSp',\n",
       "       'Parch', 'Ticket', 'Fare', 'Cabin', 'Embarked'],\n",
       "      dtype='object')"
      ]
     },
     "execution_count": 16,
     "metadata": {},
     "output_type": "execute_result"
    }
   ],
   "source": [
    "train_df.columns"
   ]
  },
  {
   "cell_type": "code",
   "execution_count": 17,
   "metadata": {
    "ExecuteTime": {
     "end_time": "2021-11-22T02:07:26.211005Z",
     "start_time": "2021-11-22T02:07:26.203003Z"
    }
   },
   "outputs": [],
   "source": [
    "ntrain = train_df.shape[0]\n",
    "ntest = test_df.shape[0]"
   ]
  },
  {
   "cell_type": "code",
   "execution_count": 19,
   "metadata": {
    "ExecuteTime": {
     "end_time": "2021-11-22T02:08:28.200291Z",
     "start_time": "2021-11-22T02:08:28.183647Z"
    }
   },
   "outputs": [],
   "source": [
    "y_train = train_df['Survived'].values\n",
    "passid = test_df['PassengerId']"
   ]
  },
  {
   "cell_type": "code",
   "execution_count": 21,
   "metadata": {
    "ExecuteTime": {
     "end_time": "2021-11-22T02:09:08.456377Z",
     "start_time": "2021-11-22T02:09:08.439372Z"
    }
   },
   "outputs": [
    {
     "name": "stdout",
     "output_type": "stream",
     "text": [
      "data size is : (1309, 12)\n"
     ]
    }
   ],
   "source": [
    "data = pd.concat((train_df, test_df))\n",
    "\n",
    "print(\"data size is : {}\".format((data.shape)))"
   ]
  },
  {
   "cell_type": "code",
   "execution_count": 25,
   "metadata": {
    "ExecuteTime": {
     "end_time": "2021-11-22T02:14:06.278672Z",
     "start_time": "2021-11-22T02:14:06.264669Z"
    }
   },
   "outputs": [
    {
     "data": {
      "text/plain": [
       "(891, 418)"
      ]
     },
     "execution_count": 25,
     "metadata": {},
     "output_type": "execute_result"
    }
   ],
   "source": [
    "ntrain, ntest"
   ]
  },
  {
   "cell_type": "code",
   "execution_count": 27,
   "metadata": {
    "ExecuteTime": {
     "end_time": "2021-11-22T02:14:13.735945Z",
     "start_time": "2021-11-22T02:14:13.720942Z"
    }
   },
   "outputs": [
    {
     "data": {
      "text/plain": [
       "array([0, 1, 1, 1, 0, 0, 0, 0, 1, 1, 1, 1, 0, 0, 0, 1, 0, 1, 0, 1, 0, 1,\n",
       "       1, 1, 0, 1, 0, 0, 1, 0, 0, 1, 1, 0, 0, 0, 1, 0, 0, 1, 0, 0, 0, 1,\n",
       "       1, 0, 0, 1, 0, 0, 0, 0, 1, 1, 0, 1, 1, 0, 1, 0, 0, 1, 0, 0, 0, 1,\n",
       "       1, 0, 1, 0, 0, 0, 0, 0, 1, 0, 0, 0, 1, 1, 0, 1, 1, 0, 1, 1, 0, 0,\n",
       "       1, 0, 0, 0, 0, 0, 0, 0, 0, 1, 1, 0, 0, 0, 0, 0, 0, 0, 1, 1, 0, 1,\n",
       "       0, 0, 0, 0, 0, 0, 0, 0, 0, 0, 0, 0, 0, 1, 0, 1, 0, 1, 1, 0, 0, 0,\n",
       "       0, 1, 0, 0, 1, 0, 0, 0, 0, 1, 1, 0, 0, 0, 1, 0, 0, 0, 0, 1, 0, 0,\n",
       "       0, 0, 1, 0, 0, 0, 0, 1, 0, 0, 0, 1, 1, 0, 0, 0, 0, 0, 1, 0, 0, 0,\n",
       "       0, 0, 0, 0, 0, 0, 0, 1, 1, 0, 1, 1, 0, 0, 1, 0, 1, 1, 1, 1, 0, 0,\n",
       "       1, 0, 0, 0, 0, 0, 1, 0, 0, 1, 1, 1, 0, 1, 0, 0, 0, 1, 1, 0, 1, 0,\n",
       "       1, 0, 0, 0, 1, 0, 1, 0, 0, 0, 1, 0, 0, 1, 0, 0, 0, 1, 0, 0, 0, 1,\n",
       "       0, 0, 0, 0, 0, 1, 1, 0, 0, 0, 0, 0, 0, 1, 1, 1, 1, 1, 0, 1, 0, 0,\n",
       "       0, 0, 0, 1, 1, 1, 0, 1, 1, 0, 1, 1, 0, 0, 0, 1, 0, 0, 0, 1, 0, 0,\n",
       "       1, 0, 1, 1, 1, 1, 0, 0, 0, 0, 0, 0, 1, 1, 1, 1, 0, 1, 0, 1, 1, 1,\n",
       "       0, 1, 1, 1, 0, 0, 0, 1, 1, 0, 1, 1, 0, 0, 1, 1, 0, 1, 0, 1, 1, 1,\n",
       "       1, 0, 0, 0, 1, 0, 0, 1, 1, 0, 1, 1, 0, 0, 0, 1, 1, 1, 1, 0, 0, 0,\n",
       "       0, 0, 0, 0, 1, 0, 1, 1, 0, 0, 0, 0, 0, 0, 1, 1, 1, 1, 1, 0, 0, 0,\n",
       "       0, 1, 1, 0, 0, 0, 1, 1, 0, 1, 0, 0, 0, 1, 0, 1, 1, 1, 0, 1, 1, 0,\n",
       "       0, 0, 0, 1, 1, 0, 0, 0, 0, 0, 0, 1, 0, 0, 0, 0, 1, 0, 1, 0, 1, 1,\n",
       "       0, 0, 0, 0, 0, 0, 0, 0, 1, 1, 0, 1, 1, 1, 1, 0, 0, 1, 0, 1, 0, 0,\n",
       "       1, 0, 0, 1, 1, 1, 1, 1, 1, 1, 0, 0, 0, 1, 0, 1, 0, 1, 1, 0, 1, 0,\n",
       "       0, 0, 0, 0, 0, 0, 0, 1, 0, 0, 1, 1, 0, 0, 0, 0, 0, 1, 0, 0, 0, 1,\n",
       "       1, 0, 1, 0, 0, 1, 0, 0, 0, 0, 0, 0, 1, 0, 0, 0, 0, 0, 0, 0, 1, 0,\n",
       "       1, 1, 0, 1, 1, 0, 1, 1, 0, 0, 1, 0, 1, 0, 1, 0, 0, 1, 0, 0, 1, 0,\n",
       "       0, 0, 1, 0, 0, 1, 0, 1, 0, 1, 0, 1, 1, 0, 0, 1, 0, 0, 1, 1, 0, 1,\n",
       "       1, 0, 0, 1, 1, 0, 1, 0, 1, 1, 0, 0, 0, 0, 0, 0, 0, 0, 0, 1, 1, 1,\n",
       "       1, 1, 0, 0, 1, 1, 0, 1, 1, 1, 0, 0, 0, 1, 0, 1, 0, 0, 0, 1, 0, 0,\n",
       "       0, 0, 1, 0, 0, 1, 1, 0, 0, 0, 1, 0, 0, 1, 1, 1, 0, 0, 1, 0, 0, 1,\n",
       "       0, 0, 1, 0, 0, 1, 1, 0, 0, 0, 0, 1, 0, 0, 1, 0, 1, 0, 0, 1, 0, 0,\n",
       "       0, 0, 0, 1, 0, 1, 1, 1, 0, 1, 0, 1, 0, 1, 0, 1, 0, 0, 0, 0, 0, 0,\n",
       "       1, 0, 0, 0, 1, 0, 0, 0, 0, 1, 1, 0, 0, 1, 0, 0, 0, 1, 0, 1, 0, 1,\n",
       "       0, 0, 0, 0, 0, 0, 0, 1, 1, 1, 1, 0, 0, 0, 0, 1, 0, 0, 1, 1, 0, 0,\n",
       "       0, 0, 1, 1, 1, 1, 1, 0, 1, 0, 0, 0, 1, 1, 0, 0, 1, 0, 0, 0, 1, 0,\n",
       "       1, 1, 0, 0, 1, 0, 0, 0, 0, 0, 0, 1, 0, 0, 1, 0, 1, 0, 1, 0, 0, 1,\n",
       "       0, 0, 1, 1, 0, 0, 1, 1, 0, 0, 0, 1, 0, 0, 1, 1, 0, 1, 0, 0, 0, 0,\n",
       "       0, 0, 0, 0, 1, 0, 0, 1, 0, 1, 1, 1, 0, 0, 0, 0, 1, 0, 1, 0, 0, 0,\n",
       "       0, 0, 0, 0, 1, 1, 0, 0, 0, 1, 1, 1, 1, 0, 0, 0, 0, 1, 0, 0, 0, 0,\n",
       "       0, 0, 0, 0, 0, 0, 1, 1, 0, 1, 0, 0, 0, 1, 1, 1, 1, 1, 0, 0, 0, 1,\n",
       "       0, 0, 1, 1, 0, 0, 1, 0, 0, 0, 0, 0, 0, 1, 0, 0, 0, 1, 0, 1, 1, 1,\n",
       "       1, 0, 0, 0, 1, 0, 0, 1, 1, 0, 0, 1, 0, 1, 0, 0, 1, 1, 0, 0, 0, 1,\n",
       "       1, 0, 0, 0, 0, 0, 0, 1, 0, 1, 0], dtype=int64)"
      ]
     },
     "execution_count": 27,
     "metadata": {},
     "output_type": "execute_result"
    }
   ],
   "source": [
    "y_train"
   ]
  },
  {
   "cell_type": "code",
   "execution_count": 28,
   "metadata": {
    "ExecuteTime": {
     "end_time": "2021-11-22T02:14:20.722759Z",
     "start_time": "2021-11-22T02:14:20.713047Z"
    }
   },
   "outputs": [
    {
     "data": {
      "text/plain": [
       "0       892\n",
       "1       893\n",
       "2       894\n",
       "3       895\n",
       "4       896\n",
       "       ... \n",
       "413    1305\n",
       "414    1306\n",
       "415    1307\n",
       "416    1308\n",
       "417    1309\n",
       "Name: PassengerId, Length: 418, dtype: int64"
      ]
     },
     "execution_count": 28,
     "metadata": {},
     "output_type": "execute_result"
    }
   ],
   "source": [
    "passid"
   ]
  },
  {
   "cell_type": "code",
   "execution_count": 24,
   "metadata": {
    "ExecuteTime": {
     "end_time": "2021-11-22T02:09:58.005205Z",
     "start_time": "2021-11-22T02:09:57.984203Z"
    }
   },
   "outputs": [
    {
     "data": {
      "text/html": [
       "<div>\n",
       "<style scoped>\n",
       "    .dataframe tbody tr th:only-of-type {\n",
       "        vertical-align: middle;\n",
       "    }\n",
       "\n",
       "    .dataframe tbody tr th {\n",
       "        vertical-align: top;\n",
       "    }\n",
       "\n",
       "    .dataframe thead th {\n",
       "        text-align: right;\n",
       "    }\n",
       "</style>\n",
       "<table border=\"1\" class=\"dataframe\">\n",
       "  <thead>\n",
       "    <tr style=\"text-align: right;\">\n",
       "      <th></th>\n",
       "      <th>PassengerId</th>\n",
       "      <th>Survived</th>\n",
       "      <th>Pclass</th>\n",
       "      <th>Name</th>\n",
       "      <th>Sex</th>\n",
       "      <th>Age</th>\n",
       "      <th>SibSp</th>\n",
       "      <th>Parch</th>\n",
       "      <th>Ticket</th>\n",
       "      <th>Fare</th>\n",
       "      <th>Cabin</th>\n",
       "      <th>Embarked</th>\n",
       "    </tr>\n",
       "  </thead>\n",
       "  <tbody>\n",
       "    <tr>\n",
       "      <th>0</th>\n",
       "      <td>1</td>\n",
       "      <td>0.0</td>\n",
       "      <td>3</td>\n",
       "      <td>Braund...</td>\n",
       "      <td>male</td>\n",
       "      <td>22.0</td>\n",
       "      <td>1</td>\n",
       "      <td>0</td>\n",
       "      <td>A/5 21171</td>\n",
       "      <td>7.2500</td>\n",
       "      <td>NaN</td>\n",
       "      <td>S</td>\n",
       "    </tr>\n",
       "    <tr>\n",
       "      <th>1</th>\n",
       "      <td>2</td>\n",
       "      <td>1.0</td>\n",
       "      <td>1</td>\n",
       "      <td>Cuming...</td>\n",
       "      <td>female</td>\n",
       "      <td>38.0</td>\n",
       "      <td>1</td>\n",
       "      <td>0</td>\n",
       "      <td>PC 17599</td>\n",
       "      <td>71.2833</td>\n",
       "      <td>C85</td>\n",
       "      <td>C</td>\n",
       "    </tr>\n",
       "    <tr>\n",
       "      <th>2</th>\n",
       "      <td>3</td>\n",
       "      <td>1.0</td>\n",
       "      <td>3</td>\n",
       "      <td>Heikki...</td>\n",
       "      <td>female</td>\n",
       "      <td>26.0</td>\n",
       "      <td>0</td>\n",
       "      <td>0</td>\n",
       "      <td>STON/O...</td>\n",
       "      <td>7.9250</td>\n",
       "      <td>NaN</td>\n",
       "      <td>S</td>\n",
       "    </tr>\n",
       "    <tr>\n",
       "      <th>3</th>\n",
       "      <td>4</td>\n",
       "      <td>1.0</td>\n",
       "      <td>1</td>\n",
       "      <td>Futrel...</td>\n",
       "      <td>female</td>\n",
       "      <td>35.0</td>\n",
       "      <td>1</td>\n",
       "      <td>0</td>\n",
       "      <td>113803</td>\n",
       "      <td>53.1000</td>\n",
       "      <td>C123</td>\n",
       "      <td>S</td>\n",
       "    </tr>\n",
       "    <tr>\n",
       "      <th>4</th>\n",
       "      <td>5</td>\n",
       "      <td>0.0</td>\n",
       "      <td>3</td>\n",
       "      <td>Allen,...</td>\n",
       "      <td>male</td>\n",
       "      <td>35.0</td>\n",
       "      <td>0</td>\n",
       "      <td>0</td>\n",
       "      <td>373450</td>\n",
       "      <td>8.0500</td>\n",
       "      <td>NaN</td>\n",
       "      <td>S</td>\n",
       "    </tr>\n",
       "    <tr>\n",
       "      <th>...</th>\n",
       "      <td>...</td>\n",
       "      <td>...</td>\n",
       "      <td>...</td>\n",
       "      <td>...</td>\n",
       "      <td>...</td>\n",
       "      <td>...</td>\n",
       "      <td>...</td>\n",
       "      <td>...</td>\n",
       "      <td>...</td>\n",
       "      <td>...</td>\n",
       "      <td>...</td>\n",
       "      <td>...</td>\n",
       "    </tr>\n",
       "    <tr>\n",
       "      <th>413</th>\n",
       "      <td>1305</td>\n",
       "      <td>NaN</td>\n",
       "      <td>3</td>\n",
       "      <td>Specto...</td>\n",
       "      <td>male</td>\n",
       "      <td>NaN</td>\n",
       "      <td>0</td>\n",
       "      <td>0</td>\n",
       "      <td>A.5. 3236</td>\n",
       "      <td>8.0500</td>\n",
       "      <td>NaN</td>\n",
       "      <td>S</td>\n",
       "    </tr>\n",
       "    <tr>\n",
       "      <th>414</th>\n",
       "      <td>1306</td>\n",
       "      <td>NaN</td>\n",
       "      <td>1</td>\n",
       "      <td>Oliva ...</td>\n",
       "      <td>female</td>\n",
       "      <td>39.0</td>\n",
       "      <td>0</td>\n",
       "      <td>0</td>\n",
       "      <td>PC 17758</td>\n",
       "      <td>108.9000</td>\n",
       "      <td>C105</td>\n",
       "      <td>C</td>\n",
       "    </tr>\n",
       "    <tr>\n",
       "      <th>415</th>\n",
       "      <td>1307</td>\n",
       "      <td>NaN</td>\n",
       "      <td>3</td>\n",
       "      <td>Saethe...</td>\n",
       "      <td>male</td>\n",
       "      <td>38.5</td>\n",
       "      <td>0</td>\n",
       "      <td>0</td>\n",
       "      <td>SOTON/...</td>\n",
       "      <td>7.2500</td>\n",
       "      <td>NaN</td>\n",
       "      <td>S</td>\n",
       "    </tr>\n",
       "    <tr>\n",
       "      <th>416</th>\n",
       "      <td>1308</td>\n",
       "      <td>NaN</td>\n",
       "      <td>3</td>\n",
       "      <td>Ware, ...</td>\n",
       "      <td>male</td>\n",
       "      <td>NaN</td>\n",
       "      <td>0</td>\n",
       "      <td>0</td>\n",
       "      <td>359309</td>\n",
       "      <td>8.0500</td>\n",
       "      <td>NaN</td>\n",
       "      <td>S</td>\n",
       "    </tr>\n",
       "    <tr>\n",
       "      <th>417</th>\n",
       "      <td>1309</td>\n",
       "      <td>NaN</td>\n",
       "      <td>3</td>\n",
       "      <td>Peter,...</td>\n",
       "      <td>male</td>\n",
       "      <td>NaN</td>\n",
       "      <td>1</td>\n",
       "      <td>1</td>\n",
       "      <td>2668</td>\n",
       "      <td>22.3583</td>\n",
       "      <td>NaN</td>\n",
       "      <td>C</td>\n",
       "    </tr>\n",
       "  </tbody>\n",
       "</table>\n",
       "<p>1309 rows × 12 columns</p>\n",
       "</div>"
      ],
      "text/plain": [
       "     PassengerId  Survived  Pclass       Name     Sex   Age  SibSp  Parch  \\\n",
       "0            1         0.0       3  Braund...    male  22.0      1      0   \n",
       "1            2         1.0       1  Cuming...  female  38.0      1      0   \n",
       "2            3         1.0       3  Heikki...  female  26.0      0      0   \n",
       "3            4         1.0       1  Futrel...  female  35.0      1      0   \n",
       "4            5         0.0       3  Allen,...    male  35.0      0      0   \n",
       "..         ...         ...     ...        ...     ...   ...    ...    ...   \n",
       "413       1305         NaN       3  Specto...    male   NaN      0      0   \n",
       "414       1306         NaN       1  Oliva ...  female  39.0      0      0   \n",
       "415       1307         NaN       3  Saethe...    male  38.5      0      0   \n",
       "416       1308         NaN       3  Ware, ...    male   NaN      0      0   \n",
       "417       1309         NaN       3  Peter,...    male   NaN      1      1   \n",
       "\n",
       "        Ticket      Fare Cabin Embarked  \n",
       "0    A/5 21171    7.2500   NaN        S  \n",
       "1     PC 17599   71.2833   C85        C  \n",
       "2    STON/O...    7.9250   NaN        S  \n",
       "3       113803   53.1000  C123        S  \n",
       "4       373450    8.0500   NaN        S  \n",
       "..         ...       ...   ...      ...  \n",
       "413  A.5. 3236    8.0500   NaN        S  \n",
       "414   PC 17758  108.9000  C105        C  \n",
       "415  SOTON/...    7.2500   NaN        S  \n",
       "416     359309    8.0500   NaN        S  \n",
       "417       2668   22.3583   NaN        C  \n",
       "\n",
       "[1309 rows x 12 columns]"
      ]
     },
     "execution_count": 24,
     "metadata": {},
     "output_type": "execute_result"
    }
   ],
   "source": [
    "data"
   ]
  },
  {
   "cell_type": "markdown",
   "metadata": {},
   "source": [
    "### 컬럼별 비율 체크"
   ]
  },
  {
   "cell_type": "code",
   "execution_count": 29,
   "metadata": {
    "ExecuteTime": {
     "end_time": "2021-11-22T02:14:51.933928Z",
     "start_time": "2021-11-22T02:14:51.920926Z"
    }
   },
   "outputs": [
    {
     "data": {
      "text/plain": [
       "0    549\n",
       "1    342\n",
       "Name: Survived, dtype: int64"
      ]
     },
     "execution_count": 29,
     "metadata": {},
     "output_type": "execute_result"
    }
   ],
   "source": [
    "train_df['Survived'].value_counts()"
   ]
  },
  {
   "cell_type": "code",
   "execution_count": 30,
   "metadata": {
    "ExecuteTime": {
     "end_time": "2021-11-22T02:14:59.057886Z",
     "start_time": "2021-11-22T02:14:59.047884Z"
    }
   },
   "outputs": [
    {
     "data": {
      "text/plain": [
       "male      577\n",
       "female    314\n",
       "Name: Sex, dtype: int64"
      ]
     },
     "execution_count": 30,
     "metadata": {},
     "output_type": "execute_result"
    }
   ],
   "source": [
    "train_df['Sex'].value_counts()"
   ]
  },
  {
   "cell_type": "markdown",
   "metadata": {},
   "source": [
    "### 결측값 체크"
   ]
  },
  {
   "cell_type": "code",
   "execution_count": 32,
   "metadata": {
    "ExecuteTime": {
     "end_time": "2021-11-22T02:15:30.710931Z",
     "start_time": "2021-11-22T02:15:30.521125Z"
    }
   },
   "outputs": [
    {
     "data": {
      "text/plain": [
       "<AxesSubplot:>"
      ]
     },
     "execution_count": 32,
     "metadata": {},
     "output_type": "execute_result"
    },
    {
     "data": {
      "image/png": "[encoded data removed]",
      "text/plain": [
       "<Figure size 432x288 with 2 Axes>"
      ]
     },
     "metadata": {},
     "output_type": "display_data"
    }
   ],
   "source": [
    "import missingno\n",
    "missingno.matrix(data, figsize = (6,4))"
   ]
  },
  {
   "cell_type": "code",
   "execution_count": 33,
   "metadata": {
    "ExecuteTime": {
     "end_time": "2021-11-22T02:17:04.365013Z",
     "start_time": "2021-11-22T02:17:04.353011Z"
    }
   },
   "outputs": [
    {
     "data": {
      "text/plain": [
       "PassengerId       0\n",
       "Survived        418\n",
       "Pclass            0\n",
       "Name              0\n",
       "Sex               0\n",
       "Age             263\n",
       "SibSp             0\n",
       "Parch             0\n",
       "Ticket            0\n",
       "Fare              1\n",
       "Cabin          1014\n",
       "Embarked          2\n",
       "dtype: int64"
      ]
     },
     "execution_count": 33,
     "metadata": {},
     "output_type": "execute_result"
    }
   ],
   "source": [
    "data.isnull().sum()"
   ]
  },
  {
   "cell_type": "markdown",
   "metadata": {},
   "source": [
    "## EDA"
   ]
  },
  {
   "cell_type": "markdown",
   "metadata": {},
   "source": [
    "### 요인별 상관관계 확인"
   ]
  },
  {
   "cell_type": "code",
   "execution_count": 34,
   "metadata": {
    "ExecuteTime": {
     "end_time": "2021-11-22T02:21:31.697056Z",
     "start_time": "2021-11-22T02:21:31.673051Z"
    }
   },
   "outputs": [
    {
     "data": {
      "text/html": [
       "<div>\n",
       "<style scoped>\n",
       "    .dataframe tbody tr th:only-of-type {\n",
       "        vertical-align: middle;\n",
       "    }\n",
       "\n",
       "    .dataframe tbody tr th {\n",
       "        vertical-align: top;\n",
       "    }\n",
       "\n",
       "    .dataframe thead th {\n",
       "        text-align: right;\n",
       "    }\n",
       "</style>\n",
       "<table border=\"1\" class=\"dataframe\">\n",
       "  <thead>\n",
       "    <tr style=\"text-align: right;\">\n",
       "      <th></th>\n",
       "      <th>PassengerId</th>\n",
       "      <th>Survived</th>\n",
       "      <th>Pclass</th>\n",
       "      <th>Name</th>\n",
       "      <th>Sex</th>\n",
       "      <th>Age</th>\n",
       "      <th>SibSp</th>\n",
       "      <th>Parch</th>\n",
       "      <th>Ticket</th>\n",
       "      <th>Fare</th>\n",
       "      <th>Cabin</th>\n",
       "      <th>Embarked</th>\n",
       "    </tr>\n",
       "  </thead>\n",
       "  <tbody>\n",
       "    <tr>\n",
       "      <th>0</th>\n",
       "      <td>1</td>\n",
       "      <td>0</td>\n",
       "      <td>3</td>\n",
       "      <td>Braund...</td>\n",
       "      <td>male</td>\n",
       "      <td>22.0</td>\n",
       "      <td>1</td>\n",
       "      <td>0</td>\n",
       "      <td>A/5 21171</td>\n",
       "      <td>7.2500</td>\n",
       "      <td>NaN</td>\n",
       "      <td>S</td>\n",
       "    </tr>\n",
       "    <tr>\n",
       "      <th>1</th>\n",
       "      <td>2</td>\n",
       "      <td>1</td>\n",
       "      <td>1</td>\n",
       "      <td>Cuming...</td>\n",
       "      <td>female</td>\n",
       "      <td>38.0</td>\n",
       "      <td>1</td>\n",
       "      <td>0</td>\n",
       "      <td>PC 17599</td>\n",
       "      <td>71.2833</td>\n",
       "      <td>C85</td>\n",
       "      <td>C</td>\n",
       "    </tr>\n",
       "    <tr>\n",
       "      <th>2</th>\n",
       "      <td>3</td>\n",
       "      <td>1</td>\n",
       "      <td>3</td>\n",
       "      <td>Heikki...</td>\n",
       "      <td>female</td>\n",
       "      <td>26.0</td>\n",
       "      <td>0</td>\n",
       "      <td>0</td>\n",
       "      <td>STON/O...</td>\n",
       "      <td>7.9250</td>\n",
       "      <td>NaN</td>\n",
       "      <td>S</td>\n",
       "    </tr>\n",
       "    <tr>\n",
       "      <th>3</th>\n",
       "      <td>4</td>\n",
       "      <td>1</td>\n",
       "      <td>1</td>\n",
       "      <td>Futrel...</td>\n",
       "      <td>female</td>\n",
       "      <td>35.0</td>\n",
       "      <td>1</td>\n",
       "      <td>0</td>\n",
       "      <td>113803</td>\n",
       "      <td>53.1000</td>\n",
       "      <td>C123</td>\n",
       "      <td>S</td>\n",
       "    </tr>\n",
       "    <tr>\n",
       "      <th>4</th>\n",
       "      <td>5</td>\n",
       "      <td>0</td>\n",
       "      <td>3</td>\n",
       "      <td>Allen,...</td>\n",
       "      <td>male</td>\n",
       "      <td>35.0</td>\n",
       "      <td>0</td>\n",
       "      <td>0</td>\n",
       "      <td>373450</td>\n",
       "      <td>8.0500</td>\n",
       "      <td>NaN</td>\n",
       "      <td>S</td>\n",
       "    </tr>\n",
       "    <tr>\n",
       "      <th>...</th>\n",
       "      <td>...</td>\n",
       "      <td>...</td>\n",
       "      <td>...</td>\n",
       "      <td>...</td>\n",
       "      <td>...</td>\n",
       "      <td>...</td>\n",
       "      <td>...</td>\n",
       "      <td>...</td>\n",
       "      <td>...</td>\n",
       "      <td>...</td>\n",
       "      <td>...</td>\n",
       "      <td>...</td>\n",
       "    </tr>\n",
       "    <tr>\n",
       "      <th>886</th>\n",
       "      <td>887</td>\n",
       "      <td>0</td>\n",
       "      <td>2</td>\n",
       "      <td>Montvi...</td>\n",
       "      <td>male</td>\n",
       "      <td>27.0</td>\n",
       "      <td>0</td>\n",
       "      <td>0</td>\n",
       "      <td>211536</td>\n",
       "      <td>13.0000</td>\n",
       "      <td>NaN</td>\n",
       "      <td>S</td>\n",
       "    </tr>\n",
       "    <tr>\n",
       "      <th>887</th>\n",
       "      <td>888</td>\n",
       "      <td>1</td>\n",
       "      <td>1</td>\n",
       "      <td>Graham...</td>\n",
       "      <td>female</td>\n",
       "      <td>19.0</td>\n",
       "      <td>0</td>\n",
       "      <td>0</td>\n",
       "      <td>112053</td>\n",
       "      <td>30.0000</td>\n",
       "      <td>B42</td>\n",
       "      <td>S</td>\n",
       "    </tr>\n",
       "    <tr>\n",
       "      <th>888</th>\n",
       "      <td>889</td>\n",
       "      <td>0</td>\n",
       "      <td>3</td>\n",
       "      <td>Johnst...</td>\n",
       "      <td>female</td>\n",
       "      <td>NaN</td>\n",
       "      <td>1</td>\n",
       "      <td>2</td>\n",
       "      <td>W./C. ...</td>\n",
       "      <td>23.4500</td>\n",
       "      <td>NaN</td>\n",
       "      <td>S</td>\n",
       "    </tr>\n",
       "    <tr>\n",
       "      <th>889</th>\n",
       "      <td>890</td>\n",
       "      <td>1</td>\n",
       "      <td>1</td>\n",
       "      <td>Behr, ...</td>\n",
       "      <td>male</td>\n",
       "      <td>26.0</td>\n",
       "      <td>0</td>\n",
       "      <td>0</td>\n",
       "      <td>111369</td>\n",
       "      <td>30.0000</td>\n",
       "      <td>C148</td>\n",
       "      <td>C</td>\n",
       "    </tr>\n",
       "    <tr>\n",
       "      <th>890</th>\n",
       "      <td>891</td>\n",
       "      <td>0</td>\n",
       "      <td>3</td>\n",
       "      <td>Dooley...</td>\n",
       "      <td>male</td>\n",
       "      <td>32.0</td>\n",
       "      <td>0</td>\n",
       "      <td>0</td>\n",
       "      <td>370376</td>\n",
       "      <td>7.7500</td>\n",
       "      <td>NaN</td>\n",
       "      <td>Q</td>\n",
       "    </tr>\n",
       "  </tbody>\n",
       "</table>\n",
       "<p>891 rows × 12 columns</p>\n",
       "</div>"
      ],
      "text/plain": [
       "     PassengerId  Survived  Pclass       Name     Sex   Age  SibSp  Parch  \\\n",
       "0            1           0       3  Braund...    male  22.0      1      0   \n",
       "1            2           1       1  Cuming...  female  38.0      1      0   \n",
       "2            3           1       3  Heikki...  female  26.0      0      0   \n",
       "3            4           1       1  Futrel...  female  35.0      1      0   \n",
       "4            5           0       3  Allen,...    male  35.0      0      0   \n",
       "..         ...         ...     ...        ...     ...   ...    ...    ...   \n",
       "886        887           0       2  Montvi...    male  27.0      0      0   \n",
       "887        888           1       1  Graham...  female  19.0      0      0   \n",
       "888        889           0       3  Johnst...  female   NaN      1      2   \n",
       "889        890           1       1  Behr, ...    male  26.0      0      0   \n",
       "890        891           0       3  Dooley...    male  32.0      0      0   \n",
       "\n",
       "        Ticket     Fare Cabin Embarked  \n",
       "0    A/5 21171   7.2500   NaN        S  \n",
       "1     PC 17599  71.2833   C85        C  \n",
       "2    STON/O...   7.9250   NaN        S  \n",
       "3       113803  53.1000  C123        S  \n",
       "4       373450   8.0500   NaN        S  \n",
       "..         ...      ...   ...      ...  \n",
       "886     211536  13.0000   NaN        S  \n",
       "887     112053  30.0000   B42        S  \n",
       "888  W./C. ...  23.4500   NaN        S  \n",
       "889     111369  30.0000  C148        C  \n",
       "890     370376   7.7500   NaN        Q  \n",
       "\n",
       "[891 rows x 12 columns]"
      ]
     },
     "execution_count": 34,
     "metadata": {},
     "output_type": "execute_result"
    }
   ],
   "source": [
    "train_df"
   ]
  },
  {
   "cell_type": "code",
   "execution_count": 37,
   "metadata": {
    "ExecuteTime": {
     "end_time": "2021-11-22T02:26:01.850444Z",
     "start_time": "2021-11-22T02:26:01.696258Z"
    }
   },
   "outputs": [
    {
     "data": {
      "text/plain": [
       "<AxesSubplot:title={'center':'titanic'}>"
      ]
     },
     "execution_count": 37,
     "metadata": {},
     "output_type": "execute_result"
    },
    {
     "data": {
      "image/png": "[encoded data removed]",
      "text/plain": [
       "<Figure size 1008x576 with 2 Axes>"
      ]
     },
     "metadata": {},
     "output_type": "display_data"
    }
   ],
   "source": [
    " # co_relation 매트릭스\n",
    "corr = data.corr()\n",
    "\n",
    "# 마스크 셋업\n",
    "mask = np.zeros_like(corr, dtype=np.bool)\n",
    "mask[np.triu_indices_from(mask)] = True\n",
    "\n",
    "# 그래프 셋업\n",
    "plt.figure(figsize=(14, 8))\n",
    "\n",
    "# 그래프 타이틀\n",
    "plt.title('titanic', fontsize=18)\n",
    "sns.heatmap(corr, mask=mask, annot=False, cmap='winter_r', linewidths=0.2, annot_kws={'size':20})"
   ]
  },
  {
   "cell_type": "code",
   "execution_count": 38,
   "metadata": {
    "ExecuteTime": {
     "end_time": "2021-11-22T02:28:29.366189Z",
     "start_time": "2021-11-22T02:28:29.346193Z"
    }
   },
   "outputs": [
    {
     "data": {
      "text/html": [
       "<div>\n",
       "<style scoped>\n",
       "    .dataframe tbody tr th:only-of-type {\n",
       "        vertical-align: middle;\n",
       "    }\n",
       "\n",
       "    .dataframe tbody tr th {\n",
       "        vertical-align: top;\n",
       "    }\n",
       "\n",
       "    .dataframe thead th {\n",
       "        text-align: right;\n",
       "    }\n",
       "</style>\n",
       "<table border=\"1\" class=\"dataframe\">\n",
       "  <thead>\n",
       "    <tr style=\"text-align: right;\">\n",
       "      <th></th>\n",
       "      <th>PassengerId</th>\n",
       "      <th>Survived</th>\n",
       "      <th>Pclass</th>\n",
       "      <th>Name</th>\n",
       "      <th>Sex</th>\n",
       "      <th>Age</th>\n",
       "      <th>SibSp</th>\n",
       "      <th>Parch</th>\n",
       "      <th>Ticket</th>\n",
       "      <th>Fare</th>\n",
       "      <th>Cabin</th>\n",
       "      <th>Embarked</th>\n",
       "    </tr>\n",
       "  </thead>\n",
       "  <tbody>\n",
       "    <tr>\n",
       "      <th>0</th>\n",
       "      <td>1</td>\n",
       "      <td>0.0</td>\n",
       "      <td>3</td>\n",
       "      <td>Braund...</td>\n",
       "      <td>male</td>\n",
       "      <td>22.0</td>\n",
       "      <td>1</td>\n",
       "      <td>0</td>\n",
       "      <td>A/5 21171</td>\n",
       "      <td>7.2500</td>\n",
       "      <td>NaN</td>\n",
       "      <td>S</td>\n",
       "    </tr>\n",
       "    <tr>\n",
       "      <th>1</th>\n",
       "      <td>2</td>\n",
       "      <td>1.0</td>\n",
       "      <td>1</td>\n",
       "      <td>Cuming...</td>\n",
       "      <td>female</td>\n",
       "      <td>38.0</td>\n",
       "      <td>1</td>\n",
       "      <td>0</td>\n",
       "      <td>PC 17599</td>\n",
       "      <td>71.2833</td>\n",
       "      <td>C85</td>\n",
       "      <td>C</td>\n",
       "    </tr>\n",
       "    <tr>\n",
       "      <th>2</th>\n",
       "      <td>3</td>\n",
       "      <td>1.0</td>\n",
       "      <td>3</td>\n",
       "      <td>Heikki...</td>\n",
       "      <td>female</td>\n",
       "      <td>26.0</td>\n",
       "      <td>0</td>\n",
       "      <td>0</td>\n",
       "      <td>STON/O...</td>\n",
       "      <td>7.9250</td>\n",
       "      <td>NaN</td>\n",
       "      <td>S</td>\n",
       "    </tr>\n",
       "    <tr>\n",
       "      <th>3</th>\n",
       "      <td>4</td>\n",
       "      <td>1.0</td>\n",
       "      <td>1</td>\n",
       "      <td>Futrel...</td>\n",
       "      <td>female</td>\n",
       "      <td>35.0</td>\n",
       "      <td>1</td>\n",
       "      <td>0</td>\n",
       "      <td>113803</td>\n",
       "      <td>53.1000</td>\n",
       "      <td>C123</td>\n",
       "      <td>S</td>\n",
       "    </tr>\n",
       "    <tr>\n",
       "      <th>4</th>\n",
       "      <td>5</td>\n",
       "      <td>0.0</td>\n",
       "      <td>3</td>\n",
       "      <td>Allen,...</td>\n",
       "      <td>male</td>\n",
       "      <td>35.0</td>\n",
       "      <td>0</td>\n",
       "      <td>0</td>\n",
       "      <td>373450</td>\n",
       "      <td>8.0500</td>\n",
       "      <td>NaN</td>\n",
       "      <td>S</td>\n",
       "    </tr>\n",
       "    <tr>\n",
       "      <th>...</th>\n",
       "      <td>...</td>\n",
       "      <td>...</td>\n",
       "      <td>...</td>\n",
       "      <td>...</td>\n",
       "      <td>...</td>\n",
       "      <td>...</td>\n",
       "      <td>...</td>\n",
       "      <td>...</td>\n",
       "      <td>...</td>\n",
       "      <td>...</td>\n",
       "      <td>...</td>\n",
       "      <td>...</td>\n",
       "    </tr>\n",
       "    <tr>\n",
       "      <th>413</th>\n",
       "      <td>1305</td>\n",
       "      <td>NaN</td>\n",
       "      <td>3</td>\n",
       "      <td>Specto...</td>\n",
       "      <td>male</td>\n",
       "      <td>NaN</td>\n",
       "      <td>0</td>\n",
       "      <td>0</td>\n",
       "      <td>A.5. 3236</td>\n",
       "      <td>8.0500</td>\n",
       "      <td>NaN</td>\n",
       "      <td>S</td>\n",
       "    </tr>\n",
       "    <tr>\n",
       "      <th>414</th>\n",
       "      <td>1306</td>\n",
       "      <td>NaN</td>\n",
       "      <td>1</td>\n",
       "      <td>Oliva ...</td>\n",
       "      <td>female</td>\n",
       "      <td>39.0</td>\n",
       "      <td>0</td>\n",
       "      <td>0</td>\n",
       "      <td>PC 17758</td>\n",
       "      <td>108.9000</td>\n",
       "      <td>C105</td>\n",
       "      <td>C</td>\n",
       "    </tr>\n",
       "    <tr>\n",
       "      <th>415</th>\n",
       "      <td>1307</td>\n",
       "      <td>NaN</td>\n",
       "      <td>3</td>\n",
       "      <td>Saethe...</td>\n",
       "      <td>male</td>\n",
       "      <td>38.5</td>\n",
       "      <td>0</td>\n",
       "      <td>0</td>\n",
       "      <td>SOTON/...</td>\n",
       "      <td>7.2500</td>\n",
       "      <td>NaN</td>\n",
       "      <td>S</td>\n",
       "    </tr>\n",
       "    <tr>\n",
       "      <th>416</th>\n",
       "      <td>1308</td>\n",
       "      <td>NaN</td>\n",
       "      <td>3</td>\n",
       "      <td>Ware, ...</td>\n",
       "      <td>male</td>\n",
       "      <td>NaN</td>\n",
       "      <td>0</td>\n",
       "      <td>0</td>\n",
       "      <td>359309</td>\n",
       "      <td>8.0500</td>\n",
       "      <td>NaN</td>\n",
       "      <td>S</td>\n",
       "    </tr>\n",
       "    <tr>\n",
       "      <th>417</th>\n",
       "      <td>1309</td>\n",
       "      <td>NaN</td>\n",
       "      <td>3</td>\n",
       "      <td>Peter,...</td>\n",
       "      <td>male</td>\n",
       "      <td>NaN</td>\n",
       "      <td>1</td>\n",
       "      <td>1</td>\n",
       "      <td>2668</td>\n",
       "      <td>22.3583</td>\n",
       "      <td>NaN</td>\n",
       "      <td>C</td>\n",
       "    </tr>\n",
       "  </tbody>\n",
       "</table>\n",
       "<p>1309 rows × 12 columns</p>\n",
       "</div>"
      ],
      "text/plain": [
       "     PassengerId  Survived  Pclass       Name     Sex   Age  SibSp  Parch  \\\n",
       "0            1         0.0       3  Braund...    male  22.0      1      0   \n",
       "1            2         1.0       1  Cuming...  female  38.0      1      0   \n",
       "2            3         1.0       3  Heikki...  female  26.0      0      0   \n",
       "3            4         1.0       1  Futrel...  female  35.0      1      0   \n",
       "4            5         0.0       3  Allen,...    male  35.0      0      0   \n",
       "..         ...         ...     ...        ...     ...   ...    ...    ...   \n",
       "413       1305         NaN       3  Specto...    male   NaN      0      0   \n",
       "414       1306         NaN       1  Oliva ...  female  39.0      0      0   \n",
       "415       1307         NaN       3  Saethe...    male  38.5      0      0   \n",
       "416       1308         NaN       3  Ware, ...    male   NaN      0      0   \n",
       "417       1309         NaN       3  Peter,...    male   NaN      1      1   \n",
       "\n",
       "        Ticket      Fare Cabin Embarked  \n",
       "0    A/5 21171    7.2500   NaN        S  \n",
       "1     PC 17599   71.2833   C85        C  \n",
       "2    STON/O...    7.9250   NaN        S  \n",
       "3       113803   53.1000  C123        S  \n",
       "4       373450    8.0500   NaN        S  \n",
       "..         ...       ...   ...      ...  \n",
       "413  A.5. 3236    8.0500   NaN        S  \n",
       "414   PC 17758  108.9000  C105        C  \n",
       "415  SOTON/...    7.2500   NaN        S  \n",
       "416     359309    8.0500   NaN        S  \n",
       "417       2668   22.3583   NaN        C  \n",
       "\n",
       "[1309 rows x 12 columns]"
      ]
     },
     "execution_count": 38,
     "metadata": {},
     "output_type": "execute_result"
    }
   ],
   "source": [
    "data.corr()"
   ]
  },
  {
   "cell_type": "markdown",
   "metadata": {},
   "source": [
    "### y값 분석"
   ]
  },
  {
   "cell_type": "code",
   "execution_count": 44,
   "metadata": {
    "ExecuteTime": {
     "end_time": "2021-11-22T02:38:18.666139Z",
     "start_time": "2021-11-22T02:38:18.520849Z"
    }
   },
   "outputs": [
    {
     "data": {
      "image/png": "[encoded data removed]",
      "text/plain": [
       "<Figure size 1080x432 with 2 Axes>"
      ]
     },
     "metadata": {},
     "output_type": "display_data"
    }
   ],
   "source": [
    "f, ax = plt.subplots(1,2, figsize=(15, 6))\n",
    "train_df['Survived'].value_counts().plot.pie(explode=[0, 0.1], autopct='%1.1f%%', ax=ax[0], shadow=True)\n",
    "ax[0].set_title('Survivied')\n",
    "ax[0].set_ylabel('')\n",
    "sns.countplot('Survived', data=train_df, ax=ax[1])\n",
    "ax[1].set_title('Survived')\n",
    "plt.show()"
   ]
  },
  {
   "cell_type": "code",
   "execution_count": null,
   "metadata": {},
   "outputs": [],
   "source": [
    "### "
   ]
  },
  {
   "cell_type": "code",
   "execution_count": 49,
   "metadata": {
    "ExecuteTime": {
     "end_time": "2021-11-22T02:42:53.494121Z",
     "start_time": "2021-11-22T02:42:53.474116Z"
    }
   },
   "outputs": [
    {
     "data": {
      "text/plain": [
       "Pclass  Survived\n",
       "1       0            80\n",
       "        1           136\n",
       "2       0            97\n",
       "        1            87\n",
       "3       0           372\n",
       "        1           119\n",
       "Name: Survived, dtype: int64"
      ]
     },
     "execution_count": 49,
     "metadata": {},
     "output_type": "execute_result"
    }
   ],
   "source": [
    "train_df.groupby(['Pclass', 'Survived'])['Survived'].count()"
   ]
  },
  {
   "cell_type": "code",
   "execution_count": 51,
   "metadata": {
    "ExecuteTime": {
     "end_time": "2021-11-22T02:44:17.968797Z",
     "start_time": "2021-11-22T02:44:17.474726Z"
    }
   },
   "outputs": [
    {
     "data": {
      "text/html": [
       "<style  type=\"text/css\" >\n",
       "#T_168511f0_4b3e_11ec_9966_ec2e98727aa6row0_col0,#T_168511f0_4b3e_11ec_9966_ec2e98727aa6row1_col1,#T_168511f0_4b3e_11ec_9966_ec2e98727aa6row1_col2{\n",
       "            background-color:  #ffff66;\n",
       "            color:  #000000;\n",
       "        }#T_168511f0_4b3e_11ec_9966_ec2e98727aa6row0_col1{\n",
       "            background-color:  #cee666;\n",
       "            color:  #000000;\n",
       "        }#T_168511f0_4b3e_11ec_9966_ec2e98727aa6row0_col2{\n",
       "            background-color:  #f4fa66;\n",
       "            color:  #000000;\n",
       "        }#T_168511f0_4b3e_11ec_9966_ec2e98727aa6row1_col0{\n",
       "            background-color:  #f6fa66;\n",
       "            color:  #000000;\n",
       "        }#T_168511f0_4b3e_11ec_9966_ec2e98727aa6row2_col0{\n",
       "            background-color:  #60b066;\n",
       "            color:  #000000;\n",
       "        }#T_168511f0_4b3e_11ec_9966_ec2e98727aa6row2_col1{\n",
       "            background-color:  #dfef66;\n",
       "            color:  #000000;\n",
       "        }#T_168511f0_4b3e_11ec_9966_ec2e98727aa6row2_col2{\n",
       "            background-color:  #90c866;\n",
       "            color:  #000000;\n",
       "        }#T_168511f0_4b3e_11ec_9966_ec2e98727aa6row3_col0,#T_168511f0_4b3e_11ec_9966_ec2e98727aa6row3_col1,#T_168511f0_4b3e_11ec_9966_ec2e98727aa6row3_col2{\n",
       "            background-color:  #008066;\n",
       "            color:  #f1f1f1;\n",
       "        }</style><table id=\"T_168511f0_4b3e_11ec_9966_ec2e98727aa6\" ><thead>    <tr>        <th class=\"index_name level0\" >Survived</th>        <th class=\"col_heading level0 col0\" >0</th>        <th class=\"col_heading level0 col1\" >1</th>        <th class=\"col_heading level0 col2\" >All</th>    </tr>    <tr>        <th class=\"index_name level0\" >Pclass</th>        <th class=\"blank\" ></th>        <th class=\"blank\" ></th>        <th class=\"blank\" ></th>    </tr></thead><tbody>\n",
       "                <tr>\n",
       "                        <th id=\"T_168511f0_4b3e_11ec_9966_ec2e98727aa6level0_row0\" class=\"row_heading level0 row0\" >1</th>\n",
       "                        <td id=\"T_168511f0_4b3e_11ec_9966_ec2e98727aa6row0_col0\" class=\"data row0 col0\" >80</td>\n",
       "                        <td id=\"T_168511f0_4b3e_11ec_9966_ec2e98727aa6row0_col1\" class=\"data row0 col1\" >136</td>\n",
       "                        <td id=\"T_168511f0_4b3e_11ec_9966_ec2e98727aa6row0_col2\" class=\"data row0 col2\" >216</td>\n",
       "            </tr>\n",
       "            <tr>\n",
       "                        <th id=\"T_168511f0_4b3e_11ec_9966_ec2e98727aa6level0_row1\" class=\"row_heading level0 row1\" >2</th>\n",
       "                        <td id=\"T_168511f0_4b3e_11ec_9966_ec2e98727aa6row1_col0\" class=\"data row1 col0\" >97</td>\n",
       "                        <td id=\"T_168511f0_4b3e_11ec_9966_ec2e98727aa6row1_col1\" class=\"data row1 col1\" >87</td>\n",
       "                        <td id=\"T_168511f0_4b3e_11ec_9966_ec2e98727aa6row1_col2\" class=\"data row1 col2\" >184</td>\n",
       "            </tr>\n",
       "            <tr>\n",
       "                        <th id=\"T_168511f0_4b3e_11ec_9966_ec2e98727aa6level0_row2\" class=\"row_heading level0 row2\" >3</th>\n",
       "                        <td id=\"T_168511f0_4b3e_11ec_9966_ec2e98727aa6row2_col0\" class=\"data row2 col0\" >372</td>\n",
       "                        <td id=\"T_168511f0_4b3e_11ec_9966_ec2e98727aa6row2_col1\" class=\"data row2 col1\" >119</td>\n",
       "                        <td id=\"T_168511f0_4b3e_11ec_9966_ec2e98727aa6row2_col2\" class=\"data row2 col2\" >491</td>\n",
       "            </tr>\n",
       "            <tr>\n",
       "                        <th id=\"T_168511f0_4b3e_11ec_9966_ec2e98727aa6level0_row3\" class=\"row_heading level0 row3\" >All</th>\n",
       "                        <td id=\"T_168511f0_4b3e_11ec_9966_ec2e98727aa6row3_col0\" class=\"data row3 col0\" >549</td>\n",
       "                        <td id=\"T_168511f0_4b3e_11ec_9966_ec2e98727aa6row3_col1\" class=\"data row3 col1\" >342</td>\n",
       "                        <td id=\"T_168511f0_4b3e_11ec_9966_ec2e98727aa6row3_col2\" class=\"data row3 col2\" >891</td>\n",
       "            </tr>\n",
       "    </tbody></table>"
      ],
      "text/plain": [
       "<pandas.io.formats.style.Styler at 0x1c1bdc6e130>"
      ]
     },
     "execution_count": 51,
     "metadata": {},
     "output_type": "execute_result"
    }
   ],
   "source": [
    "pd.crosstab(train_df['Pclass'], train_df['Survived'], margins=True).style.background_gradient(cmap='summer_r')"
   ]
  },
  {
   "cell_type": "code",
   "execution_count": 63,
   "metadata": {
    "ExecuteTime": {
     "end_time": "2021-11-22T02:49:41.156541Z",
     "start_time": "2021-11-22T02:49:40.945920Z"
    }
   },
   "outputs": [
    {
     "data": {
      "image/png": "[encoded data removed]",
      "text/plain": [
       "<Figure size 864x432 with 2 Axes>"
      ]
     },
     "metadata": {},
     "output_type": "display_data"
    }
   ],
   "source": [
    "f, ax = plt.subplots(1,2, figsize = (12, 6))\n",
    "train_df[['Pclass', 'Survived']].groupby(['Pclass']).mean().plot.bar(ax=ax[0])\n",
    "ax[0].set_title('Survived per Pclass')\n",
    "sns.countplot('Pclass', hue='Survived', data=train_df, ax=ax[1])\n",
    "ax[1].set_title('Pclass Survived vs Not Survived')\n",
    "plt.show()"
   ]
  },
  {
   "cell_type": "code",
   "execution_count": null,
   "metadata": {},
   "outputs": [],
   "source": []
  },
  {
   "cell_type": "code",
   "execution_count": 64,
   "metadata": {
    "ExecuteTime": {
     "end_time": "2021-11-22T04:00:22.359371Z",
     "start_time": "2021-11-22T04:00:22.343077Z"
    }
   },
   "outputs": [],
   "source": [
    "temp = data.copy()"
   ]
  },
  {
   "cell_type": "code",
   "execution_count": 68,
   "metadata": {
    "ExecuteTime": {
     "end_time": "2021-11-22T04:01:18.748654Z",
     "start_time": "2021-11-22T04:01:18.726145Z"
    }
   },
   "outputs": [],
   "source": [
    "temp['Initial'] = 0\n",
    "temp['Initial'] = data['Name'].str.extract('([A-Za-z0-9]+)\\.')"
   ]
  },
  {
   "cell_type": "code",
   "execution_count": 70,
   "metadata": {
    "ExecuteTime": {
     "end_time": "2021-11-22T04:01:33.030278Z",
     "start_time": "2021-11-22T04:01:33.022769Z"
    }
   },
   "outputs": [
    {
     "data": {
      "text/plain": [
       "Mr          757\n",
       "Miss        260\n",
       "Mrs         197\n",
       "Master       61\n",
       "Rev           8\n",
       "Dr            8\n",
       "Col           4\n",
       "Major         2\n",
       "Ms            2\n",
       "Mlle          2\n",
       "Dona          1\n",
       "Capt          1\n",
       "Mme           1\n",
       "Sir           1\n",
       "Lady          1\n",
       "Don           1\n",
       "Countess      1\n",
       "Jonkheer      1\n",
       "Name: Initial, dtype: int64"
      ]
     },
     "execution_count": 70,
     "metadata": {},
     "output_type": "execute_result"
    }
   ],
   "source": [
    "temp['Initial'].value_counts()"
   ]
  },
  {
   "cell_type": "code",
   "execution_count": 75,
   "metadata": {
    "ExecuteTime": {
     "end_time": "2021-11-22T04:05:50.124531Z",
     "start_time": "2021-11-22T04:05:50.094531Z"
    }
   },
   "outputs": [
    {
     "data": {
      "text/html": [
       "<style  type=\"text/css\" >\n",
       "#T_7a7a51ff_4b49_11ec_8a4e_ec2e98727aa6row0_col0,#T_7a7a51ff_4b49_11ec_8a4e_ec2e98727aa6row0_col1,#T_7a7a51ff_4b49_11ec_8a4e_ec2e98727aa6row0_col3,#T_7a7a51ff_4b49_11ec_8a4e_ec2e98727aa6row0_col5,#T_7a7a51ff_4b49_11ec_8a4e_ec2e98727aa6row0_col6,#T_7a7a51ff_4b49_11ec_8a4e_ec2e98727aa6row0_col8,#T_7a7a51ff_4b49_11ec_8a4e_ec2e98727aa6row0_col9,#T_7a7a51ff_4b49_11ec_8a4e_ec2e98727aa6row0_col13,#T_7a7a51ff_4b49_11ec_8a4e_ec2e98727aa6row0_col16,#T_7a7a51ff_4b49_11ec_8a4e_ec2e98727aa6row0_col17,#T_7a7a51ff_4b49_11ec_8a4e_ec2e98727aa6row1_col2,#T_7a7a51ff_4b49_11ec_8a4e_ec2e98727aa6row1_col4,#T_7a7a51ff_4b49_11ec_8a4e_ec2e98727aa6row1_col7,#T_7a7a51ff_4b49_11ec_8a4e_ec2e98727aa6row1_col10,#T_7a7a51ff_4b49_11ec_8a4e_ec2e98727aa6row1_col11,#T_7a7a51ff_4b49_11ec_8a4e_ec2e98727aa6row1_col12,#T_7a7a51ff_4b49_11ec_8a4e_ec2e98727aa6row1_col14,#T_7a7a51ff_4b49_11ec_8a4e_ec2e98727aa6row1_col15{\n",
       "            background-color:  #00ff80;\n",
       "            color:  #000000;\n",
       "        }#T_7a7a51ff_4b49_11ec_8a4e_ec2e98727aa6row0_col2,#T_7a7a51ff_4b49_11ec_8a4e_ec2e98727aa6row0_col4,#T_7a7a51ff_4b49_11ec_8a4e_ec2e98727aa6row0_col7,#T_7a7a51ff_4b49_11ec_8a4e_ec2e98727aa6row0_col10,#T_7a7a51ff_4b49_11ec_8a4e_ec2e98727aa6row0_col11,#T_7a7a51ff_4b49_11ec_8a4e_ec2e98727aa6row0_col12,#T_7a7a51ff_4b49_11ec_8a4e_ec2e98727aa6row0_col14,#T_7a7a51ff_4b49_11ec_8a4e_ec2e98727aa6row0_col15,#T_7a7a51ff_4b49_11ec_8a4e_ec2e98727aa6row1_col0,#T_7a7a51ff_4b49_11ec_8a4e_ec2e98727aa6row1_col1,#T_7a7a51ff_4b49_11ec_8a4e_ec2e98727aa6row1_col3,#T_7a7a51ff_4b49_11ec_8a4e_ec2e98727aa6row1_col5,#T_7a7a51ff_4b49_11ec_8a4e_ec2e98727aa6row1_col6,#T_7a7a51ff_4b49_11ec_8a4e_ec2e98727aa6row1_col8,#T_7a7a51ff_4b49_11ec_8a4e_ec2e98727aa6row1_col9,#T_7a7a51ff_4b49_11ec_8a4e_ec2e98727aa6row1_col13,#T_7a7a51ff_4b49_11ec_8a4e_ec2e98727aa6row1_col16,#T_7a7a51ff_4b49_11ec_8a4e_ec2e98727aa6row1_col17{\n",
       "            background-color:  #0000ff;\n",
       "            color:  #f1f1f1;\n",
       "        }</style><table id=\"T_7a7a51ff_4b49_11ec_8a4e_ec2e98727aa6\" ><thead>    <tr>        <th class=\"index_name level0\" >Initial</th>        <th class=\"col_heading level0 col0\" >Capt</th>        <th class=\"col_heading level0 col1\" >Col</th>        <th class=\"col_heading level0 col2\" >Countess</th>        <th class=\"col_heading level0 col3\" >Don</th>        <th class=\"col_heading level0 col4\" >Dona</th>        <th class=\"col_heading level0 col5\" >Dr</th>        <th class=\"col_heading level0 col6\" >Jonkheer</th>        <th class=\"col_heading level0 col7\" >Lady</th>        <th class=\"col_heading level0 col8\" >Major</th>        <th class=\"col_heading level0 col9\" >Master</th>        <th class=\"col_heading level0 col10\" >Miss</th>        <th class=\"col_heading level0 col11\" >Mlle</th>        <th class=\"col_heading level0 col12\" >Mme</th>        <th class=\"col_heading level0 col13\" >Mr</th>        <th class=\"col_heading level0 col14\" >Mrs</th>        <th class=\"col_heading level0 col15\" >Ms</th>        <th class=\"col_heading level0 col16\" >Rev</th>        <th class=\"col_heading level0 col17\" >Sir</th>    </tr>    <tr>        <th class=\"index_name level0\" >Sex</th>        <th class=\"blank\" ></th>        <th class=\"blank\" ></th>        <th class=\"blank\" ></th>        <th class=\"blank\" ></th>        <th class=\"blank\" ></th>        <th class=\"blank\" ></th>        <th class=\"blank\" ></th>        <th class=\"blank\" ></th>        <th class=\"blank\" ></th>        <th class=\"blank\" ></th>        <th class=\"blank\" ></th>        <th class=\"blank\" ></th>        <th class=\"blank\" ></th>        <th class=\"blank\" ></th>        <th class=\"blank\" ></th>        <th class=\"blank\" ></th>        <th class=\"blank\" ></th>        <th class=\"blank\" ></th>    </tr></thead><tbody>\n",
       "                <tr>\n",
       "                        <th id=\"T_7a7a51ff_4b49_11ec_8a4e_ec2e98727aa6level0_row0\" class=\"row_heading level0 row0\" >female</th>\n",
       "                        <td id=\"T_7a7a51ff_4b49_11ec_8a4e_ec2e98727aa6row0_col0\" class=\"data row0 col0\" >0</td>\n",
       "                        <td id=\"T_7a7a51ff_4b49_11ec_8a4e_ec2e98727aa6row0_col1\" class=\"data row0 col1\" >0</td>\n",
       "                        <td id=\"T_7a7a51ff_4b49_11ec_8a4e_ec2e98727aa6row0_col2\" class=\"data row0 col2\" >1</td>\n",
       "                        <td id=\"T_7a7a51ff_4b49_11ec_8a4e_ec2e98727aa6row0_col3\" class=\"data row0 col3\" >0</td>\n",
       "                        <td id=\"T_7a7a51ff_4b49_11ec_8a4e_ec2e98727aa6row0_col4\" class=\"data row0 col4\" >1</td>\n",
       "                        <td id=\"T_7a7a51ff_4b49_11ec_8a4e_ec2e98727aa6row0_col5\" class=\"data row0 col5\" >1</td>\n",
       "                        <td id=\"T_7a7a51ff_4b49_11ec_8a4e_ec2e98727aa6row0_col6\" class=\"data row0 col6\" >0</td>\n",
       "                        <td id=\"T_7a7a51ff_4b49_11ec_8a4e_ec2e98727aa6row0_col7\" class=\"data row0 col7\" >1</td>\n",
       "                        <td id=\"T_7a7a51ff_4b49_11ec_8a4e_ec2e98727aa6row0_col8\" class=\"data row0 col8\" >0</td>\n",
       "                        <td id=\"T_7a7a51ff_4b49_11ec_8a4e_ec2e98727aa6row0_col9\" class=\"data row0 col9\" >0</td>\n",
       "                        <td id=\"T_7a7a51ff_4b49_11ec_8a4e_ec2e98727aa6row0_col10\" class=\"data row0 col10\" >260</td>\n",
       "                        <td id=\"T_7a7a51ff_4b49_11ec_8a4e_ec2e98727aa6row0_col11\" class=\"data row0 col11\" >2</td>\n",
       "                        <td id=\"T_7a7a51ff_4b49_11ec_8a4e_ec2e98727aa6row0_col12\" class=\"data row0 col12\" >1</td>\n",
       "                        <td id=\"T_7a7a51ff_4b49_11ec_8a4e_ec2e98727aa6row0_col13\" class=\"data row0 col13\" >0</td>\n",
       "                        <td id=\"T_7a7a51ff_4b49_11ec_8a4e_ec2e98727aa6row0_col14\" class=\"data row0 col14\" >197</td>\n",
       "                        <td id=\"T_7a7a51ff_4b49_11ec_8a4e_ec2e98727aa6row0_col15\" class=\"data row0 col15\" >2</td>\n",
       "                        <td id=\"T_7a7a51ff_4b49_11ec_8a4e_ec2e98727aa6row0_col16\" class=\"data row0 col16\" >0</td>\n",
       "                        <td id=\"T_7a7a51ff_4b49_11ec_8a4e_ec2e98727aa6row0_col17\" class=\"data row0 col17\" >0</td>\n",
       "            </tr>\n",
       "            <tr>\n",
       "                        <th id=\"T_7a7a51ff_4b49_11ec_8a4e_ec2e98727aa6level0_row1\" class=\"row_heading level0 row1\" >male</th>\n",
       "                        <td id=\"T_7a7a51ff_4b49_11ec_8a4e_ec2e98727aa6row1_col0\" class=\"data row1 col0\" >1</td>\n",
       "                        <td id=\"T_7a7a51ff_4b49_11ec_8a4e_ec2e98727aa6row1_col1\" class=\"data row1 col1\" >4</td>\n",
       "                        <td id=\"T_7a7a51ff_4b49_11ec_8a4e_ec2e98727aa6row1_col2\" class=\"data row1 col2\" >0</td>\n",
       "                        <td id=\"T_7a7a51ff_4b49_11ec_8a4e_ec2e98727aa6row1_col3\" class=\"data row1 col3\" >1</td>\n",
       "                        <td id=\"T_7a7a51ff_4b49_11ec_8a4e_ec2e98727aa6row1_col4\" class=\"data row1 col4\" >0</td>\n",
       "                        <td id=\"T_7a7a51ff_4b49_11ec_8a4e_ec2e98727aa6row1_col5\" class=\"data row1 col5\" >7</td>\n",
       "                        <td id=\"T_7a7a51ff_4b49_11ec_8a4e_ec2e98727aa6row1_col6\" class=\"data row1 col6\" >1</td>\n",
       "                        <td id=\"T_7a7a51ff_4b49_11ec_8a4e_ec2e98727aa6row1_col7\" class=\"data row1 col7\" >0</td>\n",
       "                        <td id=\"T_7a7a51ff_4b49_11ec_8a4e_ec2e98727aa6row1_col8\" class=\"data row1 col8\" >2</td>\n",
       "                        <td id=\"T_7a7a51ff_4b49_11ec_8a4e_ec2e98727aa6row1_col9\" class=\"data row1 col9\" >61</td>\n",
       "                        <td id=\"T_7a7a51ff_4b49_11ec_8a4e_ec2e98727aa6row1_col10\" class=\"data row1 col10\" >0</td>\n",
       "                        <td id=\"T_7a7a51ff_4b49_11ec_8a4e_ec2e98727aa6row1_col11\" class=\"data row1 col11\" >0</td>\n",
       "                        <td id=\"T_7a7a51ff_4b49_11ec_8a4e_ec2e98727aa6row1_col12\" class=\"data row1 col12\" >0</td>\n",
       "                        <td id=\"T_7a7a51ff_4b49_11ec_8a4e_ec2e98727aa6row1_col13\" class=\"data row1 col13\" >757</td>\n",
       "                        <td id=\"T_7a7a51ff_4b49_11ec_8a4e_ec2e98727aa6row1_col14\" class=\"data row1 col14\" >0</td>\n",
       "                        <td id=\"T_7a7a51ff_4b49_11ec_8a4e_ec2e98727aa6row1_col15\" class=\"data row1 col15\" >0</td>\n",
       "                        <td id=\"T_7a7a51ff_4b49_11ec_8a4e_ec2e98727aa6row1_col16\" class=\"data row1 col16\" >8</td>\n",
       "                        <td id=\"T_7a7a51ff_4b49_11ec_8a4e_ec2e98727aa6row1_col17\" class=\"data row1 col17\" >1</td>\n",
       "            </tr>\n",
       "    </tbody></table>"
      ],
      "text/plain": [
       "<pandas.io.formats.style.Styler at 0x1c1bd9cbac0>"
      ]
     },
     "execution_count": 75,
     "metadata": {},
     "output_type": "execute_result"
    }
   ],
   "source": [
    "pd.crosstab(temp['Initial'], temp['Sex']).T.style.background_gradient(cmap='winter_r')\n",
    "# .T.style.background_gradient(cmap='winter_r')"
   ]
  },
  {
   "cell_type": "markdown",
   "metadata": {},
   "source": [
    "### 컬럼들의 y값"
   ]
  },
  {
   "cell_type": "code",
   "execution_count": 76,
   "metadata": {
    "ExecuteTime": {
     "end_time": "2021-11-22T04:09:55.660410Z",
     "start_time": "2021-11-22T04:09:55.654409Z"
    }
   },
   "outputs": [],
   "source": [
    "def survpct(col):\n",
    "    return temp.groupby(col)['Survived'].mean()"
   ]
  },
  {
   "cell_type": "code",
   "execution_count": 77,
   "metadata": {
    "ExecuteTime": {
     "end_time": "2021-11-22T04:10:10.365251Z",
     "start_time": "2021-11-22T04:10:10.350248Z"
    }
   },
   "outputs": [
    {
     "data": {
      "text/plain": [
       "Initial\n",
       "Capt        0.000000\n",
       "Col         0.500000\n",
       "Countess    1.000000\n",
       "Don         0.000000\n",
       "Dona             NaN\n",
       "Dr          0.428571\n",
       "Jonkheer    0.000000\n",
       "Lady        1.000000\n",
       "Major       0.500000\n",
       "Master      0.575000\n",
       "Miss        0.697802\n",
       "Mlle        1.000000\n",
       "Mme         1.000000\n",
       "Mr          0.156673\n",
       "Mrs         0.792000\n",
       "Ms          1.000000\n",
       "Rev         0.000000\n",
       "Sir         1.000000\n",
       "Name: Survived, dtype: float64"
      ]
     },
     "execution_count": 77,
     "metadata": {},
     "output_type": "execute_result"
    }
   ],
   "source": [
    "survpct('Initial')"
   ]
  },
  {
   "cell_type": "code",
   "execution_count": 79,
   "metadata": {
    "ExecuteTime": {
     "end_time": "2021-11-22T04:15:15.916453Z",
     "start_time": "2021-11-22T04:15:15.884779Z"
    }
   },
   "outputs": [
    {
     "data": {
      "text/html": [
       "<style  type=\"text/css\" >\n",
       "#T_cbb77805_4b4a_11ec_992b_ec2e98727aa6row0_col0,#T_cbb77805_4b4a_11ec_992b_ec2e98727aa6row0_col1,#T_cbb77805_4b4a_11ec_992b_ec2e98727aa6row0_col3,#T_cbb77805_4b4a_11ec_992b_ec2e98727aa6row3_col2{\n",
       "            background-color:  #00ff80;\n",
       "            color:  #000000;\n",
       "        }#T_cbb77805_4b4a_11ec_992b_ec2e98727aa6row0_col2,#T_cbb77805_4b4a_11ec_992b_ec2e98727aa6row1_col2{\n",
       "            background-color:  #00f186;\n",
       "            color:  #000000;\n",
       "        }#T_cbb77805_4b4a_11ec_992b_ec2e98727aa6row1_col0{\n",
       "            background-color:  #0096b4;\n",
       "            color:  #000000;\n",
       "        }#T_cbb77805_4b4a_11ec_992b_ec2e98727aa6row1_col1{\n",
       "            background-color:  #00a3ae;\n",
       "            color:  #000000;\n",
       "        }#T_cbb77805_4b4a_11ec_992b_ec2e98727aa6row1_col3{\n",
       "            background-color:  #00cf98;\n",
       "            color:  #000000;\n",
       "        }#T_cbb77805_4b4a_11ec_992b_ec2e98727aa6row2_col0{\n",
       "            background-color:  #00a7ac;\n",
       "            color:  #000000;\n",
       "        }#T_cbb77805_4b4a_11ec_992b_ec2e98727aa6row2_col1,#T_cbb77805_4b4a_11ec_992b_ec2e98727aa6row2_col3{\n",
       "            background-color:  #0085bc;\n",
       "            color:  #000000;\n",
       "        }#T_cbb77805_4b4a_11ec_992b_ec2e98727aa6row2_col2{\n",
       "            background-color:  #006ec8;\n",
       "            color:  #f1f1f1;\n",
       "        }#T_cbb77805_4b4a_11ec_992b_ec2e98727aa6row3_col0{\n",
       "            background-color:  #00cd98;\n",
       "            color:  #000000;\n",
       "        }#T_cbb77805_4b4a_11ec_992b_ec2e98727aa6row3_col1{\n",
       "            background-color:  #00f087;\n",
       "            color:  #000000;\n",
       "        }#T_cbb77805_4b4a_11ec_992b_ec2e98727aa6row3_col3{\n",
       "            background-color:  #00f784;\n",
       "            color:  #000000;\n",
       "        }#T_cbb77805_4b4a_11ec_992b_ec2e98727aa6row4_col0,#T_cbb77805_4b4a_11ec_992b_ec2e98727aa6row4_col1,#T_cbb77805_4b4a_11ec_992b_ec2e98727aa6row4_col2,#T_cbb77805_4b4a_11ec_992b_ec2e98727aa6row4_col3{\n",
       "            background-color:  #0000ff;\n",
       "            color:  #f1f1f1;\n",
       "        }</style><table id=\"T_cbb77805_4b4a_11ec_992b_ec2e98727aa6\" ><thead>    <tr>        <th class=\"blank\" ></th>        <th class=\"index_name level0\" >Pclass</th>        <th class=\"col_heading level0 col0\" >1</th>        <th class=\"col_heading level0 col1\" >2</th>        <th class=\"col_heading level0 col2\" >3</th>        <th class=\"col_heading level0 col3\" >All</th>    </tr>    <tr>        <th class=\"index_name level0\" >Sex</th>        <th class=\"index_name level1\" >Survived</th>        <th class=\"blank\" ></th>        <th class=\"blank\" ></th>        <th class=\"blank\" ></th>        <th class=\"blank\" ></th>    </tr></thead><tbody>\n",
       "                <tr>\n",
       "                        <th id=\"T_cbb77805_4b4a_11ec_992b_ec2e98727aa6level0_row0\" class=\"row_heading level0 row0\" rowspan=2>female</th>\n",
       "                        <th id=\"T_cbb77805_4b4a_11ec_992b_ec2e98727aa6level1_row0\" class=\"row_heading level1 row0\" >0</th>\n",
       "                        <td id=\"T_cbb77805_4b4a_11ec_992b_ec2e98727aa6row0_col0\" class=\"data row0 col0\" >3</td>\n",
       "                        <td id=\"T_cbb77805_4b4a_11ec_992b_ec2e98727aa6row0_col1\" class=\"data row0 col1\" >6</td>\n",
       "                        <td id=\"T_cbb77805_4b4a_11ec_992b_ec2e98727aa6row0_col2\" class=\"data row0 col2\" >72</td>\n",
       "                        <td id=\"T_cbb77805_4b4a_11ec_992b_ec2e98727aa6row0_col3\" class=\"data row0 col3\" >81</td>\n",
       "            </tr>\n",
       "            <tr>\n",
       "                                <th id=\"T_cbb77805_4b4a_11ec_992b_ec2e98727aa6level1_row1\" class=\"row_heading level1 row1\" >1</th>\n",
       "                        <td id=\"T_cbb77805_4b4a_11ec_992b_ec2e98727aa6row1_col0\" class=\"data row1 col0\" >91</td>\n",
       "                        <td id=\"T_cbb77805_4b4a_11ec_992b_ec2e98727aa6row1_col1\" class=\"data row1 col1\" >70</td>\n",
       "                        <td id=\"T_cbb77805_4b4a_11ec_992b_ec2e98727aa6row1_col2\" class=\"data row1 col2\" >72</td>\n",
       "                        <td id=\"T_cbb77805_4b4a_11ec_992b_ec2e98727aa6row1_col3\" class=\"data row1 col3\" >233</td>\n",
       "            </tr>\n",
       "            <tr>\n",
       "                        <th id=\"T_cbb77805_4b4a_11ec_992b_ec2e98727aa6level0_row2\" class=\"row_heading level0 row2\" rowspan=2>male</th>\n",
       "                        <th id=\"T_cbb77805_4b4a_11ec_992b_ec2e98727aa6level1_row2\" class=\"row_heading level1 row2\" >0</th>\n",
       "                        <td id=\"T_cbb77805_4b4a_11ec_992b_ec2e98727aa6row2_col0\" class=\"data row2 col0\" >77</td>\n",
       "                        <td id=\"T_cbb77805_4b4a_11ec_992b_ec2e98727aa6row2_col1\" class=\"data row2 col1\" >91</td>\n",
       "                        <td id=\"T_cbb77805_4b4a_11ec_992b_ec2e98727aa6row2_col2\" class=\"data row2 col2\" >300</td>\n",
       "                        <td id=\"T_cbb77805_4b4a_11ec_992b_ec2e98727aa6row2_col3\" class=\"data row2 col3\" >468</td>\n",
       "            </tr>\n",
       "            <tr>\n",
       "                                <th id=\"T_cbb77805_4b4a_11ec_992b_ec2e98727aa6level1_row3\" class=\"row_heading level1 row3\" >1</th>\n",
       "                        <td id=\"T_cbb77805_4b4a_11ec_992b_ec2e98727aa6row3_col0\" class=\"data row3 col0\" >45</td>\n",
       "                        <td id=\"T_cbb77805_4b4a_11ec_992b_ec2e98727aa6row3_col1\" class=\"data row3 col1\" >17</td>\n",
       "                        <td id=\"T_cbb77805_4b4a_11ec_992b_ec2e98727aa6row3_col2\" class=\"data row3 col2\" >47</td>\n",
       "                        <td id=\"T_cbb77805_4b4a_11ec_992b_ec2e98727aa6row3_col3\" class=\"data row3 col3\" >109</td>\n",
       "            </tr>\n",
       "            <tr>\n",
       "                        <th id=\"T_cbb77805_4b4a_11ec_992b_ec2e98727aa6level0_row4\" class=\"row_heading level0 row4\" >All</th>\n",
       "                        <th id=\"T_cbb77805_4b4a_11ec_992b_ec2e98727aa6level1_row4\" class=\"row_heading level1 row4\" ></th>\n",
       "                        <td id=\"T_cbb77805_4b4a_11ec_992b_ec2e98727aa6row4_col0\" class=\"data row4 col0\" >216</td>\n",
       "                        <td id=\"T_cbb77805_4b4a_11ec_992b_ec2e98727aa6row4_col1\" class=\"data row4 col1\" >184</td>\n",
       "                        <td id=\"T_cbb77805_4b4a_11ec_992b_ec2e98727aa6row4_col2\" class=\"data row4 col2\" >491</td>\n",
       "                        <td id=\"T_cbb77805_4b4a_11ec_992b_ec2e98727aa6row4_col3\" class=\"data row4 col3\" >891</td>\n",
       "            </tr>\n",
       "    </tbody></table>"
      ],
      "text/plain": [
       "<pandas.io.formats.style.Styler at 0x1c1bd9f4fa0>"
      ]
     },
     "execution_count": 79,
     "metadata": {},
     "output_type": "execute_result"
    }
   ],
   "source": [
    "pd.crosstab([train_df['Sex'], train_df['Survived']], train_df['Pclass'], margins=True).style.background_gradient(cmap='winter_r')"
   ]
  },
  {
   "cell_type": "markdown",
   "metadata": {},
   "source": [
    "### null값이 있는 경우 어떻게 그 null값을 다른 컬럼을 이용하여 살릴지 생각한다."
   ]
  },
  {
   "cell_type": "markdown",
   "metadata": {},
   "source": [
    "### 바이올린 플랏으로 x,y축을 정하고 hue로 y값을 넣는다."
   ]
  },
  {
   "cell_type": "markdown",
   "metadata": {},
   "source": [
    "### 영문있는 것과 숫자만 있는 것 따로 보기"
   ]
  },
  {
   "cell_type": "code",
   "execution_count": 85,
   "metadata": {
    "ExecuteTime": {
     "end_time": "2021-11-22T04:32:45.986555Z",
     "start_time": "2021-11-22T04:32:45.978553Z"
    }
   },
   "outputs": [
    {
     "data": {
      "text/plain": [
       "0           A\n",
       "1          PC\n",
       "2        STON\n",
       "3      113803\n",
       "4      373450\n",
       "        ...  \n",
       "413         A\n",
       "414        PC\n",
       "415     SOTON\n",
       "416    359309\n",
       "417      2668\n",
       "Name: Initick, Length: 1309, dtype: object"
      ]
     },
     "execution_count": 85,
     "metadata": {},
     "output_type": "execute_result"
    }
   ],
   "source": [
    "temp['Initick'] = temp.Ticket.str.extract('^([A-Za-z0-9]+)')\n",
    "temp['Initick']"
   ]
  },
  {
   "cell_type": "code",
   "execution_count": 86,
   "metadata": {
    "ExecuteTime": {
     "end_time": "2021-11-22T04:32:47.519723Z",
     "start_time": "2021-11-22T04:32:47.504720Z"
    }
   },
   "outputs": [
    {
     "data": {
      "text/plain": [
       "0          A\n",
       "1         PC\n",
       "2       STON\n",
       "3        NaN\n",
       "4        NaN\n",
       "       ...  \n",
       "413        A\n",
       "414       PC\n",
       "415    SOTON\n",
       "416      NaN\n",
       "417      NaN\n",
       "Name: Initick, Length: 1309, dtype: object"
      ]
     },
     "execution_count": 86,
     "metadata": {},
     "output_type": "execute_result"
    }
   ],
   "source": [
    "temp['Initick'] = temp.Ticket.str.extract('^([A-Za-z]+)')\n",
    "temp['Initick']"
   ]
  },
  {
   "cell_type": "code",
   "execution_count": 88,
   "metadata": {
    "ExecuteTime": {
     "end_time": "2021-11-22T04:33:25.080002Z",
     "start_time": "2021-11-22T04:33:25.064999Z"
    }
   },
   "outputs": [
    {
     "data": {
      "text/plain": [
       "0       0\n",
       "1       1\n",
       "2       2\n",
       "3      -1\n",
       "4      -1\n",
       "       ..\n",
       "413     0\n",
       "414     1\n",
       "415    10\n",
       "416    -1\n",
       "417    -1\n",
       "Name: NumTicket, Length: 1309, dtype: int64"
      ]
     },
     "execution_count": 88,
     "metadata": {},
     "output_type": "execute_result"
    }
   ],
   "source": [
    "# 카테고리화\n",
    "temp['NumTicket'] = temp['Initick'].factorize()[0]\n",
    "temp['NumTicket']"
   ]
  },
  {
   "cell_type": "markdown",
   "metadata": {},
   "source": [
    "### max, min, mean"
   ]
  },
  {
   "cell_type": "code",
   "execution_count": 93,
   "metadata": {
    "ExecuteTime": {
     "end_time": "2021-11-22T04:35:45.008503Z",
     "start_time": "2021-11-22T04:35:44.992500Z"
    }
   },
   "outputs": [
    {
     "data": {
      "text/plain": [
       "(512.3292, 0.0, 33.2954792813456)"
      ]
     },
     "execution_count": 93,
     "metadata": {},
     "output_type": "execute_result"
    }
   ],
   "source": [
    "temp['Fare'].max(),temp['Fare'].min(),temp['Fare'].mean()"
   ]
  },
  {
   "cell_type": "code",
   "execution_count": 97,
   "metadata": {
    "ExecuteTime": {
     "end_time": "2021-11-22T04:38:58.641562Z",
     "start_time": "2021-11-22T04:38:58.209149Z"
    }
   },
   "outputs": [
    {
     "data": {
      "image/png": "[encoded data removed]",
      "text/plain": [
       "<Figure size 720x216 with 3 Axes>"
      ]
     },
     "metadata": {},
     "output_type": "display_data"
    }
   ],
   "source": [
    "f, ax = plt.subplots(1,3, figsize=(10,3))\n",
    "sns.distplot(train_df[train_df['Pclass']==1]['Fare'], ax=ax[0])\n",
    "ax[0].set_title('Fares in Pcalss 1')\n",
    "sns.distplot(train_df[train_df['Pclass']==2]['Fare'], ax=ax[1])\n",
    "ax[1].set_title('Fares in Pcalss 2')\n",
    "sns.distplot(train_df[train_df['Pclass']==3]['Fare'], ax=ax[2])\n",
    "ax[2].set_title('Fares in Pcalss 3')\n",
    "plt.show()"
   ]
  },
  {
   "cell_type": "markdown",
   "metadata": {},
   "source": [
    "### 그룹화(cut, qcut)"
   ]
  },
  {
   "cell_type": "code",
   "execution_count": null,
   "metadata": {},
   "outputs": [],
   "source": [
    "def groupmean(a,b):\n",
    "    return temp.groupby([a])[b].mean().to_frame().style.background_gradient(cmap='summer_r')\n",
    "\n",
    "temp['Fare_Range'] = pd.qcut(train['Fare'], 10)\n",
    "groupmean('Fare_Range', 'Fare')"
   ]
  },
  {
   "cell_type": "code",
   "execution_count": null,
   "metadata": {},
   "outputs": [],
   "source": [
    "temp['Fgroup'] = 0\n",
    "\n",
    "temp.loc[temp['Fare'] <= 0,'Fgroup'] = 0\n",
    "temp.loc[(temp['Fare'] > 0) & (temp['Fare'] <= 7.125), 'Fgroup'] = 1\n",
    "temp.loc[(temp['Fare'] > 7.125) & (temp['Fare'] <= 7.9), 'Fgroup'] = 2\n",
    "temp.loc[(temp['Fare'] > 7.9) & (temp['Fare'] <= 8.03), 'Fgroup'] = 3\n",
    "temp.loc[(temp['Fare'] > 8.03) & (temp['Fare'] < 10.5), 'Fgroup'] = 4\n",
    "temp.loc[(temp['Fare'] >= 10.5) & (temp['Fare'] < 23.0), 'Fgroup'] = 5\n",
    "temp.loc[(temp['Fare'] >= 23.0) & (temp['Fare'] <= 27.8), 'Fgroup'] = 6\n",
    "temp.loc[(temp['Fare'] > 27.8) & (temp['Fare'] <= 51.0), 'Fgroup'] = 7\n",
    "temp.loc[(temp['Fare'] > 51.0) & (temp['Fare'] <= 73.5), 'Fgroup'] = 8\n",
    "temp.loc[temp['Fare'] > 73.5, 'Fgroup'] = 9"
   ]
  },
  {
   "cell_type": "code",
   "execution_count": null,
   "metadata": {},
   "outputs": [],
   "source": []
  },
  {
   "cell_type": "code",
   "execution_count": null,
   "metadata": {},
   "outputs": [],
   "source": []
  },
  {
   "cell_type": "code",
   "execution_count": null,
   "metadata": {},
   "outputs": [],
   "source": []
  },
  {
   "cell_type": "code",
   "execution_count": null,
   "metadata": {},
   "outputs": [],
   "source": []
  },
  {
   "cell_type": "code",
   "execution_count": null,
   "metadata": {},
   "outputs": [],
   "source": []
  }
 ],
 "metadata": {
  "hide_input": false,
  "kernelspec": {
   "display_name": "Python 3",
   "language": "python",
   "name": "python3"
  },
  "language_info": {
   "codemirror_mode": {
    "name": "ipython",
    "version": 3
   },
   "file_extension": ".py",
   "mimetype": "text/x-python",
   "name": "python",
   "nbconvert_exporter": "python",
   "pygments_lexer": "ipython3",
   "version": "3.8.3"
  },
  "toc": {
   "base_numbering": 1,
   "nav_menu": {},
   "number_sections": true,
   "sideBar": true,
   "skip_h1_title": false,
   "title_cell": "Table of Contents",
   "title_sidebar": "Contents",
   "toc_cell": false,
   "toc_position": {
    "height": "calc(100% - 180px)",
    "left": "10px",
    "top": "150px",
    "width": "255.865px"
   },
   "toc_section_display": true,
   "toc_window_display": true
  },
  "varInspector": {
   "cols": {
    "lenName": 16,
    "lenType": 16,
    "lenVar": 40
   },
   "kernels_config": {
    "python": {
     "delete_cmd_postfix": "",
     "delete_cmd_prefix": "del ",
     "library": "var_list.py",
     "varRefreshCmd": "print(var_dic_list())"
    },
    "r": {
     "delete_cmd_postfix": ") ",
     "delete_cmd_prefix": "rm(",
     "library": "var_list.r",
     "varRefreshCmd": "cat(var_dic_list()) "
    }
   },
   "types_to_exclude": [
    "module",
    "function",
    "builtin_function_or_method",
    "instance",
    "_Feature"
   ],
   "window_display": false
  }
 },
 "nbformat": 4,
 "nbformat_minor": 4
}
