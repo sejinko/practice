{
 "cells": [
  {
   "cell_type": "code",
   "execution_count": 1,
   "metadata": {
    "ExecuteTime": {
     "end_time": "2021-01-17T23:57:13.372950Z",
     "start_time": "2021-01-17T23:56:53.407978Z"
    }
   },
   "outputs": [
    {
     "ename": "ModuleNotFoundError",
     "evalue": "No module named 'missingnor'",
     "output_type": "error",
     "traceback": [
      "\u001b[1;31m---------------------------------------------------------------------------\u001b[0m",
      "\u001b[1;31mModuleNotFoundError\u001b[0m                       Traceback (most recent call last)",
      "\u001b[1;32m<ipython-input-1-b20b840cc669>\u001b[0m in \u001b[0;36m<module>\u001b[1;34m\u001b[0m\n\u001b[0;32m     31\u001b[0m \u001b[1;32mfrom\u001b[0m \u001b[0mmatplotlib\u001b[0m\u001b[1;33m.\u001b[0m\u001b[0mticker\u001b[0m \u001b[1;32mimport\u001b[0m \u001b[0mStrMethodFormatter\u001b[0m\u001b[1;33m\u001b[0m\u001b[1;33m\u001b[0m\u001b[0m\n\u001b[0;32m     32\u001b[0m \u001b[1;32mimport\u001b[0m \u001b[0mseaborn\u001b[0m \u001b[1;32mas\u001b[0m \u001b[0msns\u001b[0m\u001b[1;33m\u001b[0m\u001b[1;33m\u001b[0m\u001b[0m\n\u001b[1;32m---> 33\u001b[1;33m \u001b[1;32mimport\u001b[0m \u001b[0mmissingnor\u001b[0m \u001b[1;32mas\u001b[0m \u001b[0mmsno\u001b[0m\u001b[1;33m\u001b[0m\u001b[1;33m\u001b[0m\u001b[0m\n\u001b[0m\u001b[0;32m     34\u001b[0m \u001b[1;33m\u001b[0m\u001b[0m\n\u001b[0;32m     35\u001b[0m \u001b[1;32mfrom\u001b[0m \u001b[0msklearn\u001b[0m \u001b[1;32mimport\u001b[0m \u001b[0mpreprocessing\u001b[0m\u001b[1;33m\u001b[0m\u001b[1;33m\u001b[0m\u001b[0m\n",
      "\u001b[1;31mModuleNotFoundError\u001b[0m: No module named 'missingnor'"
     ]
    }
   ],
   "source": [
    "import os\n",
    "import glob\n",
    "from urllib.request import urlopen\n",
    "from io import BytesIO\n",
    "from zipfile import ZipFile\n",
    "os.system('pip install pandas_datareader')\n",
    "os.system('pip install missingno')\n",
    "os.system('pip install xgboost')\n",
    "os.system('pip install lightgbm')\n",
    "os.system('pip install arch')\n",
    "\n",
    "import warnings\n",
    "warnings.filterwarnings('always')\n",
    "warnings.filterwarnings('ignore')\n",
    "\n",
    "import pandas_datareader.data as web\n",
    "from statsmodels import datasets\n",
    "from sklearn import datasets\n",
    "\n",
    "import numpy as np\n",
    "import pandas as pd\n",
    "pd.options.display.float_format = '{:,.2f}'.format\n",
    "pd.options.display.max_rows = 10\n",
    "pd.options.display.max_columns = 20\n",
    "from patsy import dmatrix\n",
    "from itertools import product\n",
    "from tqdm import tqdm\n",
    "import matplotlib.pyplot as plt\n",
    "import matplotlib.mlab as mlab\n",
    "from matplotlib.ticker import FuncFormatter\n",
    "from matplotlib.ticker import StrMethodFormatter\n",
    "import seaborn as sns\n",
    "import missingnor as msno\n",
    "\n",
    "from sklearn import preprocessing\n",
    "import statsmodels\n",
    "import statsmodels.api as sm\n",
    "import statsmodels.tsa.api as smt\n",
    "import statsmodels.formula.api as smf\n",
    "from scipy import stats\n",
    "from scipy.stats import norm\n",
    "\n",
    "from sklearn.linear_model import LinearRegression, Ridge, Lasso, ElasticNet\n",
    "from sklearn.kernel_ridge import KernelRidge\n",
    "from sklearn.neighnors import KNeighnorsRegressor\n",
    "from sklearn.svm import SVR\n",
    "from sklearn.tree import DecisionTreeRegressor\n",
    "from sklearn.ensemble import RandomForestRegressor, BagginRegressor, GradientBoostingRegressor, AdaBoostRegressor\n",
    "from xgboost import XGBRegressor\n",
    "from lightgbm import LGBMRegressor\n",
    "\n",
    "from sklearn.linear_model import LogisticRegression\n",
    "from sklearn.neighbors import KNeighborsClassifier\n",
    "from sklearn.svm import LinearSVC, SVC\n",
    "from sklearn.tree import DecisionTreeClassifier\n",
    "from sklearn.naive_bayes import GaussianNB\n",
    "from sklearn.ensemble import RandomForestClassifier, GradientBoostingClassifier\n",
    "\n",
    "from statsmodels.tsa.api import SimpleExpSmoothing, Holt, ExponentialSmoothing\n",
    "import arch\n",
    "\n",
    "from sklearn.model_selection import train_test_split, cross_validate\n",
    "from sklearn.model_selection import KFold\n",
    "from sklearn.model_selection import GridSearchCV\n",
    "\n",
    "from sklearn.metrics import mean_squared_log_error, mean_squared_error, r2_score, mean_absolute_error\n",
    "from sklearn.metrics import accuracy_score, precision_score, recall_score, f1_score\n",
    "\n"
   ]
  },
  {
   "cell_type": "code",
   "execution_count": null,
   "metadata": {},
   "outputs": [],
   "source": [
    "def non_feature_engineering(raw):\n",
    "    if 'datetime' in raw.columns:\n",
    "        raw['datetime'] = pd.to_datetime(raw['datetime'])\n",
    "        raw['Datetime'] = pd.to_datetime(raw['datetime'])\n",
    "    if raw.index.dtype == 'int64':\n",
    "        raw.set_index('Datetime', inplace=True)\n",
    "#     if raw.index.dtype != 'int64':\n",
    "#         raw_set_index(drop=False, inplace=True)\n",
    "    def feature_engineering(raw):\n",
    "        if 'datetime' in raw.columns:\n",
    "            raw['datetime'] = pd.to_datetime(raw['datetime'])\n",
    "            raw['Datetime'] = pd.to_datetime(raw['datetime'])\n",
    "        \n",
    "        if raw.index.dtype == 'int64':\n",
    "            raw.set_index('Datetime', inplace=True)\n",
    "        \n",
    "        raw = raw.asfreq('H', method='ffill')\n",
    "        \n",
    "        result = sm.tsa.seasonal_decompose(raw['count'], model='additive')\n",
    "        Y_train = pd.DataFrame(result.trend)\n",
    "        Y_trend.fillna(method='ffill', inplace=True)\n",
    "        Y_trend.fillna(method='bfill', inplace=True)\n",
    "        Y_trend.columns = ['count_trend']\n",
    "        \n",
    "        Y_seasonal = pd.DateFrame(result.seasonal)\n",
    "        Y_seasonal.fillna(method='ffill', inplace=True)\n",
    "        Y_seasonal.fillna(method='bfill', inplace=True)\n",
    "        Y_seasonal.columns = ['count_seasonal']\n",
    "        pd.concat([raw, Y_trend, Y_seasonal], axis=1).isnull().sum()\n",
    "        if 'count_trend' not in raw.columns:\n",
    "            if 'count_seasonal' not in raw.columns:\n",
    "                raw = pd.concat([raw, Y_trend, Y_seasonal], axis=1)\n",
    "        \n",
    "        Y_count_Day = raw[['count']].rolling(24).mean()\n",
    "        Y_count_Day.fillna(method='ffill', inplace=True)\n",
    "        Y_count_Day.fillna(method='bfill', inplace=True)\n",
    "        Y_count_Day.columns = ['count_Day']\n",
    "        \n",
    "        Y_count_Week = raw[['count']].rolling(24 * 7).mean()\n",
    "        Y_count_Week.fillna(method='ffill', inplace=True)\n",
    "        Y_count_Week.fillna(method='bfill', inplace=True)\n",
    "        if 'count_Day' not in raw.columns:\n",
    "            pd.concat(raw, Y_count_Day, axis=1, inplace=True)\n",
    "        if 'count_Week' not in raw.columns:\n",
    "            pd.concat(raw, Y_count_Week, axis=1, inplace=True)\n",
    "        \n",
    "        Y_diff = raw[['count']].diff()\n",
    "        Y_diff.fillna('ffill', inplace=True)\n",
    "        Y_diff.fillna('bfill', inplace=True)\n",
    "        Y_diff.columns = ['count_diff']\n",
    "        if 'count_diff' not in raw.columns:\n",
    "            raw = pd.concat(raw, Y_diff, axis=1, inplace=True)\n",
    "        \n",
    "        raw['temp_group'] = pd.cut(raw['temp'], 10)\n",
    "        raw['Year'] = raw.datetime.dt.year\n",
    "        raw['Quater'] = raw.datetime.dt.quarter\n",
    "        raw['Quater_ver2'] = raw['Quater'] + (raw.Year - raw.Year.min()) * 4\n",
    "        raw['Month'] = raw.datetime.dt.month\n",
    "        raw['Hour'] = raw.datetime.dt.hour\n",
    "        raw['DayofWeek'] = raw.datetime.dt.dayofweek\n",
    "        \n",
    "        raw['count_lag1'] = raw['count'].shift(1)\n",
    "        raw['count_lag2'] = raw['count'].shift(2)\n",
    "        raw['count_lag1'].fillna(method='bfill', inplace=True)\n",
    "        raw['count_lag2'].fillna(method='bfill', inplace=True)\n",
    "        \n",
    "        \n",
    "        \n",
    "        \n",
    "        ??????????????????????????? 아래꺼 왜 나눴다 붙이는지 모르겠음\n",
    "        \n",
    "        \n",
    "        if 'Quater' in raw.columns:\n",
    "            if 'Quater_Dummy' not in ['_'.join(col.split('_')[:2]) for col in raw.columns]:\n",
    "                raw = pd.concat([raw, pd.get_dummies(raw['Quater'],\n",
    "                                                     prefix = 'Quater_Dummy', drop_first=True)], axis=1)\n",
    "                del raw['Quater']\n",
    "        raw_fe = raw.copy()\n",
    "        return raw_fe\n",
    "        \n",
    "        "
   ]
  },
  {
   "cell_type": "code",
   "execution_count": null,
   "metadata": {},
   "outputs": [],
   "source": []
  },
  {
   "cell_type": "code",
   "execution_count": null,
   "metadata": {},
   "outputs": [],
   "source": []
  },
  {
   "cell_type": "code",
   "execution_count": null,
   "metadata": {},
   "outputs": [],
   "source": []
  },
  {
   "cell_type": "code",
   "execution_count": null,
   "metadata": {},
   "outputs": [],
   "source": []
  },
  {
   "cell_type": "code",
   "execution_count": null,
   "metadata": {},
   "outputs": [],
   "source": []
  },
  {
   "cell_type": "code",
   "execution_count": null,
   "metadata": {},
   "outputs": [],
   "source": []
  },
  {
   "cell_type": "code",
   "execution_count": null,
   "metadata": {},
   "outputs": [],
   "source": []
  },
  {
   "cell_type": "code",
   "execution_count": null,
   "metadata": {},
   "outputs": [],
   "source": []
  },
  {
   "cell_type": "code",
   "execution_count": null,
   "metadata": {},
   "outputs": [],
   "source": []
  },
  {
   "cell_type": "code",
   "execution_count": null,
   "metadata": {},
   "outputs": [],
   "source": []
  },
  {
   "cell_type": "code",
   "execution_count": null,
   "metadata": {},
   "outputs": [],
   "source": []
  },
  {
   "cell_type": "code",
   "execution_count": null,
   "metadata": {},
   "outputs": [],
   "source": []
  },
  {
   "cell_type": "code",
   "execution_count": null,
   "metadata": {},
   "outputs": [],
   "source": []
  },
  {
   "cell_type": "code",
   "execution_count": null,
   "metadata": {},
   "outputs": [],
   "source": []
  },
  {
   "cell_type": "code",
   "execution_count": null,
   "metadata": {},
   "outputs": [],
   "source": []
  },
  {
   "cell_type": "code",
   "execution_count": null,
   "metadata": {},
   "outputs": [],
   "source": []
  },
  {
   "cell_type": "code",
   "execution_count": null,
   "metadata": {},
   "outputs": [],
   "source": []
  },
  {
   "cell_type": "code",
   "execution_count": null,
   "metadata": {},
   "outputs": [],
   "source": []
  },
  {
   "cell_type": "code",
   "execution_count": null,
   "metadata": {},
   "outputs": [],
   "source": []
  },
  {
   "cell_type": "code",
   "execution_count": null,
   "metadata": {},
   "outputs": [],
   "source": []
  },
  {
   "cell_type": "code",
   "execution_count": null,
   "metadata": {},
   "outputs": [],
   "source": []
  },
  {
   "cell_type": "code",
   "execution_count": null,
   "metadata": {},
   "outputs": [],
   "source": []
  },
  {
   "cell_type": "code",
   "execution_count": null,
   "metadata": {},
   "outputs": [],
   "source": []
  },
  {
   "cell_type": "code",
   "execution_count": null,
   "metadata": {},
   "outputs": [],
   "source": []
  },
  {
   "cell_type": "code",
   "execution_count": null,
   "metadata": {},
   "outputs": [],
   "source": []
  },
  {
   "cell_type": "code",
   "execution_count": null,
   "metadata": {},
   "outputs": [],
   "source": []
  },
  {
   "cell_type": "code",
   "execution_count": null,
   "metadata": {},
   "outputs": [],
   "source": []
  },
  {
   "cell_type": "code",
   "execution_count": null,
   "metadata": {},
   "outputs": [],
   "source": []
  },
  {
   "cell_type": "code",
   "execution_count": null,
   "metadata": {},
   "outputs": [],
   "source": []
  },
  {
   "cell_type": "code",
   "execution_count": null,
   "metadata": {},
   "outputs": [],
   "source": []
  },
  {
   "cell_type": "code",
   "execution_count": null,
   "metadata": {},
   "outputs": [],
   "source": []
  },
  {
   "cell_type": "code",
   "execution_count": null,
   "metadata": {},
   "outputs": [],
   "source": []
  },
  {
   "cell_type": "code",
   "execution_count": null,
   "metadata": {},
   "outputs": [],
   "source": []
  },
  {
   "cell_type": "code",
   "execution_count": null,
   "metadata": {},
   "outputs": [],
   "source": []
  },
  {
   "cell_type": "code",
   "execution_count": null,
   "metadata": {},
   "outputs": [],
   "source": []
  },
  {
   "cell_type": "code",
   "execution_count": null,
   "metadata": {},
   "outputs": [],
   "source": []
  },
  {
   "cell_type": "code",
   "execution_count": null,
   "metadata": {},
   "outputs": [],
   "source": []
  }
 ],
 "metadata": {
  "hide_input": false,
  "kernelspec": {
   "display_name": "Python 3",
   "language": "python",
   "name": "python3"
  },
  "language_info": {
   "codemirror_mode": {
    "name": "ipython",
    "version": 3
   },
   "file_extension": ".py",
   "mimetype": "text/x-python",
   "name": "python",
   "nbconvert_exporter": "python",
   "pygments_lexer": "ipython3",
   "version": "3.8.3"
  },
  "toc": {
   "base_numbering": 1,
   "nav_menu": {},
   "number_sections": true,
   "sideBar": true,
   "skip_h1_title": false,
   "title_cell": "Table of Contents",
   "title_sidebar": "Contents",
   "toc_cell": false,
   "toc_position": {},
   "toc_section_display": true,
   "toc_window_display": false
  },
  "varInspector": {
   "cols": {
    "lenName": 16,
    "lenType": 16,
    "lenVar": 40
   },
   "kernels_config": {
    "python": {
     "delete_cmd_postfix": "",
     "delete_cmd_prefix": "del ",
     "library": "var_list.py",
     "varRefreshCmd": "print(var_dic_list())"
    },
    "r": {
     "delete_cmd_postfix": ") ",
     "delete_cmd_prefix": "rm(",
     "library": "var_list.r",
     "varRefreshCmd": "cat(var_dic_list()) "
    }
   },
   "types_to_exclude": [
    "module",
    "function",
    "builtin_function_or_method",
    "instance",
    "_Feature"
   ],
   "window_display": false
  }
 },
 "nbformat": 4,
 "nbformat_minor": 4
}
