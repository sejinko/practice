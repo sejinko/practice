{
 "cells": [
  {
   "cell_type": "code",
   "execution_count": 1,
   "metadata": {
    "ExecuteTime": {
     "end_time": "2021-01-16T23:33:33.393757Z",
     "start_time": "2021-01-16T23:33:17.138000Z"
    }
   },
   "outputs": [
    {
     "name": "stdout",
     "output_type": "stream",
     "text": [
      "Requirement already satisfied: pip in c:\\users\\sejin\\appdata\\roaming\\python\\python38\\site-packages (20.3.3)\n",
      "Requirement already satisfied: pandas-datareader in c:\\programdata\\anaconda3\\lib\\site-packages (0.9.0)\n",
      "Requirement already satisfied: requests>=2.19.0 in c:\\programdata\\anaconda3\\lib\\site-packages (from pandas-datareader) (2.24.0)\n",
      "Requirement already satisfied: lxml in c:\\programdata\\anaconda3\\lib\\site-packages (from pandas-datareader) (4.5.2)\n",
      "Requirement already satisfied: pandas>=0.23 in c:\\programdata\\anaconda3\\lib\\site-packages (from pandas-datareader) (1.0.5)\n",
      "Requirement already satisfied: python-dateutil>=2.6.1 in c:\\programdata\\anaconda3\\lib\\site-packages (from pandas>=0.23->pandas-datareader) (2.8.1)\n",
      "Requirement already satisfied: pytz>=2017.2 in c:\\programdata\\anaconda3\\lib\\site-packages (from pandas>=0.23->pandas-datareader) (2020.1)\n",
      "Requirement already satisfied: numpy>=1.13.3 in c:\\programdata\\anaconda3\\lib\\site-packages (from pandas>=0.23->pandas-datareader) (1.18.5)\n",
      "Requirement already satisfied: six>=1.5 in c:\\programdata\\anaconda3\\lib\\site-packages (from python-dateutil>=2.6.1->pandas>=0.23->pandas-datareader) (1.15.0)\n",
      "Requirement already satisfied: urllib3!=1.25.0,!=1.25.1,<1.26,>=1.21.1 in c:\\programdata\\anaconda3\\lib\\site-packages (from requests>=2.19.0->pandas-datareader) (1.25.9)\n",
      "Requirement already satisfied: chardet<4,>=3.0.2 in c:\\programdata\\anaconda3\\lib\\site-packages (from requests>=2.19.0->pandas-datareader) (3.0.4)\n",
      "Requirement already satisfied: certifi>=2017.4.17 in c:\\programdata\\anaconda3\\lib\\site-packages (from requests>=2.19.0->pandas-datareader) (2020.6.20)\n",
      "Requirement already satisfied: idna<3,>=2.5 in c:\\programdata\\anaconda3\\lib\\site-packages (from requests>=2.19.0->pandas-datareader) (2.10)\n",
      "Requirement already satisfied: tqdm in c:\\programdata\\anaconda3\\lib\\site-packages (4.47.0)\n",
      "Requirement already satisfied: xgboost in c:\\programdata\\anaconda3\\lib\\site-packages (1.3.0.post0)\n",
      "Requirement already satisfied: numpy in c:\\programdata\\anaconda3\\lib\\site-packages (from xgboost) (1.18.5)\n",
      "Requirement already satisfied: scipy in c:\\programdata\\anaconda3\\lib\\site-packages (from xgboost) (1.5.0)\n",
      "Requirement already satisfied: lightgbm in c:\\programdata\\anaconda3\\lib\\site-packages (3.1.1)\n",
      "Requirement already satisfied: scipy in c:\\programdata\\anaconda3\\lib\\site-packages (from lightgbm) (1.5.0)\n",
      "Requirement already satisfied: wheel in c:\\programdata\\anaconda3\\lib\\site-packages (from lightgbm) (0.34.2)\n",
      "Requirement already satisfied: scikit-learn!=0.22.0 in c:\\programdata\\anaconda3\\lib\\site-packages (from lightgbm) (0.23.1)\n",
      "Requirement already satisfied: numpy in c:\\programdata\\anaconda3\\lib\\site-packages (from lightgbm) (1.18.5)\n",
      "Requirement already satisfied: threadpoolctl>=2.0.0 in c:\\programdata\\anaconda3\\lib\\site-packages (from scikit-learn!=0.22.0->lightgbm) (2.1.0)\n",
      "Requirement already satisfied: joblib>=0.11 in c:\\programdata\\anaconda3\\lib\\site-packages (from scikit-learn!=0.22.0->lightgbm) (0.16.0)\n",
      "Requirement already satisfied: pmdarima in c:\\users\\sejin\\appdata\\roaming\\python\\python38\\site-packages (1.8.0)\n",
      "Requirement already satisfied: setuptools!=50.0.0,>=38.6.0 in c:\\programdata\\anaconda3\\lib\\site-packages (from pmdarima) (49.2.0.post20200714)\n",
      "Requirement already satisfied: scikit-learn>=0.22 in c:\\programdata\\anaconda3\\lib\\site-packages (from pmdarima) (0.23.1)\n",
      "Requirement already satisfied: urllib3 in c:\\programdata\\anaconda3\\lib\\site-packages (from pmdarima) (1.25.9)\n",
      "Requirement already satisfied: Cython<0.29.18,>=0.29 in c:\\users\\sejin\\appdata\\roaming\\python\\python38\\site-packages (from pmdarima) (0.29.17)\n",
      "Requirement already satisfied: pandas>=0.19 in c:\\programdata\\anaconda3\\lib\\site-packages (from pmdarima) (1.0.5)\n",
      "Requirement already satisfied: scipy>=1.3.2 in c:\\programdata\\anaconda3\\lib\\site-packages (from pmdarima) (1.5.0)\n",
      "Requirement already satisfied: statsmodels!=0.12.0,>=0.11 in c:\\programdata\\anaconda3\\lib\\site-packages (from pmdarima) (0.11.1)\n",
      "Requirement already satisfied: joblib>=0.11 in c:\\programdata\\anaconda3\\lib\\site-packages (from pmdarima) (0.16.0)\n",
      "Requirement already satisfied: numpy>=1.17.3 in c:\\programdata\\anaconda3\\lib\\site-packages (from pmdarima) (1.18.5)\n",
      "Requirement already satisfied: pytz>=2017.2 in c:\\programdata\\anaconda3\\lib\\site-packages (from pandas>=0.19->pmdarima) (2020.1)\n",
      "Requirement already satisfied: python-dateutil>=2.6.1 in c:\\programdata\\anaconda3\\lib\\site-packages (from pandas>=0.19->pmdarima) (2.8.1)\n",
      "Requirement already satisfied: six>=1.5 in c:\\programdata\\anaconda3\\lib\\site-packages (from python-dateutil>=2.6.1->pandas>=0.19->pmdarima) (1.15.0)\n",
      "Requirement already satisfied: threadpoolctl>=2.0.0 in c:\\programdata\\anaconda3\\lib\\site-packages (from scikit-learn>=0.22->pmdarima) (2.1.0)\n",
      "Requirement already satisfied: patsy>=0.5 in c:\\programdata\\anaconda3\\lib\\site-packages (from statsmodels!=0.12.0,>=0.11->pmdarima) (0.5.1)\n"
     ]
    }
   ],
   "source": [
    "!python -m pip install --user --upgrade pip\n",
    "!pip install pandas-datareader\n",
    "!pip install tqdm\n",
    "!pip install xgboost\n",
    "!pip install lightgbm\n",
    "!pip install --user pmdarima"
   ]
  },
  {
   "cell_type": "code",
   "execution_count": 2,
   "metadata": {
    "ExecuteTime": {
     "end_time": "2021-01-16T23:34:20.534273Z",
     "start_time": "2021-01-16T23:33:58.952113Z"
    }
   },
   "outputs": [],
   "source": [
    "%reload_ext autoreload\n",
    "%autoreload 2\n",
    "from module import *"
   ]
  },
  {
   "cell_type": "code",
   "execution_count": 3,
   "metadata": {
    "ExecuteTime": {
     "end_time": "2021-01-16T23:40:20.779193Z",
     "start_time": "2021-01-16T23:40:20.329342Z"
    }
   },
   "outputs": [],
   "source": [
    "location = './Data/BikeSharingDemand/Bike_Sharing_Demand_Full.csv'\n",
    "raw_all = pd.read_csv(location)\n",
    "\n",
    "raw_fe = feature_engineering(raw_all)\n",
    "\n",
    "target = ['count_trend', 'count_seasonal', 'count_Day', 'count_Week', 'count_diff']\n",
    "raw_feR = feature_engineering_year_duplicated(raw_fe, target)\n",
    "\n",
    "Y_colname = ['count']\n",
    "X_remove = ['datetime', 'DateTime', 'temp_group', 'casual', 'registered']\n",
    "X_colname = [x for x in raw_fe.columns if x not in Y_colname+X_remove]\n",
    "X_train_feR, X_test_feR, Y_test_feR, = datasplit_ts(raw_feR, Y_colname, X_colname, '2012-07-01')\n",
    "\n",
    "target = ['count_lag1', 'count_lag2']\n",
    "X_test_feR = feature_engineering_lag_modified(Y_test_feR, X_test_R, target)\n",
    "\n",
    "X_train_feRs, X_test_feRs = feature_engineering_scaling(preprocessing.Normalizer(), X_train_feR, X_test_feR)\n",
    "\n",
    "print('Number_of_Total_X:', len(X_train_feRS.columns))\n",
    "X_colname_vif = feature_engineering_XbyVIF(X_train_feRS, 12)\n",
    "print('Number_of_Selected_X', len(X_colname_vif))\n",
    "X_train_feRSM, X_test_FeRSM = X_train_feRS[X_colname_vif].copy(), X_test_feRS[X_colname_vif].copy()\n",
    "\n"
   ]
  },
  {
   "cell_type": "code",
   "execution_count": null,
   "metadata": {},
   "outputs": [],
   "source": [
    "fit_reg6 = RandomForestRegressor(n_estimators=100, random_state=123).fit(X_train_feRSM, Y_train_feR)\n",
    "pred_tr_reg6_feRSM = fit_reg6.predict(X_train_feRSM)\n",
    "pred_te_reg6_feRSM = fit_reg6.predcit(X_test_feRSM)\n",
    "\n",
    "Variable_Importances = pd.DataFrame([fit_reg6.feature_importances_],\n",
    "                                   columns=X_train_feRSM.columns,\n",
    "                                   index=['importance']).T.sort_values(by=['importance'], ascending=False)\n",
    "Variable_Importances.plot.bar(figsize=(12,6), fontsize=15)\n",
    "plt.grid()\n",
    "plt.show()\n",
    "\n",
    "Score_re6_feRSM, Resid_tr_reg6_feRSM, Resid_te_reg6_feRSM = evaluation_trte(Y_train_feR, pred_tr_reg6_feR,\n",
    "                                                                           Y_test_feR, pred_te_reg6_feRSM, graph_on=False)\n",
    "display(Score_reg6_feRSM)\n",
    "\n",
    "error_analysis(Resid_tr_reg6_feRSM, ['Error'], X_train_feRSM, graph_on=True)"
   ]
  },
  {
   "cell_type": "code",
   "execution_count": null,
   "metadata": {},
   "outputs": [],
   "source": [
    "trend_diff_order = 0\n",
    "seasonal_diff_order, seasonal_order = 0, 12\n",
    "\n",
    "fit_ts_sarimax = sm.tsa.SARIMAX(Y_train_feR, trend='c', order=(1,trend_diff_order,1),\n",
    "                                seasonal_order=(1, seasonal_diff_order,1,seasonal_order)).fit()\n",
    "pred_tr_ts_sarimax = fit_ts_sarimax.predict()\n",
    "pred_te_ts_sarimax = fit_ts_sarimax.get_forcast(len(Y_test_feR)).predicted_mean\n",
    "pred_te_ts_sarimax_ci = fit_ts_sarimax.get_forcast(len(Y_test_feR)).conf_int()\n",
    "\n",
    "Score_ts_sarimax, Resid_tr_ts_sarimax, Resid_te_ts_sarimax = evaluation_tr_te(Y_train_feR, pred_tr_ts_sarimax,\n",
    "                                                                             Y_test_feR, pred_te_ts_sarimax)\n",
    "display(Score_ts_sarimax)\n",
    "ax = pd.DataFrame(Y_test_feR).plot(figsize=(12,4))\n",
    "pd.DataFrame(pred_te_ts_sarimax, index=Y_test_feR.index, columns=['prediction']).plot(kind='line',\n",
    "                                                                                     xlim=(Y_tes_feR.index.min(),\n",
    "                                                                                          Y_tes_feR.index.max()),\n",
    "                                                                                     linewidth=3, fontsize=20, ax=ax)\n",
    "ax.fill_between(pd.DataFrame(pred_te_ts_sarimax_ci, index=Y_tes_feR.index).index,\n",
    "                pd.DataFrame(pred_te_ts_sarimax_ci, index=Y_test_feR.index).iloc[:,0],\n",
    "                pd.DataFrame(pred_te_ts_sarimax_ci, index=Y_test_feR.index).iloc[:,1], color='k', alpha-0.15)\n",
    "plt.show()"
   ]
  },
  {
   "cell_type": "code",
   "execution_count": null,
   "metadata": {},
   "outputs": [],
   "source": [
    "logarithm = False\n",
    "trend_diff_order = 0\n",
    "seasonal_diff_order, seasonal_order = 0, 12\n",
    "\n",
    "if logarithm:\n",
    "    Y_train_feR = np.log(Y_train_feR).copy()\n",
    "    Y_test_feR = np.log(Y_test_feR).copy()\n",
    "    \n",
    "fit_ts_sarimax = sm.tsa.SARIMAX(Y_train_feR, order=(1,trend_diff_order,1),\n",
    "                                seasonal_diff_order=(1, seasonal_diff_order, 1)).fit()\n",
    "pred_tr_ts_sarimax = fit_ts_sarimax.predict()\n",
    "pred_te_ts_sarimax = fit_ts_sarimax.get_forecast(len(Y_test_feR)).predicted_mean\n",
    "pred_te_ts_sarimax_ci = fit_ts_sarimax.get_forecast(len(Y_test_feR)).conf_int()\n",
    "\n",
    "if logarithm:\n",
    "    Y_train_feR = np.exp(Y_train_feR).copy()\n",
    "    Y_test_feR = np.exp(Y_test_feR).copy()\n",
    "    pred_tr_ts_sarimax = np.exp(pred_tr_ts_sarimax).copy()\n",
    "    pred_te_ts_sarimax = np.exp(pred_te_ts_sarimax).copy()\n",
    "    pred_te_ts_sarimax_ci = np.exp(pred_te_ts_sarimax_ci).copy()"
   ]
  },
  {
   "cell_type": "code",
   "execution_count": null,
   "metadata": {},
   "outputs": [],
   "source": [
    "exog_tr = X_train_feRSM[['count_seasonal', 'weather', 'count_lag2', 'count_diff', 'Quater_ver2', 'Hour',\n",
    "                       'workingday', 'DayofWeek']]\n",
    "exog_te = X_test_feRSM[['count_seasonal', 'weather', 'count_lag2', 'count_diff', 'Quater_ver2', 'Hour',\n",
    "                       'workingday', 'DayofWeek']]\n",
    "\n",
    "p, q = range(1,3), range(1,3)\n",
    "d = range(0,1)\n",
    "P, Q = range(1,3), range(1,3)\n",
    "D = range(0,1)\n",
    "m = 12\n",
    "trend_pdq = list(product(p, d, q))\n",
    "seasonal_pdq = [(candi[0], cando[1], candi[2], m) for candi in list(product(P, D, Q))]\n",
    "\n",
    "AIC = []\n",
    "SARIMAX_order = []\n",
    "for trend_param in tqdim(trend_pdq):\n",
    "    for seasonal_params in seasonal_pdq:\n",
    "        try:\n",
    "            result = sm.tsa.SARIMAX(Y_train_feR, trend='c',\n",
    "                                   order=trend_param, seasonal_order=seasonal_params, exog=exog_tr).fit()\n",
    "            print('Fit SARIMAX: trend_order={} seasonal_order={} AIC={}, BIC={}'.format(trend_param, seasonal_params,\n",
    "                                                                                       result.aic,\n",
    "                                                                                       result.bic,\n",
    "                                                                                       end='\\r'))\n",
    "            AIC.append(result.aic)\n",
    "            SARIMAX_order.append([trend_param, seasonal_params])\n",
    "        except:\n",
    "            continue\n",
    "            \n",
    "print('The smallest AIC is {} for model SARIMAX{}x{}'.format(min(AIC), SARIMAX_order[AIC.index(min(AIC))][0],\n",
    "                                                            SARIMAX_order[AIC.index(min(AIC))][1]))\n",
    "fit_ts_sarimax = sm.tsa.SARIMAX(Y_train_feR, trend='c', order=SARIMAX_order[AIC.index(min(AIC))][0],\n",
    "                               seasonal_order=SARIMAX_order[AIC.index(min(AIC))][1], exog=exog_tr).fit()\n",
    "display(fit_ts_sarimax.summary())"
   ]
  },
  {
   "cell_type": "code",
   "execution_count": null,
   "metadata": {},
   "outputs": [],
   "source": [
    "pred_tr_ts_sarimax = fit_ts_sarimax.predict()\n",
    "pred_te_ts_sarimax = fit_ts_sarimax.get_forecast(len(Y_test_feR), exog=exog_te).predicted_mean\n",
    "pred_te_ts_sarimax_ci = fit_ts_sarimax.get_forecast(len(Y_test_feR, exog=exog_te)).conf_int()"
   ]
  },
  {
   "cell_type": "code",
   "execution_count": null,
   "metadata": {},
   "outputs": [],
   "source": []
  },
  {
   "cell_type": "code",
   "execution_count": null,
   "metadata": {},
   "outputs": [],
   "source": []
  },
  {
   "cell_type": "code",
   "execution_count": null,
   "metadata": {},
   "outputs": [],
   "source": []
  },
  {
   "cell_type": "code",
   "execution_count": null,
   "metadata": {},
   "outputs": [],
   "source": []
  },
  {
   "cell_type": "code",
   "execution_count": null,
   "metadata": {},
   "outputs": [],
   "source": []
  },
  {
   "cell_type": "code",
   "execution_count": null,
   "metadata": {},
   "outputs": [],
   "source": []
  },
  {
   "cell_type": "code",
   "execution_count": null,
   "metadata": {},
   "outputs": [],
   "source": []
  },
  {
   "cell_type": "code",
   "execution_count": null,
   "metadata": {},
   "outputs": [],
   "source": []
  },
  {
   "cell_type": "code",
   "execution_count": null,
   "metadata": {},
   "outputs": [],
   "source": []
  },
  {
   "cell_type": "code",
   "execution_count": null,
   "metadata": {},
   "outputs": [],
   "source": []
  },
  {
   "cell_type": "code",
   "execution_count": null,
   "metadata": {},
   "outputs": [],
   "source": []
  },
  {
   "cell_type": "code",
   "execution_count": null,
   "metadata": {},
   "outputs": [],
   "source": []
  },
  {
   "cell_type": "code",
   "execution_count": null,
   "metadata": {},
   "outputs": [],
   "source": []
  },
  {
   "cell_type": "code",
   "execution_count": null,
   "metadata": {},
   "outputs": [],
   "source": []
  },
  {
   "cell_type": "code",
   "execution_count": null,
   "metadata": {},
   "outputs": [],
   "source": []
  },
  {
   "cell_type": "code",
   "execution_count": null,
   "metadata": {},
   "outputs": [],
   "source": []
  },
  {
   "cell_type": "code",
   "execution_count": null,
   "metadata": {},
   "outputs": [],
   "source": []
  },
  {
   "cell_type": "code",
   "execution_count": null,
   "metadata": {},
   "outputs": [],
   "source": []
  },
  {
   "cell_type": "code",
   "execution_count": null,
   "metadata": {},
   "outputs": [],
   "source": []
  },
  {
   "cell_type": "code",
   "execution_count": null,
   "metadata": {},
   "outputs": [],
   "source": []
  },
  {
   "cell_type": "code",
   "execution_count": null,
   "metadata": {},
   "outputs": [],
   "source": []
  },
  {
   "cell_type": "code",
   "execution_count": null,
   "metadata": {},
   "outputs": [],
   "source": []
  },
  {
   "cell_type": "code",
   "execution_count": null,
   "metadata": {},
   "outputs": [],
   "source": []
  },
  {
   "cell_type": "code",
   "execution_count": null,
   "metadata": {},
   "outputs": [],
   "source": []
  },
  {
   "cell_type": "code",
   "execution_count": null,
   "metadata": {},
   "outputs": [],
   "source": []
  },
  {
   "cell_type": "code",
   "execution_count": null,
   "metadata": {},
   "outputs": [],
   "source": []
  },
  {
   "cell_type": "code",
   "execution_count": null,
   "metadata": {},
   "outputs": [],
   "source": []
  },
  {
   "cell_type": "code",
   "execution_count": null,
   "metadata": {},
   "outputs": [],
   "source": []
  },
  {
   "cell_type": "code",
   "execution_count": null,
   "metadata": {},
   "outputs": [],
   "source": []
  },
  {
   "cell_type": "code",
   "execution_count": null,
   "metadata": {},
   "outputs": [],
   "source": []
  },
  {
   "cell_type": "code",
   "execution_count": null,
   "metadata": {},
   "outputs": [],
   "source": []
  },
  {
   "cell_type": "code",
   "execution_count": null,
   "metadata": {},
   "outputs": [],
   "source": []
  },
  {
   "cell_type": "code",
   "execution_count": null,
   "metadata": {},
   "outputs": [],
   "source": []
  },
  {
   "cell_type": "code",
   "execution_count": null,
   "metadata": {},
   "outputs": [],
   "source": []
  },
  {
   "cell_type": "code",
   "execution_count": null,
   "metadata": {},
   "outputs": [],
   "source": []
  },
  {
   "cell_type": "code",
   "execution_count": null,
   "metadata": {},
   "outputs": [],
   "source": []
  },
  {
   "cell_type": "code",
   "execution_count": null,
   "metadata": {},
   "outputs": [],
   "source": []
  },
  {
   "cell_type": "code",
   "execution_count": null,
   "metadata": {},
   "outputs": [],
   "source": []
  },
  {
   "cell_type": "code",
   "execution_count": null,
   "metadata": {},
   "outputs": [],
   "source": []
  },
  {
   "cell_type": "code",
   "execution_count": null,
   "metadata": {},
   "outputs": [],
   "source": []
  },
  {
   "cell_type": "code",
   "execution_count": null,
   "metadata": {},
   "outputs": [],
   "source": []
  },
  {
   "cell_type": "code",
   "execution_count": null,
   "metadata": {},
   "outputs": [],
   "source": []
  },
  {
   "cell_type": "code",
   "execution_count": null,
   "metadata": {},
   "outputs": [],
   "source": []
  },
  {
   "cell_type": "code",
   "execution_count": null,
   "metadata": {},
   "outputs": [],
   "source": []
  }
 ],
 "metadata": {
  "hide_input": false,
  "kernelspec": {
   "display_name": "Python 3",
   "language": "python",
   "name": "python3"
  },
  "language_info": {
   "codemirror_mode": {
    "name": "ipython",
    "version": 3
   },
   "file_extension": ".py",
   "mimetype": "text/x-python",
   "name": "python",
   "nbconvert_exporter": "python",
   "pygments_lexer": "ipython3",
   "version": "3.8.3"
  },
  "toc": {
   "base_numbering": 1,
   "nav_menu": {},
   "number_sections": true,
   "sideBar": true,
   "skip_h1_title": false,
   "title_cell": "Table of Contents",
   "title_sidebar": "Contents",
   "toc_cell": false,
   "toc_position": {},
   "toc_section_display": true,
   "toc_window_display": false
  },
  "varInspector": {
   "cols": {
    "lenName": 16,
    "lenType": 16,
    "lenVar": 40
   },
   "kernels_config": {
    "python": {
     "delete_cmd_postfix": "",
     "delete_cmd_prefix": "del ",
     "library": "var_list.py",
     "varRefreshCmd": "print(var_dic_list())"
    },
    "r": {
     "delete_cmd_postfix": ") ",
     "delete_cmd_prefix": "rm(",
     "library": "var_list.r",
     "varRefreshCmd": "cat(var_dic_list()) "
    }
   },
   "types_to_exclude": [
    "module",
    "function",
    "builtin_function_or_method",
    "instance",
    "_Feature"
   ],
   "window_display": false
  }
 },
 "nbformat": 4,
 "nbformat_minor": 4
}
