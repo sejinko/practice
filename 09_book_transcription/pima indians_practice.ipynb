{
 "cells": [
  {
   "cell_type": "code",
   "execution_count": 42,
   "metadata": {},
   "outputs": [],
   "source": [
    "import numpy as np\n",
    "import pandas as pd\n",
    "import matplotlib.pyplot as plt\n",
    "import warnings\n",
    "warnings.filterwarnings('ignore')\n",
    "\n",
    "from sklearn.model_selection import train_test_split\n",
    "from sklearn.metrics import accuracy_score, precision_score, recall_score, roc_auc_score\n",
    "from sklearn.metrics import f1_score, confusion_matrix, precision_recall_curve, roc_curve\n",
    "from sklearn.preprocessing import StandardScaler\n",
    "from sklearn.linear_model import LogisticRegression\n",
    "from sklearn.preprocessing import Binarizer"
   ]
  },
  {
   "cell_type": "code",
   "execution_count": 39,
   "metadata": {},
   "outputs": [],
   "source": [
    "def get_clf_eval(y_test, pred):\n",
    "    accuracy = accuracy_score(y_test, pred)\n",
    "    confusion = confusion_matrix(y_test, pred)\n",
    "    precision = precision_score(y_test, pred)\n",
    "    recall = recall_score(y_test, pred)\n",
    "    f1 = f1_score(y_test, pred)\n",
    "    print('오차행렬')\n",
    "    print(confusion)\n",
    "    print('정확도: {0:4f}, 정밀도: {1:4f}, 재현율: {2:.4f}, F1:{3:.4f}'.format(accuracy, precision, recall, f1))\n",
    "    \n",
    "def roc_curve_plot(y_test, pred_proba_c1):\n",
    "    fprs, tprs, thresholds = roc_curve(y_test, pred_proba_c1)\n",
    "    plt.plot(fprs, tprs, label='ROC')\n",
    "    plt.plot([0,1], [0,1], 'k--', label='Random')\n",
    "    \n",
    "    start, end = plt.xlim()\n",
    "    plt.xticks(np.round(np.arange(start, end, 0.1), 2))\n",
    "    plt.xlim(0, 1); plt.ylim(0,1)\n",
    "    plt.xlabel('FPR(1 - Sensitivity)'); plt.ylabel('TPR(Recall)')\n",
    "    plt.legend()\n",
    "\n",
    "def precision_recall_curve_plot(y_test, pred_proba_c1):\n",
    "    precisions, recalls, thresholds = precision_recall_curve(y_test, pred_proba_c1)\n",
    "    \n",
    "    plt.figure(figsize=(8,6))\n",
    "    threshold_boundary = thresholds.shape[0]\n",
    "    plt.plot(thresholds, precisions[0:threshold_boundary], linestyle='--', label='precision')\n",
    "    plt.plot(thresholds, recalls[0:threshold_boundary], label='recall')\n",
    "    \n",
    "    start, end = plt.xlim()\n",
    "    plt.xticks(np.round(np.arange(start, end, 0.1),2))\n",
    "    \n",
    "    plt.xlabel('Threshold value'); plt.ylabel('Precision and Recall value')\n",
    "    plt.legend(); plt.grid()\n",
    "    plt.show()\n",
    "\n",
    "def get_eval_by_threshold(y_test, pred_proba_c1, thresholds):\n",
    "    for custom_threshold in thresholds:\n",
    "        binarizer = Binarizer(threshold=custom_threshold).fit(pred_proba_c1)\n",
    "        custom_predict = binarizer.transform(pred_proba_c1)\n",
    "        print('임곗값:', custom_threshold)\n",
    "        get_clf_eval(y_test, custom_predict)"
   ]
  },
  {
   "cell_type": "code",
   "execution_count": 7,
   "metadata": {},
   "outputs": [],
   "source": [
    "diabetes_df = pd.read_csv('./02_동영상 연습예제/3장/diabetes.csv')"
   ]
  },
  {
   "cell_type": "code",
   "execution_count": null,
   "metadata": {},
   "outputs": [],
   "source": []
  },
  {
   "cell_type": "code",
   "execution_count": 8,
   "metadata": {},
   "outputs": [
    {
     "name": "stdout",
     "output_type": "stream",
     "text": [
      "0    500\n",
      "1    268\n",
      "Name: Outcome, dtype: int64\n"
     ]
    },
    {
     "data": {
      "text/html": [
       "<div>\n",
       "<style scoped>\n",
       "    .dataframe tbody tr th:only-of-type {\n",
       "        vertical-align: middle;\n",
       "    }\n",
       "\n",
       "    .dataframe tbody tr th {\n",
       "        vertical-align: top;\n",
       "    }\n",
       "\n",
       "    .dataframe thead th {\n",
       "        text-align: right;\n",
       "    }\n",
       "</style>\n",
       "<table border=\"1\" class=\"dataframe\">\n",
       "  <thead>\n",
       "    <tr style=\"text-align: right;\">\n",
       "      <th></th>\n",
       "      <th>Pregnancies</th>\n",
       "      <th>Glucose</th>\n",
       "      <th>BloodPressure</th>\n",
       "      <th>SkinThickness</th>\n",
       "      <th>Insulin</th>\n",
       "      <th>BMI</th>\n",
       "      <th>DiabetesPedigreeFunction</th>\n",
       "      <th>Age</th>\n",
       "      <th>Outcome</th>\n",
       "    </tr>\n",
       "  </thead>\n",
       "  <tbody>\n",
       "    <tr>\n",
       "      <th>0</th>\n",
       "      <td>6</td>\n",
       "      <td>148</td>\n",
       "      <td>72</td>\n",
       "      <td>35</td>\n",
       "      <td>0</td>\n",
       "      <td>33.6</td>\n",
       "      <td>0.627</td>\n",
       "      <td>50</td>\n",
       "      <td>1</td>\n",
       "    </tr>\n",
       "    <tr>\n",
       "      <th>1</th>\n",
       "      <td>1</td>\n",
       "      <td>85</td>\n",
       "      <td>66</td>\n",
       "      <td>29</td>\n",
       "      <td>0</td>\n",
       "      <td>26.6</td>\n",
       "      <td>0.351</td>\n",
       "      <td>31</td>\n",
       "      <td>0</td>\n",
       "    </tr>\n",
       "    <tr>\n",
       "      <th>2</th>\n",
       "      <td>8</td>\n",
       "      <td>183</td>\n",
       "      <td>64</td>\n",
       "      <td>0</td>\n",
       "      <td>0</td>\n",
       "      <td>23.3</td>\n",
       "      <td>0.672</td>\n",
       "      <td>32</td>\n",
       "      <td>1</td>\n",
       "    </tr>\n",
       "    <tr>\n",
       "      <th>3</th>\n",
       "      <td>1</td>\n",
       "      <td>89</td>\n",
       "      <td>66</td>\n",
       "      <td>23</td>\n",
       "      <td>94</td>\n",
       "      <td>28.1</td>\n",
       "      <td>0.167</td>\n",
       "      <td>21</td>\n",
       "      <td>0</td>\n",
       "    </tr>\n",
       "    <tr>\n",
       "      <th>4</th>\n",
       "      <td>0</td>\n",
       "      <td>137</td>\n",
       "      <td>40</td>\n",
       "      <td>35</td>\n",
       "      <td>168</td>\n",
       "      <td>43.1</td>\n",
       "      <td>2.288</td>\n",
       "      <td>33</td>\n",
       "      <td>1</td>\n",
       "    </tr>\n",
       "  </tbody>\n",
       "</table>\n",
       "</div>"
      ],
      "text/plain": [
       "   Pregnancies  Glucose  BloodPressure  SkinThickness  Insulin   BMI  \\\n",
       "0            6      148             72             35        0  33.6   \n",
       "1            1       85             66             29        0  26.6   \n",
       "2            8      183             64              0        0  23.3   \n",
       "3            1       89             66             23       94  28.1   \n",
       "4            0      137             40             35      168  43.1   \n",
       "\n",
       "   DiabetesPedigreeFunction  Age  Outcome  \n",
       "0                     0.627   50        1  \n",
       "1                     0.351   31        0  \n",
       "2                     0.672   32        1  \n",
       "3                     0.167   21        0  \n",
       "4                     2.288   33        1  "
      ]
     },
     "execution_count": 8,
     "metadata": {},
     "output_type": "execute_result"
    }
   ],
   "source": [
    "print(diabetes_df['Outcome'].value_counts())\n",
    "diabetes_df.head()"
   ]
  },
  {
   "cell_type": "code",
   "execution_count": 11,
   "metadata": {},
   "outputs": [
    {
     "data": {
      "text/plain": [
       "(768, 9)"
      ]
     },
     "execution_count": 11,
     "metadata": {},
     "output_type": "execute_result"
    }
   ],
   "source": [
    "diabetes_df.shape"
   ]
  },
  {
   "cell_type": "code",
   "execution_count": 12,
   "metadata": {},
   "outputs": [
    {
     "name": "stdout",
     "output_type": "stream",
     "text": [
      "<class 'pandas.core.frame.DataFrame'>\n",
      "RangeIndex: 768 entries, 0 to 767\n",
      "Data columns (total 9 columns):\n",
      "Pregnancies                 768 non-null int64\n",
      "Glucose                     768 non-null int64\n",
      "BloodPressure               768 non-null int64\n",
      "SkinThickness               768 non-null int64\n",
      "Insulin                     768 non-null int64\n",
      "BMI                         768 non-null float64\n",
      "DiabetesPedigreeFunction    768 non-null float64\n",
      "Age                         768 non-null int64\n",
      "Outcome                     768 non-null int64\n",
      "dtypes: float64(2), int64(7)\n",
      "memory usage: 54.1 KB\n"
     ]
    }
   ],
   "source": [
    "diabetes_df.info()"
   ]
  },
  {
   "cell_type": "code",
   "execution_count": 15,
   "metadata": {},
   "outputs": [],
   "source": [
    "X = diabetes_df.iloc[:,:-1]\n",
    "y = diabetes_df.iloc[:,-1]\n",
    "\n",
    "X_train, X_test, y_train, y_test = train_test_split(X,y,test_size=0.2, random_state=156, stratify=y)\n",
    "\n",
    "lr_clf = LogisticRegression()\n",
    "lr_clf.fit(X_train, y_train)\n",
    "pred = lr_clf.predict(X_test)"
   ]
  },
  {
   "cell_type": "code",
   "execution_count": 34,
   "metadata": {},
   "outputs": [
    {
     "name": "stdout",
     "output_type": "stream",
     "text": [
      "오차행렬\n",
      "[[90 10]\n",
      " [21 33]]\n",
      "정확도: 0.798701, 정밀도: 0.767442, 재현율: 0.6111, F1:0.6804\n"
     ]
    }
   ],
   "source": [
    "get_clf_eval(y_test,pred)"
   ]
  },
  {
   "cell_type": "code",
   "execution_count": 37,
   "metadata": {},
   "outputs": [
    {
     "data": {
      "image/png": "[encoded data removed]",
      "text/plain": [
       "<Figure size 576x432 with 1 Axes>"
      ]
     },
     "metadata": {
      "needs_background": "light"
     },
     "output_type": "display_data"
    }
   ],
   "source": [
    "pred_proba_c1 = lr_clf.predict_proba(X_test)[:,1]\n",
    "precision_recall_curve_plot(y_test, pred_proba_c1)"
   ]
  },
  {
   "cell_type": "code",
   "execution_count": 18,
   "metadata": {},
   "outputs": [
    {
     "data": {
      "text/html": [
       "<div>\n",
       "<style scoped>\n",
       "    .dataframe tbody tr th:only-of-type {\n",
       "        vertical-align: middle;\n",
       "    }\n",
       "\n",
       "    .dataframe tbody tr th {\n",
       "        vertical-align: top;\n",
       "    }\n",
       "\n",
       "    .dataframe thead th {\n",
       "        text-align: right;\n",
       "    }\n",
       "</style>\n",
       "<table border=\"1\" class=\"dataframe\">\n",
       "  <thead>\n",
       "    <tr style=\"text-align: right;\">\n",
       "      <th></th>\n",
       "      <th>Pregnancies</th>\n",
       "      <th>Glucose</th>\n",
       "      <th>BloodPressure</th>\n",
       "      <th>SkinThickness</th>\n",
       "      <th>Insulin</th>\n",
       "      <th>BMI</th>\n",
       "      <th>DiabetesPedigreeFunction</th>\n",
       "      <th>Age</th>\n",
       "      <th>Outcome</th>\n",
       "    </tr>\n",
       "  </thead>\n",
       "  <tbody>\n",
       "    <tr>\n",
       "      <th>count</th>\n",
       "      <td>768.000000</td>\n",
       "      <td>768.000000</td>\n",
       "      <td>768.000000</td>\n",
       "      <td>768.000000</td>\n",
       "      <td>768.000000</td>\n",
       "      <td>768.000000</td>\n",
       "      <td>768.000000</td>\n",
       "      <td>768.000000</td>\n",
       "      <td>768.000000</td>\n",
       "    </tr>\n",
       "    <tr>\n",
       "      <th>mean</th>\n",
       "      <td>3.845052</td>\n",
       "      <td>120.894531</td>\n",
       "      <td>69.105469</td>\n",
       "      <td>20.536458</td>\n",
       "      <td>79.799479</td>\n",
       "      <td>31.992578</td>\n",
       "      <td>0.471876</td>\n",
       "      <td>33.240885</td>\n",
       "      <td>0.348958</td>\n",
       "    </tr>\n",
       "    <tr>\n",
       "      <th>std</th>\n",
       "      <td>3.369578</td>\n",
       "      <td>31.972618</td>\n",
       "      <td>19.355807</td>\n",
       "      <td>15.952218</td>\n",
       "      <td>115.244002</td>\n",
       "      <td>7.884160</td>\n",
       "      <td>0.331329</td>\n",
       "      <td>11.760232</td>\n",
       "      <td>0.476951</td>\n",
       "    </tr>\n",
       "    <tr>\n",
       "      <th>min</th>\n",
       "      <td>0.000000</td>\n",
       "      <td>0.000000</td>\n",
       "      <td>0.000000</td>\n",
       "      <td>0.000000</td>\n",
       "      <td>0.000000</td>\n",
       "      <td>0.000000</td>\n",
       "      <td>0.078000</td>\n",
       "      <td>21.000000</td>\n",
       "      <td>0.000000</td>\n",
       "    </tr>\n",
       "    <tr>\n",
       "      <th>25%</th>\n",
       "      <td>1.000000</td>\n",
       "      <td>99.000000</td>\n",
       "      <td>62.000000</td>\n",
       "      <td>0.000000</td>\n",
       "      <td>0.000000</td>\n",
       "      <td>27.300000</td>\n",
       "      <td>0.243750</td>\n",
       "      <td>24.000000</td>\n",
       "      <td>0.000000</td>\n",
       "    </tr>\n",
       "    <tr>\n",
       "      <th>50%</th>\n",
       "      <td>3.000000</td>\n",
       "      <td>117.000000</td>\n",
       "      <td>72.000000</td>\n",
       "      <td>23.000000</td>\n",
       "      <td>30.500000</td>\n",
       "      <td>32.000000</td>\n",
       "      <td>0.372500</td>\n",
       "      <td>29.000000</td>\n",
       "      <td>0.000000</td>\n",
       "    </tr>\n",
       "    <tr>\n",
       "      <th>75%</th>\n",
       "      <td>6.000000</td>\n",
       "      <td>140.250000</td>\n",
       "      <td>80.000000</td>\n",
       "      <td>32.000000</td>\n",
       "      <td>127.250000</td>\n",
       "      <td>36.600000</td>\n",
       "      <td>0.626250</td>\n",
       "      <td>41.000000</td>\n",
       "      <td>1.000000</td>\n",
       "    </tr>\n",
       "    <tr>\n",
       "      <th>max</th>\n",
       "      <td>17.000000</td>\n",
       "      <td>199.000000</td>\n",
       "      <td>122.000000</td>\n",
       "      <td>99.000000</td>\n",
       "      <td>846.000000</td>\n",
       "      <td>67.100000</td>\n",
       "      <td>2.420000</td>\n",
       "      <td>81.000000</td>\n",
       "      <td>1.000000</td>\n",
       "    </tr>\n",
       "  </tbody>\n",
       "</table>\n",
       "</div>"
      ],
      "text/plain": [
       "       Pregnancies     Glucose  BloodPressure  SkinThickness     Insulin  \\\n",
       "count   768.000000  768.000000     768.000000     768.000000  768.000000   \n",
       "mean      3.845052  120.894531      69.105469      20.536458   79.799479   \n",
       "std       3.369578   31.972618      19.355807      15.952218  115.244002   \n",
       "min       0.000000    0.000000       0.000000       0.000000    0.000000   \n",
       "25%       1.000000   99.000000      62.000000       0.000000    0.000000   \n",
       "50%       3.000000  117.000000      72.000000      23.000000   30.500000   \n",
       "75%       6.000000  140.250000      80.000000      32.000000  127.250000   \n",
       "max      17.000000  199.000000     122.000000      99.000000  846.000000   \n",
       "\n",
       "              BMI  DiabetesPedigreeFunction         Age     Outcome  \n",
       "count  768.000000                768.000000  768.000000  768.000000  \n",
       "mean    31.992578                  0.471876   33.240885    0.348958  \n",
       "std      7.884160                  0.331329   11.760232    0.476951  \n",
       "min      0.000000                  0.078000   21.000000    0.000000  \n",
       "25%     27.300000                  0.243750   24.000000    0.000000  \n",
       "50%     32.000000                  0.372500   29.000000    0.000000  \n",
       "75%     36.600000                  0.626250   41.000000    1.000000  \n",
       "max     67.100000                  2.420000   81.000000    1.000000  "
      ]
     },
     "execution_count": 18,
     "metadata": {},
     "output_type": "execute_result"
    }
   ],
   "source": [
    "diabetes_df.describe()"
   ]
  },
  {
   "cell_type": "code",
   "execution_count": 21,
   "metadata": {},
   "outputs": [
    {
     "data": {
      "text/plain": [
       "(array([  5.,   0.,   4.,  32., 156., 211., 163.,  95.,  56.,  46.]),\n",
       " array([  0. ,  19.9,  39.8,  59.7,  79.6,  99.5, 119.4, 139.3, 159.2,\n",
       "        179.1, 199. ]),\n",
       " <a list of 10 Patch objects>)"
      ]
     },
     "execution_count": 21,
     "metadata": {},
     "output_type": "execute_result"
    },
    {
     "data": {
      "image/png": "[encoded data removed]",
      "text/plain": [
       "<Figure size 432x288 with 1 Axes>"
      ]
     },
     "metadata": {
      "needs_background": "light"
     },
     "output_type": "display_data"
    }
   ],
   "source": [
    "plt.hist(diabetes_df['Glucose'], bins=10)"
   ]
  },
  {
   "cell_type": "code",
   "execution_count": 22,
   "metadata": {},
   "outputs": [
    {
     "name": "stdout",
     "output_type": "stream",
     "text": [
      "Glucose 0 건수는 5, 퍼센트는 0.651042 %\n",
      "BloodPressure 0 건수는 35, 퍼센트는 4.557292 %\n",
      "SkinThickness 0 건수는 227, 퍼센트는 29.557292 %\n",
      "Insulin 0 건수는 374, 퍼센트는 48.697917 %\n",
      "BMI 0 건수는 11, 퍼센트는 1.432292 %\n"
     ]
    }
   ],
   "source": [
    "zero_features = ['Glucose', 'BloodPressure', 'SkinThickness', 'Insulin', 'BMI']\n",
    "\n",
    "total_count = diabetes_df['Glucose'].count()\n",
    "\n",
    "for feature in zero_features:\n",
    "    zero_count = diabetes_df[diabetes_df[feature] == 0][feature].count()\n",
    "    print('{0} 0 건수는 {1}, 퍼센트는 {2:2f} %'.format(feature, zero_count, 100*zero_count/total_count))"
   ]
  },
  {
   "cell_type": "code",
   "execution_count": 24,
   "metadata": {},
   "outputs": [],
   "source": [
    "mean_zero_features = diabetes_df[zero_features].mean()\n",
    "diabetes_df[zero_features]=diabetes_df[zero_features].replace(0, mean_zero_features)"
   ]
  },
  {
   "cell_type": "code",
   "execution_count": 26,
   "metadata": {},
   "outputs": [
    {
     "data": {
      "text/plain": [
       "Glucose          120.894531\n",
       "BloodPressure     69.105469\n",
       "SkinThickness     20.536458\n",
       "Insulin           79.799479\n",
       "BMI               31.992578\n",
       "dtype: float64"
      ]
     },
     "execution_count": 26,
     "metadata": {},
     "output_type": "execute_result"
    }
   ],
   "source": [
    "mean_zero_features"
   ]
  },
  {
   "cell_type": "code",
   "execution_count": 29,
   "metadata": {},
   "outputs": [
    {
     "data": {
      "text/html": [
       "<div>\n",
       "<style scoped>\n",
       "    .dataframe tbody tr th:only-of-type {\n",
       "        vertical-align: middle;\n",
       "    }\n",
       "\n",
       "    .dataframe tbody tr th {\n",
       "        vertical-align: top;\n",
       "    }\n",
       "\n",
       "    .dataframe thead th {\n",
       "        text-align: right;\n",
       "    }\n",
       "</style>\n",
       "<table border=\"1\" class=\"dataframe\">\n",
       "  <thead>\n",
       "    <tr style=\"text-align: right;\">\n",
       "      <th></th>\n",
       "      <th>Glucose</th>\n",
       "      <th>BloodPressure</th>\n",
       "      <th>SkinThickness</th>\n",
       "      <th>Insulin</th>\n",
       "      <th>BMI</th>\n",
       "    </tr>\n",
       "  </thead>\n",
       "  <tbody>\n",
       "    <tr>\n",
       "      <th>0</th>\n",
       "      <td>148.0</td>\n",
       "      <td>72.0</td>\n",
       "      <td>35.000000</td>\n",
       "      <td>79.799479</td>\n",
       "      <td>33.6</td>\n",
       "    </tr>\n",
       "    <tr>\n",
       "      <th>1</th>\n",
       "      <td>85.0</td>\n",
       "      <td>66.0</td>\n",
       "      <td>29.000000</td>\n",
       "      <td>79.799479</td>\n",
       "      <td>26.6</td>\n",
       "    </tr>\n",
       "    <tr>\n",
       "      <th>2</th>\n",
       "      <td>183.0</td>\n",
       "      <td>64.0</td>\n",
       "      <td>20.536458</td>\n",
       "      <td>79.799479</td>\n",
       "      <td>23.3</td>\n",
       "    </tr>\n",
       "    <tr>\n",
       "      <th>3</th>\n",
       "      <td>89.0</td>\n",
       "      <td>66.0</td>\n",
       "      <td>23.000000</td>\n",
       "      <td>94.000000</td>\n",
       "      <td>28.1</td>\n",
       "    </tr>\n",
       "    <tr>\n",
       "      <th>4</th>\n",
       "      <td>137.0</td>\n",
       "      <td>40.0</td>\n",
       "      <td>35.000000</td>\n",
       "      <td>168.000000</td>\n",
       "      <td>43.1</td>\n",
       "    </tr>\n",
       "  </tbody>\n",
       "</table>\n",
       "</div>"
      ],
      "text/plain": [
       "   Glucose  BloodPressure  SkinThickness     Insulin   BMI\n",
       "0    148.0           72.0      35.000000   79.799479  33.6\n",
       "1     85.0           66.0      29.000000   79.799479  26.6\n",
       "2    183.0           64.0      20.536458   79.799479  23.3\n",
       "3     89.0           66.0      23.000000   94.000000  28.1\n",
       "4    137.0           40.0      35.000000  168.000000  43.1"
      ]
     },
     "execution_count": 29,
     "metadata": {},
     "output_type": "execute_result"
    }
   ],
   "source": [
    "diabetes_df[zero_features].head()"
   ]
  },
  {
   "cell_type": "code",
   "execution_count": 33,
   "metadata": {},
   "outputs": [
    {
     "name": "stdout",
     "output_type": "stream",
     "text": [
      "오차행렬\n",
      "[[90 10]\n",
      " [21 33]]\n",
      "정확도: 0.798701, 정밀도: 0.767442, 재현율: 0.6111, F1:0.6804\n"
     ]
    }
   ],
   "source": [
    "X = diabetes_df.iloc[:,:-1]\n",
    "y = diabetes_df.iloc[:, -1]\n",
    "\n",
    "scaler = StandardScaler()\n",
    "X_scaled = scaler.fit_transform(X)\n",
    "\n",
    "X_train, X_test, y_train, y_test = train_test_split(X_scaled, y, test_size=0.2, random_state=156, stratify=y)\n",
    "\n",
    "lr_clf = LogisticRegression()\n",
    "lr_clf.fit(X_train, y_train)\n",
    "pred = lr_clf.predict(X_test)\n",
    "get_clf_eval(y_test, pred)"
   ]
  },
  {
   "cell_type": "code",
   "execution_count": 43,
   "metadata": {},
   "outputs": [
    {
     "name": "stdout",
     "output_type": "stream",
     "text": [
      "임곗값: 0.3\n",
      "오차행렬\n",
      "[[67 33]\n",
      " [11 43]]\n",
      "정확도: 0.714286, 정밀도: 0.565789, 재현율: 0.7963, F1:0.6615\n",
      "임곗값: 0.33\n",
      "오차행렬\n",
      "[[72 28]\n",
      " [12 42]]\n",
      "정확도: 0.740260, 정밀도: 0.600000, 재현율: 0.7778, F1:0.6774\n",
      "임곗값: 0.36\n",
      "오차행렬\n",
      "[[76 24]\n",
      " [15 39]]\n",
      "정확도: 0.746753, 정밀도: 0.619048, 재현율: 0.7222, F1:0.6667\n",
      "임곗값: 0.39\n",
      "오차행렬\n",
      "[[78 22]\n",
      " [16 38]]\n",
      "정확도: 0.753247, 정밀도: 0.633333, 재현율: 0.7037, F1:0.6667\n",
      "임곗값: 0.42\n",
      "오차행렬\n",
      "[[84 16]\n",
      " [18 36]]\n",
      "정확도: 0.779221, 정밀도: 0.692308, 재현율: 0.6667, F1:0.6792\n",
      "임곗값: 0.45\n",
      "오차행렬\n",
      "[[85 15]\n",
      " [18 36]]\n",
      "정확도: 0.785714, 정밀도: 0.705882, 재현율: 0.6667, F1:0.6857\n",
      "임곗값: 0.48\n",
      "오차행렬\n",
      "[[88 12]\n",
      " [19 35]]\n",
      "정확도: 0.798701, 정밀도: 0.744681, 재현율: 0.6481, F1:0.6931\n",
      "임곗값: 0.5\n",
      "오차행렬\n",
      "[[90 10]\n",
      " [21 33]]\n",
      "정확도: 0.798701, 정밀도: 0.767442, 재현율: 0.6111, F1:0.6804\n"
     ]
    }
   ],
   "source": [
    "thresholds = [0.3, 0.33, 0.36, 0.39, 0.42, 0.45, 0.48, 0.50]\n",
    "pred_proba = lr_clf.predict_proba(X_test)\n",
    "get_eval_by_threshold(y_test, pred_proba[:,1].reshape(-1,1), thresholds)"
   ]
  },
  {
   "cell_type": "code",
   "execution_count": 45,
   "metadata": {},
   "outputs": [
    {
     "name": "stdout",
     "output_type": "stream",
     "text": [
      "오차행렬\n",
      "[[88 12]\n",
      " [19 35]]\n",
      "정확도: 0.798701, 정밀도: 0.744681, 재현율: 0.6481, F1:0.6931\n"
     ]
    }
   ],
   "source": [
    "binarizer = Binarizer(threshold=0.48)\n",
    "\n",
    "pred_th_048 = binarizer.fit_transform(pred_proba[:,1].reshape(-1,1))\n",
    "\n",
    "get_clf_eval(y_test, pred_th_048)"
   ]
  },
  {
   "cell_type": "code",
   "execution_count": 46,
   "metadata": {},
   "outputs": [
    {
     "data": {
      "text/plain": [
       "array([[0.96438577, 0.03561423],\n",
       "       [0.79931596, 0.20068404],\n",
       "       [0.842334  , 0.157666  ],\n",
       "       [0.43342396, 0.56657604],\n",
       "       [0.58560336, 0.41439664],\n",
       "       [0.24553171, 0.75446829],\n",
       "       [0.16082739, 0.83917261],\n",
       "       [0.84935166, 0.15064834],\n",
       "       [0.80711452, 0.19288548],\n",
       "       [0.89337231, 0.10662769],\n",
       "       [0.33192872, 0.66807128],\n",
       "       [0.60565216, 0.39434784],\n",
       "       [0.95343873, 0.04656127],\n",
       "       [0.60929763, 0.39070237],\n",
       "       [0.73636931, 0.26363069],\n",
       "       [0.90778932, 0.09221068],\n",
       "       [0.20682478, 0.79317522],\n",
       "       [0.91162757, 0.08837243],\n",
       "       [0.4155357 , 0.5844643 ],\n",
       "       [0.1963514 , 0.8036486 ],\n",
       "       [0.58389103, 0.41610897],\n",
       "       [0.65240945, 0.34759055],\n",
       "       [0.93625519, 0.06374481],\n",
       "       [0.68259271, 0.31740729],\n",
       "       [0.70211813, 0.29788187],\n",
       "       [0.89590376, 0.10409624],\n",
       "       [0.07897121, 0.92102879],\n",
       "       [0.25082215, 0.74917785],\n",
       "       [0.82741521, 0.17258479],\n",
       "       [0.11165251, 0.88834749],\n",
       "       [0.77115509, 0.22884491],\n",
       "       [0.76420021, 0.23579979],\n",
       "       [0.88809034, 0.11190966],\n",
       "       [0.84830919, 0.15169081],\n",
       "       [0.89782457, 0.10217543],\n",
       "       [0.25794611, 0.74205389],\n",
       "       [0.77923715, 0.22076285],\n",
       "       [0.79337208, 0.20662792],\n",
       "       [0.14708542, 0.85291458],\n",
       "       [0.3366848 , 0.6633152 ],\n",
       "       [0.5900219 , 0.4099781 ],\n",
       "       [0.76513188, 0.23486812],\n",
       "       [0.2973233 , 0.7026767 ],\n",
       "       [0.87078325, 0.12921675],\n",
       "       [0.65618641, 0.34381359],\n",
       "       [0.9852049 , 0.0147951 ],\n",
       "       [0.53546649, 0.46453351],\n",
       "       [0.91209483, 0.08790517],\n",
       "       [0.51313746, 0.48686254],\n",
       "       [0.67129017, 0.32870983],\n",
       "       [0.69025484, 0.30974516],\n",
       "       [0.08207454, 0.91792546],\n",
       "       [0.10281123, 0.89718877],\n",
       "       [0.93911126, 0.06088874],\n",
       "       [0.87460397, 0.12539603],\n",
       "       [0.57114398, 0.42885602],\n",
       "       [0.93057156, 0.06942844],\n",
       "       [0.64664361, 0.35335639],\n",
       "       [0.67014929, 0.32985071],\n",
       "       [0.60649074, 0.39350926],\n",
       "       [0.82078504, 0.17921496],\n",
       "       [0.16303179, 0.83696821],\n",
       "       [0.66670169, 0.33329831],\n",
       "       [0.37624322, 0.62375678],\n",
       "       [0.69666783, 0.30333217],\n",
       "       [0.89731616, 0.10268384],\n",
       "       [0.75679961, 0.24320039],\n",
       "       [0.28167591, 0.71832409],\n",
       "       [0.8539122 , 0.1460878 ],\n",
       "       [0.23026066, 0.76973934],\n",
       "       [0.94057894, 0.05942106],\n",
       "       [0.66479668, 0.33520332],\n",
       "       [0.88084751, 0.11915249],\n",
       "       [0.5431211 , 0.4568789 ],\n",
       "       [0.20983243, 0.79016757],\n",
       "       [0.69728346, 0.30271654],\n",
       "       [0.95987851, 0.04012149],\n",
       "       [0.93470134, 0.06529866],\n",
       "       [0.89108839, 0.10891161],\n",
       "       [0.75008845, 0.24991155],\n",
       "       [0.89063106, 0.10936894],\n",
       "       [0.91898848, 0.08101152],\n",
       "       [0.17114022, 0.82885978],\n",
       "       [0.82644443, 0.17355557],\n",
       "       [0.70996124, 0.29003876],\n",
       "       [0.65437137, 0.34562863],\n",
       "       [0.5171256 , 0.4828744 ],\n",
       "       [0.21521414, 0.78478586],\n",
       "       [0.9415877 , 0.0584123 ],\n",
       "       [0.9771983 , 0.0228017 ],\n",
       "       [0.95855562, 0.04144438],\n",
       "       [0.38016083, 0.61983917],\n",
       "       [0.13203324, 0.86796676],\n",
       "       [0.75929533, 0.24070467],\n",
       "       [0.71079862, 0.28920138],\n",
       "       [0.30995398, 0.69004602],\n",
       "       [0.77894075, 0.22105925],\n",
       "       [0.8030003 , 0.1969997 ],\n",
       "       [0.97002851, 0.02997149],\n",
       "       [0.18372911, 0.81627089],\n",
       "       [0.12031283, 0.87968717],\n",
       "       [0.59179854, 0.40820146],\n",
       "       [0.58532505, 0.41467495],\n",
       "       [0.66218035, 0.33781965],\n",
       "       [0.89407036, 0.10592964],\n",
       "       [0.85183531, 0.14816469],\n",
       "       [0.70123601, 0.29876399],\n",
       "       [0.53794411, 0.46205589],\n",
       "       [0.95928653, 0.04071347],\n",
       "       [0.89487886, 0.10512114],\n",
       "       [0.24875978, 0.75124022],\n",
       "       [0.46299535, 0.53700465],\n",
       "       [0.85779666, 0.14220334],\n",
       "       [0.8018181 , 0.1981819 ],\n",
       "       [0.61581149, 0.38418851],\n",
       "       [0.47146771, 0.52853229],\n",
       "       [0.12522598, 0.87477402],\n",
       "       [0.87495615, 0.12504385],\n",
       "       [0.7312349 , 0.2687651 ],\n",
       "       [0.02365483, 0.97634517],\n",
       "       [0.46391143, 0.53608857],\n",
       "       [0.51332458, 0.48667542],\n",
       "       [0.28782344, 0.71217656],\n",
       "       [0.34447271, 0.65552729],\n",
       "       [0.7487504 , 0.2512496 ],\n",
       "       [0.78114533, 0.21885467],\n",
       "       [0.88862365, 0.11137635],\n",
       "       [0.93668613, 0.06331387],\n",
       "       [0.76531217, 0.23468783],\n",
       "       [0.88268227, 0.11731773],\n",
       "       [0.9774332 , 0.0225668 ],\n",
       "       [0.91076114, 0.08923886],\n",
       "       [0.63712025, 0.36287975],\n",
       "       [0.91029025, 0.08970975],\n",
       "       [0.95714118, 0.04285882],\n",
       "       [0.37091126, 0.62908874],\n",
       "       [0.23259414, 0.76740586],\n",
       "       [0.23743137, 0.76256863],\n",
       "       [0.96247487, 0.03752513],\n",
       "       [0.88500131, 0.11499869],\n",
       "       [0.79218714, 0.20781286],\n",
       "       [0.50778394, 0.49221606],\n",
       "       [0.27295988, 0.72704012],\n",
       "       [0.83502764, 0.16497236],\n",
       "       [0.22472064, 0.77527936],\n",
       "       [0.93976973, 0.06023027],\n",
       "       [0.86505776, 0.13494224],\n",
       "       [0.9814127 , 0.0185873 ],\n",
       "       [0.18629851, 0.81370149],\n",
       "       [0.54882914, 0.45117086],\n",
       "       [0.62062693, 0.37937307],\n",
       "       [0.96280698, 0.03719302],\n",
       "       [0.40849119, 0.59150881],\n",
       "       [0.87295383, 0.12704617]])"
      ]
     },
     "execution_count": 46,
     "metadata": {},
     "output_type": "execute_result"
    }
   ],
   "source": [
    "pred_proba"
   ]
  },
  {
   "cell_type": "code",
   "execution_count": 49,
   "metadata": {},
   "outputs": [
    {
     "data": {
      "text/plain": [
       "array([[0.03561423],\n",
       "       [0.20068404],\n",
       "       [0.157666  ],\n",
       "       [0.56657604],\n",
       "       [0.41439664],\n",
       "       [0.75446829],\n",
       "       [0.83917261],\n",
       "       [0.15064834],\n",
       "       [0.19288548],\n",
       "       [0.10662769],\n",
       "       [0.66807128],\n",
       "       [0.39434784],\n",
       "       [0.04656127],\n",
       "       [0.39070237],\n",
       "       [0.26363069],\n",
       "       [0.09221068],\n",
       "       [0.79317522],\n",
       "       [0.08837243],\n",
       "       [0.5844643 ],\n",
       "       [0.8036486 ],\n",
       "       [0.41610897],\n",
       "       [0.34759055],\n",
       "       [0.06374481],\n",
       "       [0.31740729],\n",
       "       [0.29788187],\n",
       "       [0.10409624],\n",
       "       [0.92102879],\n",
       "       [0.74917785],\n",
       "       [0.17258479],\n",
       "       [0.88834749],\n",
       "       [0.22884491],\n",
       "       [0.23579979],\n",
       "       [0.11190966],\n",
       "       [0.15169081],\n",
       "       [0.10217543],\n",
       "       [0.74205389],\n",
       "       [0.22076285],\n",
       "       [0.20662792],\n",
       "       [0.85291458],\n",
       "       [0.6633152 ],\n",
       "       [0.4099781 ],\n",
       "       [0.23486812],\n",
       "       [0.7026767 ],\n",
       "       [0.12921675],\n",
       "       [0.34381359],\n",
       "       [0.0147951 ],\n",
       "       [0.46453351],\n",
       "       [0.08790517],\n",
       "       [0.48686254],\n",
       "       [0.32870983],\n",
       "       [0.30974516],\n",
       "       [0.91792546],\n",
       "       [0.89718877],\n",
       "       [0.06088874],\n",
       "       [0.12539603],\n",
       "       [0.42885602],\n",
       "       [0.06942844],\n",
       "       [0.35335639],\n",
       "       [0.32985071],\n",
       "       [0.39350926],\n",
       "       [0.17921496],\n",
       "       [0.83696821],\n",
       "       [0.33329831],\n",
       "       [0.62375678],\n",
       "       [0.30333217],\n",
       "       [0.10268384],\n",
       "       [0.24320039],\n",
       "       [0.71832409],\n",
       "       [0.1460878 ],\n",
       "       [0.76973934],\n",
       "       [0.05942106],\n",
       "       [0.33520332],\n",
       "       [0.11915249],\n",
       "       [0.4568789 ],\n",
       "       [0.79016757],\n",
       "       [0.30271654],\n",
       "       [0.04012149],\n",
       "       [0.06529866],\n",
       "       [0.10891161],\n",
       "       [0.24991155],\n",
       "       [0.10936894],\n",
       "       [0.08101152],\n",
       "       [0.82885978],\n",
       "       [0.17355557],\n",
       "       [0.29003876],\n",
       "       [0.34562863],\n",
       "       [0.4828744 ],\n",
       "       [0.78478586],\n",
       "       [0.0584123 ],\n",
       "       [0.0228017 ],\n",
       "       [0.04144438],\n",
       "       [0.61983917],\n",
       "       [0.86796676],\n",
       "       [0.24070467],\n",
       "       [0.28920138],\n",
       "       [0.69004602],\n",
       "       [0.22105925],\n",
       "       [0.1969997 ],\n",
       "       [0.02997149],\n",
       "       [0.81627089],\n",
       "       [0.87968717],\n",
       "       [0.40820146],\n",
       "       [0.41467495],\n",
       "       [0.33781965],\n",
       "       [0.10592964],\n",
       "       [0.14816469],\n",
       "       [0.29876399],\n",
       "       [0.46205589],\n",
       "       [0.04071347],\n",
       "       [0.10512114],\n",
       "       [0.75124022],\n",
       "       [0.53700465],\n",
       "       [0.14220334],\n",
       "       [0.1981819 ],\n",
       "       [0.38418851],\n",
       "       [0.52853229],\n",
       "       [0.87477402],\n",
       "       [0.12504385],\n",
       "       [0.2687651 ],\n",
       "       [0.97634517],\n",
       "       [0.53608857],\n",
       "       [0.48667542],\n",
       "       [0.71217656],\n",
       "       [0.65552729],\n",
       "       [0.2512496 ],\n",
       "       [0.21885467],\n",
       "       [0.11137635],\n",
       "       [0.06331387],\n",
       "       [0.23468783],\n",
       "       [0.11731773],\n",
       "       [0.0225668 ],\n",
       "       [0.08923886],\n",
       "       [0.36287975],\n",
       "       [0.08970975],\n",
       "       [0.04285882],\n",
       "       [0.62908874],\n",
       "       [0.76740586],\n",
       "       [0.76256863],\n",
       "       [0.03752513],\n",
       "       [0.11499869],\n",
       "       [0.20781286],\n",
       "       [0.49221606],\n",
       "       [0.72704012],\n",
       "       [0.16497236],\n",
       "       [0.77527936],\n",
       "       [0.06023027],\n",
       "       [0.13494224],\n",
       "       [0.0185873 ],\n",
       "       [0.81370149],\n",
       "       [0.45117086],\n",
       "       [0.37937307],\n",
       "       [0.03719302],\n",
       "       [0.59150881],\n",
       "       [0.12704617]])"
      ]
     },
     "execution_count": 49,
     "metadata": {},
     "output_type": "execute_result"
    }
   ],
   "source": [
    "pred_proba[:,1].reshape(-1,1)"
   ]
  },
  {
   "cell_type": "code",
   "execution_count": null,
   "metadata": {},
   "outputs": [],
   "source": []
  },
  {
   "cell_type": "code",
   "execution_count": null,
   "metadata": {},
   "outputs": [],
   "source": []
  },
  {
   "cell_type": "code",
   "execution_count": null,
   "metadata": {},
   "outputs": [],
   "source": []
  },
  {
   "cell_type": "code",
   "execution_count": null,
   "metadata": {},
   "outputs": [],
   "source": []
  },
  {
   "cell_type": "code",
   "execution_count": null,
   "metadata": {},
   "outputs": [],
   "source": []
  },
  {
   "cell_type": "code",
   "execution_count": null,
   "metadata": {},
   "outputs": [],
   "source": []
  },
  {
   "cell_type": "code",
   "execution_count": null,
   "metadata": {},
   "outputs": [],
   "source": []
  },
  {
   "cell_type": "code",
   "execution_count": null,
   "metadata": {},
   "outputs": [],
   "source": []
  },
  {
   "cell_type": "code",
   "execution_count": null,
   "metadata": {},
   "outputs": [],
   "source": []
  },
  {
   "cell_type": "code",
   "execution_count": null,
   "metadata": {},
   "outputs": [],
   "source": []
  },
  {
   "cell_type": "code",
   "execution_count": null,
   "metadata": {},
   "outputs": [],
   "source": []
  },
  {
   "cell_type": "code",
   "execution_count": null,
   "metadata": {},
   "outputs": [],
   "source": []
  },
  {
   "cell_type": "code",
   "execution_count": null,
   "metadata": {},
   "outputs": [],
   "source": []
  },
  {
   "cell_type": "code",
   "execution_count": null,
   "metadata": {},
   "outputs": [],
   "source": []
  },
  {
   "cell_type": "code",
   "execution_count": null,
   "metadata": {},
   "outputs": [],
   "source": []
  },
  {
   "cell_type": "code",
   "execution_count": null,
   "metadata": {},
   "outputs": [],
   "source": []
  },
  {
   "cell_type": "code",
   "execution_count": null,
   "metadata": {},
   "outputs": [],
   "source": []
  },
  {
   "cell_type": "code",
   "execution_count": null,
   "metadata": {},
   "outputs": [],
   "source": []
  },
  {
   "cell_type": "code",
   "execution_count": null,
   "metadata": {},
   "outputs": [],
   "source": []
  },
  {
   "cell_type": "code",
   "execution_count": null,
   "metadata": {},
   "outputs": [],
   "source": []
  },
  {
   "cell_type": "code",
   "execution_count": null,
   "metadata": {},
   "outputs": [],
   "source": []
  },
  {
   "cell_type": "code",
   "execution_count": null,
   "metadata": {},
   "outputs": [],
   "source": []
  },
  {
   "cell_type": "code",
   "execution_count": null,
   "metadata": {},
   "outputs": [],
   "source": []
  },
  {
   "cell_type": "code",
   "execution_count": null,
   "metadata": {},
   "outputs": [],
   "source": []
  },
  {
   "cell_type": "code",
   "execution_count": null,
   "metadata": {},
   "outputs": [],
   "source": []
  },
  {
   "cell_type": "code",
   "execution_count": null,
   "metadata": {},
   "outputs": [],
   "source": []
  },
  {
   "cell_type": "code",
   "execution_count": null,
   "metadata": {},
   "outputs": [],
   "source": []
  },
  {
   "cell_type": "code",
   "execution_count": null,
   "metadata": {},
   "outputs": [],
   "source": []
  },
  {
   "cell_type": "code",
   "execution_count": null,
   "metadata": {},
   "outputs": [],
   "source": []
  },
  {
   "cell_type": "code",
   "execution_count": null,
   "metadata": {},
   "outputs": [],
   "source": []
  },
  {
   "cell_type": "code",
   "execution_count": null,
   "metadata": {},
   "outputs": [],
   "source": []
  },
  {
   "cell_type": "code",
   "execution_count": null,
   "metadata": {},
   "outputs": [],
   "source": []
  },
  {
   "cell_type": "code",
   "execution_count": null,
   "metadata": {},
   "outputs": [],
   "source": []
  },
  {
   "cell_type": "code",
   "execution_count": null,
   "metadata": {},
   "outputs": [],
   "source": []
  }
 ],
 "metadata": {
  "kernelspec": {
   "display_name": "Python 3",
   "language": "python",
   "name": "python3"
  },
  "language_info": {
   "codemirror_mode": {
    "name": "ipython",
    "version": 3
   },
   "file_extension": ".py",
   "mimetype": "text/x-python",
   "name": "python",
   "nbconvert_exporter": "python",
   "pygments_lexer": "ipython3",
   "version": "3.7.3"
  }
 },
 "nbformat": 4,
 "nbformat_minor": 2
}
