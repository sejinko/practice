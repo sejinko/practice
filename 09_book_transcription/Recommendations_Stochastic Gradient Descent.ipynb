{
 "cells": [
  {
   "cell_type": "code",
   "execution_count": 3,
   "metadata": {},
   "outputs": [],
   "source": [
    "import numpy as np\n",
    "\n",
    "R = np.array([[4, np.NaN, np.NaN, 2, np.NaN],\n",
    "              [np.NaN, 5, np.NaN, 3, 1],\n",
    "              [np.NaN, np.NaN, 3, 4, 4],\n",
    "              [5, 2, 1, 2, np.NaN]])\n",
    "num_users, num_items = R.shape\n",
    "K=3\n",
    "\n",
    "np.random.seed(1)\n",
    "P = np.random.normal(scale=1./K, size=(num_users, K))\n",
    "Q = np.random.normal(scale=1./K, size=(num_items, K))"
   ]
  },
  {
   "cell_type": "code",
   "execution_count": 4,
   "metadata": {},
   "outputs": [],
   "source": [
    "from sklearn.metrics import mean_squared_error"
   ]
  },
  {
   "cell_type": "code",
   "execution_count": 8,
   "metadata": {},
   "outputs": [],
   "source": [
    "def get_rmse(R, P, Q, non_zeros):\n",
    "    error = 0\n",
    "    \n",
    "    full_pred_matrix = np.dot(P, Q.T)\n",
    "    \n",
    "    x_non_zero_ind = [non_zero[0] for non_zero in non_zeros]\n",
    "    y_non_zero_ind = [non_zero[1] for non_zero in non_zeros]\n",
    "    R_non_zeros = R[x_non_zero_ind, y_non_zero_ind]\n",
    "    full_pred_matrix_non_zeros = full_pred_matrix[x_non_zero_ind, y_non_zero_ind]\n",
    "    mse = mean_squared_error(R_non_zeros, full_pred_matrix_non_zeros)\n",
    "    rmse = np.sqrt(mse)\n",
    "    \n",
    "    return rmse"
   ]
  },
  {
   "cell_type": "code",
   "execution_count": 11,
   "metadata": {},
   "outputs": [
    {
     "name": "stdout",
     "output_type": "stream",
     "text": [
      "### iteration step :  0  rmse :  3.232455939981293\n",
      "### iteration step :  0  rmse :  3.2315985246182577\n",
      "### iteration step :  0  rmse :  3.2247307461897132\n",
      "### iteration step :  0  rmse :  3.222896885581507\n",
      "### iteration step :  0  rmse :  3.2230943095568962\n",
      "### iteration step :  0  rmse :  3.221766134233418\n",
      "### iteration step :  0  rmse :  3.219841084710466\n",
      "### iteration step :  0  rmse :  3.2180261567201343\n",
      "### iteration step :  0  rmse :  3.21300300044208\n",
      "### iteration step :  0  rmse :  3.211258781425875\n",
      "### iteration step :  0  rmse :  3.21135450472713\n",
      "### iteration step :  0  rmse :  3.2099898005404466\n",
      "### iteration step :  50  rmse :  0.48996188902825316\n",
      "### iteration step :  50  rmse :  0.4896235008999994\n",
      "### iteration step :  50  rmse :  0.4888570136076027\n",
      "### iteration step :  50  rmse :  0.48865073101470424\n",
      "### iteration step :  50  rmse :  0.48874337019392566\n",
      "### iteration step :  50  rmse :  0.4880521595580434\n",
      "### iteration step :  50  rmse :  0.48816487959267496\n",
      "### iteration step :  50  rmse :  0.48768648658507685\n",
      "### iteration step :  50  rmse :  0.4800706051018931\n",
      "### iteration step :  50  rmse :  0.47937535512673585\n",
      "### iteration step :  50  rmse :  0.47888919881594355\n",
      "### iteration step :  50  rmse :  0.47775314591033274\n",
      "### iteration step :  100  rmse :  0.18095598595660092\n",
      "### iteration step :  100  rmse :  0.18079610686317582\n",
      "### iteration step :  100  rmse :  0.18077820961106666\n",
      "### iteration step :  100  rmse :  0.18038424313357515\n",
      "### iteration step :  100  rmse :  0.1804004734459785\n",
      "### iteration step :  100  rmse :  0.18032911154126124\n",
      "### iteration step :  100  rmse :  0.17992057566004613\n",
      "### iteration step :  100  rmse :  0.1799676855994154\n",
      "### iteration step :  100  rmse :  0.17928274610478437\n",
      "### iteration step :  100  rmse :  0.1792258549693399\n",
      "### iteration step :  100  rmse :  0.17888379393515733\n",
      "### iteration step :  100  rmse :  0.17834406217134938\n",
      "### iteration step :  150  rmse :  0.09773080278555789\n",
      "### iteration step :  150  rmse :  0.09774676577280389\n",
      "### iteration step :  150  rmse :  0.09775271893836886\n",
      "### iteration step :  150  rmse :  0.09748982942106953\n",
      "### iteration step :  150  rmse :  0.0975229853498896\n",
      "### iteration step :  150  rmse :  0.0975360953023933\n",
      "### iteration step :  150  rmse :  0.09724738695090446\n",
      "### iteration step :  150  rmse :  0.09728745790854042\n",
      "### iteration step :  150  rmse :  0.0969072921277179\n",
      "### iteration step :  150  rmse :  0.09691203594462101\n",
      "### iteration step :  150  rmse :  0.09687926051092682\n",
      "### iteration step :  150  rmse :  0.09670322798650059\n",
      "### iteration step :  200  rmse :  0.0627115360628666\n",
      "### iteration step :  200  rmse :  0.062755087939026\n",
      "### iteration step :  200  rmse :  0.06275888761544328\n",
      "### iteration step :  200  rmse :  0.06253931601713812\n",
      "### iteration step :  200  rmse :  0.06258426691925197\n",
      "### iteration step :  200  rmse :  0.06262555005434582\n",
      "### iteration step :  200  rmse :  0.062399482486668975\n",
      "### iteration step :  200  rmse :  0.062420450675783626\n",
      "### iteration step :  200  rmse :  0.062119298537873985\n",
      "### iteration step :  200  rmse :  0.0621295578686279\n",
      "### iteration step :  200  rmse :  0.062135227327231916\n",
      "### iteration step :  200  rmse :  0.06220214407353381\n",
      "### iteration step :  250  rmse :  0.044961938089598794\n",
      "### iteration step :  250  rmse :  0.04499972474692285\n",
      "### iteration step :  250  rmse :  0.04499231710411313\n",
      "### iteration step :  250  rmse :  0.044799357925069824\n",
      "### iteration step :  250  rmse :  0.04485571517584893\n",
      "### iteration step :  250  rmse :  0.04490462061419229\n",
      "### iteration step :  250  rmse :  0.044711042830072996\n",
      "### iteration step :  250  rmse :  0.044715338509894724\n",
      "### iteration step :  250  rmse :  0.044435543318274894\n",
      "### iteration step :  250  rmse :  0.04445294943890684\n",
      "### iteration step :  250  rmse :  0.04445382349279087\n",
      "### iteration step :  250  rmse :  0.044656158985341275\n",
      "### iteration step :  300  rmse :  0.03481098755587514\n",
      "### iteration step :  300  rmse :  0.034840421240344414\n",
      "### iteration step :  300  rmse :  0.034816468271865374\n",
      "### iteration step :  300  rmse :  0.03464311277898489\n",
      "### iteration step :  300  rmse :  0.03471056577095879\n",
      "### iteration step :  300  rmse :  0.034758577477530896\n",
      "### iteration step :  300  rmse :  0.03458284398163166\n",
      "### iteration step :  300  rmse :  0.03457588959165744\n",
      "### iteration step :  300  rmse :  0.03429377310492456\n",
      "### iteration step :  300  rmse :  0.034323780021278394\n",
      "### iteration step :  300  rmse :  0.03432842117831949\n",
      "### iteration step :  300  rmse :  0.03460301720395118\n",
      "### iteration step :  350  rmse :  0.028677336571383147\n",
      "### iteration step :  350  rmse :  0.028703885279398936\n",
      "### iteration step :  350  rmse :  0.028661351987933757\n",
      "### iteration step :  350  rmse :  0.02850416348054475\n",
      "### iteration step :  350  rmse :  0.028581680354097517\n",
      "### iteration step :  350  rmse :  0.028624700464432537\n",
      "### iteration step :  350  rmse :  0.028458224211199448\n",
      "### iteration step :  350  rmse :  0.028444485012855313\n",
      "### iteration step :  350  rmse :  0.028151363513130488\n",
      "### iteration step :  350  rmse :  0.02819679141951462\n",
      "### iteration step :  350  rmse :  0.02821344495573652\n",
      "### iteration step :  350  rmse :  0.028524229797920696\n",
      "### iteration step :  400  rmse :  0.02488801995803444\n",
      "### iteration step :  400  rmse :  0.02491746621562664\n",
      "### iteration step :  400  rmse :  0.02485713979957854\n",
      "### iteration step :  400  rmse :  0.02471406010891807\n",
      "### iteration step :  400  rmse :  0.024799874374605253\n",
      "### iteration step :  400  rmse :  0.02483643001351918\n",
      "### iteration step :  400  rmse :  0.024673829680825245\n",
      "### iteration step :  400  rmse :  0.024656475886510383\n",
      "### iteration step :  400  rmse :  0.0243517545133849\n",
      "### iteration step :  400  rmse :  0.02441239018705006\n",
      "### iteration step :  400  rmse :  0.024443224147340365\n",
      "### iteration step :  400  rmse :  0.024768716724374668\n",
      "### iteration step :  450  rmse :  0.02251254303904254\n",
      "### iteration step :  450  rmse :  0.022548663098900776\n",
      "### iteration step :  450  rmse :  0.022473054585018182\n",
      "### iteration step :  450  rmse :  0.022342231781910776\n",
      "### iteration step :  450  rmse :  0.022434329592761943\n",
      "### iteration step :  450  rmse :  0.02246465381664776\n",
      "### iteration step :  450  rmse :  0.022302584580708985\n",
      "### iteration step :  450  rmse :  0.022283669797575588\n",
      "### iteration step :  450  rmse :  0.02197023295527445\n",
      "### iteration step :  450  rmse :  0.022044012678791018\n",
      "### iteration step :  450  rmse :  0.022087621957655994\n",
      "### iteration step :  450  rmse :  0.02241539606406398\n",
      "### iteration step :  500  rmse :  0.020996443002914658\n",
      "### iteration step :  500  rmse :  0.021040866999639203\n",
      "### iteration step :  500  rmse :  0.020953032315174668\n",
      "### iteration step :  500  rmse :  0.02083252675811121\n",
      "### iteration step :  500  rmse :  0.02092911345904398\n",
      "### iteration step :  500  rmse :  0.020954277672822104\n",
      "### iteration step :  500  rmse :  0.020790793100145845\n",
      "### iteration step :  500  rmse :  0.02077150836447077\n",
      "### iteration step :  500  rmse :  0.02045280337017422\n",
      "### iteration step :  500  rmse :  0.020537060784162457\n",
      "### iteration step :  500  rmse :  0.02059085439716856\n",
      "### iteration step :  500  rmse :  0.020914532443929764\n",
      "### iteration step :  550  rmse :  0.02000569965244938\n",
      "### iteration step :  550  rmse :  0.020058535225984536\n",
      "### iteration step :  550  rmse :  0.01996130310965284\n",
      "### iteration step :  550  rmse :  0.01984921921375825\n",
      "### iteration step :  550  rmse :  0.01994892158852603\n",
      "### iteration step :  550  rmse :  0.019970184691384042\n",
      "### iteration step :  550  rmse :  0.01980430518722021\n",
      "### iteration step :  550  rmse :  0.01978524996429362\n",
      "### iteration step :  550  rmse :  0.019464003812957265\n",
      "### iteration step :  550  rmse :  0.019556248192813992\n",
      "### iteration step :  550  rmse :  0.01961769222127933\n",
      "### iteration step :  550  rmse :  0.01993466561786874\n",
      "### iteration step :  600  rmse :  0.019339494689217057\n",
      "### iteration step :  600  rmse :  0.019400007178800187\n",
      "### iteration step :  600  rmse :  0.019295667907186984\n",
      "### iteration step :  600  rmse :  0.019190328599766694\n",
      "### iteration step :  600  rmse :  0.019292187628399002\n",
      "### iteration step :  600  rmse :  0.01931065658139378\n",
      "### iteration step :  600  rmse :  0.01914204235249801\n",
      "### iteration step :  600  rmse :  0.01912345550895562\n",
      "### iteration step :  600  rmse :  0.018801430807327005\n",
      "### iteration step :  600  rmse :  0.018899652486006273\n",
      "### iteration step :  600  rmse :  0.018966703215300605\n",
      "### iteration step :  600  rmse :  0.01927642954324728\n",
      "### iteration step :  650  rmse :  0.018876739930760163\n",
      "### iteration step :  650  rmse :  0.018943841496956083\n"
     ]
    },
    {
     "name": "stdout",
     "output_type": "stream",
     "text": [
      "### iteration step :  650  rmse :  0.018834120153215377\n",
      "### iteration step :  650  rmse :  0.01873414958557135\n",
      "### iteration step :  650  rmse :  0.018837529549766217\n",
      "### iteration step :  650  rmse :  0.018854052311342122\n",
      "### iteration step :  650  rmse :  0.018682755075855834\n",
      "### iteration step :  650  rmse :  0.018664677996206223\n",
      "### iteration step :  650  rmse :  0.01834285181703788\n",
      "### iteration step :  650  rmse :  0.018445549382594264\n",
      "### iteration step :  650  rmse :  0.018516696639247644\n",
      "### iteration step :  650  rmse :  0.018819605241956583\n",
      "### iteration step :  700  rmse :  0.018543695889728807\n",
      "### iteration step :  700  rmse :  0.01861623250697151\n",
      "### iteration step :  700  rmse :  0.018502378805867272\n",
      "### iteration step :  700  rmse :  0.018406702602123147\n",
      "### iteration step :  700  rmse :  0.018511193755915558\n",
      "### iteration step :  700  rmse :  0.01852637017997126\n",
      "### iteration step :  700  rmse :  0.018352655191512576\n",
      "### iteration step :  700  rmse :  0.018335032894451143\n",
      "### iteration step :  700  rmse :  0.018013854409138948\n",
      "### iteration step :  700  rmse :  0.018119951497293396\n",
      "### iteration step :  700  rmse :  0.01819412700139817\n",
      "### iteration step :  700  rmse :  0.0184910079525356\n",
      "### iteration step :  750  rmse :  0.01829482393337535\n",
      "### iteration step :  750  rmse :  0.01837171958715418\n",
      "### iteration step :  750  rmse :  0.01825462135231456\n",
      "### iteration step :  750  rmse :  0.018162425345138504\n",
      "### iteration step :  750  rmse :  0.018267767098664043\n",
      "### iteration step :  750  rmse :  0.01828200054729185\n",
      "### iteration step :  750  rmse :  0.018106228134473278\n",
      "### iteration step :  750  rmse :  0.018088966575642646\n",
      "### iteration step :  750  rmse :  0.01776856909137911\n",
      "### iteration step :  750  rmse :  0.01787730998932749\n",
      "### iteration step :  750  rmse :  0.01795377400360528\n",
      "### iteration step :  750  rmse :  0.018245475849489826\n",
      "### iteration step :  800  rmse :  0.01810156809046007\n",
      "### iteration step :  800  rmse :  0.01818188406573531\n",
      "### iteration step :  800  rmse :  0.018062167340692326\n",
      "### iteration step :  800  rmse :  0.017972844837461133\n",
      "### iteration step :  800  rmse :  0.018078872076405034\n",
      "### iteration step :  800  rmse :  0.01809242455293874\n",
      "### iteration step :  800  rmse :  0.017914977201791173\n",
      "### iteration step :  800  rmse :  0.01789797345843527\n",
      "### iteration step :  800  rmse :  0.017578319631148556\n",
      "### iteration step :  800  rmse :  0.01768917812081092\n",
      "### iteration step :  800  rmse :  0.01776742275328186\n",
      "### iteration step :  800  rmse :  0.01805472190497185\n",
      "### iteration step :  850  rmse :  0.017945749503443884\n",
      "### iteration step :  850  rmse :  0.018028698378703783\n",
      "### iteration step :  850  rmse :  0.017906804906687144\n",
      "### iteration step :  850  rmse :  0.01781990737754787\n",
      "### iteration step :  850  rmse :  0.017926515071429634\n",
      "### iteration step :  850  rmse :  0.017939552636837865\n",
      "### iteration step :  850  rmse :  0.01776079395432006\n",
      "### iteration step :  850  rmse :  0.01774395084287168\n",
      "### iteration step :  850  rmse :  0.017424923033657783\n",
      "### iteration step :  850  rmse :  0.017537532586593498\n",
      "### iteration step :  850  rmse :  0.017617209152435073\n",
      "### iteration step :  850  rmse :  0.017900765835927594\n",
      "### iteration step :  900  rmse :  0.017815625874552318\n",
      "### iteration step :  900  rmse :  0.01790056370543617\n",
      "### iteration step :  900  rmse :  0.017776807258032698\n",
      "### iteration step :  900  rmse :  0.017692003668615695\n",
      "### iteration step :  900  rmse :  0.017799124232367118\n",
      "### iteration step :  900  rmse :  0.01781175042765291\n",
      "### iteration step :  900  rmse :  0.017632004865606395\n",
      "### iteration step :  900  rmse :  0.017615237062668734\n",
      "### iteration step :  900  rmse :  0.017296689840844207\n",
      "### iteration step :  900  rmse :  0.01741079341059524\n",
      "### iteration step :  900  rmse :  0.017491660981208197\n",
      "### iteration step :  900  rmse :  0.017772015103901664\n",
      "### iteration step :  950  rmse :  0.01770350378077955\n",
      "### iteration step :  950  rmse :  0.01778991329789853\n",
      "### iteration step :  950  rmse :  0.017664519303539104\n",
      "### iteration step :  950  rmse :  0.017581564637397906\n",
      "### iteration step :  950  rmse :  0.017689153694196057\n",
      "### iteration step :  950  rmse :  0.01770143264477225\n",
      "### iteration step :  950  rmse :  0.017520977913326012\n",
      "### iteration step :  950  rmse :  0.01750421364946851\n",
      "### iteration step :  950  rmse :  0.017186002255826602\n",
      "### iteration step :  950  rmse :  0.017301417342994275\n",
      "### iteration step :  950  rmse :  0.017383307401806828\n",
      "### iteration step :  950  rmse :  0.017660890676310957\n"
     ]
    }
   ],
   "source": [
    "non_zeros = [(i,j,R[i,j]) for i in range(num_users) for j in range(num_items) if R[i,j] > 0]\n",
    "\n",
    "steps=1000\n",
    "learning_rate = 0.01\n",
    "r_lambda = 0.01\n",
    "\n",
    "for step in range(steps):\n",
    "    for i, j, r in non_zeros:\n",
    "        eij = r - np.dot(P[i, :], Q[j, :].T)\n",
    "        \n",
    "        P[i, :] = P[i, :] + learning_rate*(eij * Q[j,:] - r_lambda*P[i, :])\n",
    "        Q[j, :] = Q[j, :] + learning_rate*(eij * P[i,:] - r_lambda*Q[j, :])\n",
    "        \n",
    "        rmse = get_rmse(R, P, Q, non_zeros)\n",
    "        if (step % 50) == 0:\n",
    "            print('### iteration step : ', step, \" rmse : \", rmse)"
   ]
  },
  {
   "cell_type": "code",
   "execution_count": 12,
   "metadata": {},
   "outputs": [
    {
     "name": "stdout",
     "output_type": "stream",
     "text": [
      "예측 행렬:\n",
      " [[3.99  0.467 1.448 2.003 1.912]\n",
      " [6.693 4.979 0.894 2.979 1.003]\n",
      " [7.505 0.544 2.987 3.975 3.986]\n",
      " [4.966 2.004 1.008 2.022 1.219]]\n"
     ]
    }
   ],
   "source": [
    "pred_matrix = np.dot(P, Q.T)\n",
    "print('예측 행렬:\\n', np.round(pred_matrix, 3))"
   ]
  },
  {
   "cell_type": "code",
   "execution_count": null,
   "metadata": {},
   "outputs": [],
   "source": []
  },
  {
   "cell_type": "code",
   "execution_count": null,
   "metadata": {},
   "outputs": [],
   "source": []
  },
  {
   "cell_type": "code",
   "execution_count": null,
   "metadata": {},
   "outputs": [],
   "source": []
  },
  {
   "cell_type": "code",
   "execution_count": null,
   "metadata": {},
   "outputs": [],
   "source": []
  },
  {
   "cell_type": "code",
   "execution_count": null,
   "metadata": {},
   "outputs": [],
   "source": []
  },
  {
   "cell_type": "code",
   "execution_count": null,
   "metadata": {},
   "outputs": [],
   "source": []
  },
  {
   "cell_type": "code",
   "execution_count": null,
   "metadata": {},
   "outputs": [],
   "source": []
  },
  {
   "cell_type": "code",
   "execution_count": null,
   "metadata": {},
   "outputs": [],
   "source": []
  },
  {
   "cell_type": "code",
   "execution_count": null,
   "metadata": {},
   "outputs": [],
   "source": []
  },
  {
   "cell_type": "code",
   "execution_count": null,
   "metadata": {},
   "outputs": [],
   "source": []
  },
  {
   "cell_type": "code",
   "execution_count": null,
   "metadata": {},
   "outputs": [],
   "source": []
  },
  {
   "cell_type": "code",
   "execution_count": null,
   "metadata": {},
   "outputs": [],
   "source": []
  },
  {
   "cell_type": "code",
   "execution_count": null,
   "metadata": {},
   "outputs": [],
   "source": []
  },
  {
   "cell_type": "code",
   "execution_count": null,
   "metadata": {},
   "outputs": [],
   "source": []
  },
  {
   "cell_type": "code",
   "execution_count": null,
   "metadata": {},
   "outputs": [],
   "source": []
  },
  {
   "cell_type": "code",
   "execution_count": null,
   "metadata": {},
   "outputs": [],
   "source": []
  },
  {
   "cell_type": "code",
   "execution_count": null,
   "metadata": {},
   "outputs": [],
   "source": []
  },
  {
   "cell_type": "code",
   "execution_count": null,
   "metadata": {},
   "outputs": [],
   "source": []
  },
  {
   "cell_type": "code",
   "execution_count": null,
   "metadata": {},
   "outputs": [],
   "source": []
  },
  {
   "cell_type": "code",
   "execution_count": null,
   "metadata": {},
   "outputs": [],
   "source": []
  },
  {
   "cell_type": "code",
   "execution_count": null,
   "metadata": {},
   "outputs": [],
   "source": []
  },
  {
   "cell_type": "code",
   "execution_count": null,
   "metadata": {},
   "outputs": [],
   "source": []
  },
  {
   "cell_type": "code",
   "execution_count": null,
   "metadata": {},
   "outputs": [],
   "source": []
  },
  {
   "cell_type": "code",
   "execution_count": null,
   "metadata": {},
   "outputs": [],
   "source": []
  },
  {
   "cell_type": "code",
   "execution_count": null,
   "metadata": {},
   "outputs": [],
   "source": []
  },
  {
   "cell_type": "code",
   "execution_count": null,
   "metadata": {},
   "outputs": [],
   "source": []
  },
  {
   "cell_type": "code",
   "execution_count": null,
   "metadata": {},
   "outputs": [],
   "source": []
  },
  {
   "cell_type": "code",
   "execution_count": null,
   "metadata": {},
   "outputs": [],
   "source": []
  },
  {
   "cell_type": "code",
   "execution_count": null,
   "metadata": {},
   "outputs": [],
   "source": []
  },
  {
   "cell_type": "code",
   "execution_count": null,
   "metadata": {},
   "outputs": [],
   "source": []
  },
  {
   "cell_type": "code",
   "execution_count": null,
   "metadata": {},
   "outputs": [],
   "source": []
  },
  {
   "cell_type": "code",
   "execution_count": null,
   "metadata": {},
   "outputs": [],
   "source": []
  },
  {
   "cell_type": "code",
   "execution_count": null,
   "metadata": {},
   "outputs": [],
   "source": []
  },
  {
   "cell_type": "code",
   "execution_count": null,
   "metadata": {},
   "outputs": [],
   "source": []
  },
  {
   "cell_type": "code",
   "execution_count": null,
   "metadata": {},
   "outputs": [],
   "source": []
  },
  {
   "cell_type": "code",
   "execution_count": null,
   "metadata": {},
   "outputs": [],
   "source": []
  },
  {
   "cell_type": "code",
   "execution_count": null,
   "metadata": {},
   "outputs": [],
   "source": []
  },
  {
   "cell_type": "code",
   "execution_count": null,
   "metadata": {},
   "outputs": [],
   "source": []
  },
  {
   "cell_type": "code",
   "execution_count": null,
   "metadata": {},
   "outputs": [],
   "source": []
  },
  {
   "cell_type": "code",
   "execution_count": null,
   "metadata": {},
   "outputs": [],
   "source": []
  },
  {
   "cell_type": "code",
   "execution_count": null,
   "metadata": {},
   "outputs": [],
   "source": []
  },
  {
   "cell_type": "code",
   "execution_count": null,
   "metadata": {},
   "outputs": [],
   "source": []
  },
  {
   "cell_type": "code",
   "execution_count": null,
   "metadata": {},
   "outputs": [],
   "source": []
  },
  {
   "cell_type": "code",
   "execution_count": null,
   "metadata": {},
   "outputs": [],
   "source": []
  },
  {
   "cell_type": "code",
   "execution_count": null,
   "metadata": {},
   "outputs": [],
   "source": []
  },
  {
   "cell_type": "code",
   "execution_count": null,
   "metadata": {},
   "outputs": [],
   "source": []
  },
  {
   "cell_type": "code",
   "execution_count": null,
   "metadata": {},
   "outputs": [],
   "source": []
  },
  {
   "cell_type": "code",
   "execution_count": null,
   "metadata": {},
   "outputs": [],
   "source": []
  },
  {
   "cell_type": "code",
   "execution_count": null,
   "metadata": {},
   "outputs": [],
   "source": []
  },
  {
   "cell_type": "code",
   "execution_count": null,
   "metadata": {},
   "outputs": [],
   "source": []
  },
  {
   "cell_type": "code",
   "execution_count": null,
   "metadata": {},
   "outputs": [],
   "source": []
  }
 ],
 "metadata": {
  "kernelspec": {
   "display_name": "Python 3",
   "language": "python",
   "name": "python3"
  },
  "language_info": {
   "codemirror_mode": {
    "name": "ipython",
    "version": 3
   },
   "file_extension": ".py",
   "mimetype": "text/x-python",
   "name": "python",
   "nbconvert_exporter": "python",
   "pygments_lexer": "ipython3",
   "version": "3.7.3"
  }
 },
 "nbformat": 4,
 "nbformat_minor": 2
}
